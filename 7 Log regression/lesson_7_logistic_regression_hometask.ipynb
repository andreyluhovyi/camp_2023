{
 "cells": [
  {
   "cell_type": "markdown",
   "metadata": {},
   "source": [
    "<font color = green>\n",
    "\n",
    "# Logistic Regression #\n",
    "</font>"
   ]
  },
  {
   "cell_type": "markdown",
   "metadata": {},
   "source": [
    "<font color = green>\n",
    "\n",
    "## Import necessary packages\n",
    "\n",
    "</font>"
   ]
  },
  {
   "cell_type": "code",
   "execution_count": 43,
   "metadata": {},
   "outputs": [],
   "source": [
    "import numpy as np\n",
    "import matplotlib.pyplot as plt\n",
    "import h5py # common package to interact with a dataset that is stored on an H5 file.\n",
    "import scipy\n",
    "# from PIL import Image\n",
    "from scipy import ndimage"
   ]
  },
  {
   "cell_type": "code",
   "execution_count": 44,
   "metadata": {},
   "outputs": [],
   "source": [
    "%matplotlib notebook"
   ]
  },
  {
   "cell_type": "markdown",
   "metadata": {},
   "source": [
    "<font color = green>\n",
    "\n",
    "## Problem statement ##\n",
    "</font>\n",
    "\n",
    "\n",
    "Dataset (\"data.h5\") contains:\n",
    "- a training set of m_train images labeled as cat (y=1) or non-cat (y=0)\n",
    "- a test set of m_test images labeled as cat or non-cat\n",
    "- each image is of shape (num_px, num_px, 3) where 3 is for the 3 channels (RGB) (each image is square: height = num_px and width = num_px).\n",
    "\n",
    "Task is to build a simple image-classification algorithm that can correctly classify pictures as cat or non-cat."
   ]
  },
  {
   "cell_type": "markdown",
   "metadata": {},
   "source": [
    "<font color = green>\n",
    "\n",
    "## Overview dataset \n",
    "\n",
    "</font>"
   ]
  },
  {
   "cell_type": "markdown",
   "metadata": {},
   "source": [
    "<font color = green>\n",
    "\n",
    "### Create shortcut for path\n",
    "\n",
    "</font>"
   ]
  },
  {
   "cell_type": "code",
   "execution_count": 45,
   "metadata": {},
   "outputs": [
    {
     "name": "stdout",
     "output_type": "stream",
     "text": [
      "C:\\Users\\lygov\\data\n"
     ]
    }
   ],
   "source": [
    "import os\n",
    "cwd= os.getcwd() # current working directory\n",
    "path = os.path.join(cwd,'data') \n",
    "print (path)"
   ]
  },
  {
   "cell_type": "markdown",
   "metadata": {},
   "source": [
    "<font color = green>\n",
    "\n",
    "### Load dataset\n",
    "\n",
    "</font>"
   ]
  },
  {
   "cell_type": "code",
   "execution_count": 46,
   "metadata": {},
   "outputs": [],
   "source": [
    "def load_dataset():\n",
    "    file_name=  os.path.join(path , 'train_catvnoncat.h5')\n",
    "    train_dataset = h5py.File(file_name, \"r\")\n",
    "    X_train = np.array(train_dataset[\"train_set_x\"][:]) # your train set features\n",
    "    Y_train = np.array(train_dataset[\"train_set_y\"][:]) # your train set labels\n",
    "    \n",
    "    file_name=  os.path.join(path , 'test_catvnoncat.h5')\n",
    "    test_dataset = h5py.File(file_name, \"r\")\n",
    "    X_test = np.array(test_dataset[\"test_set_x\"][:]) # your test set features\n",
    "    Y_test = np.array(test_dataset[\"test_set_y\"][:]) # your test set labels\n",
    "\n",
    "    classes = ['non-cat','cat']\n",
    "    \n",
    "    Y_train = Y_train.reshape(-1,1)\n",
    "    Y_test = Y_test.reshape(-1,1)\n",
    "    \n",
    "    return X_train, Y_train, X_test, Y_test, classes"
   ]
  },
  {
   "cell_type": "code",
   "execution_count": 47,
   "metadata": {},
   "outputs": [],
   "source": [
    "X_train,Y_train, X_test, Y_test, classes = load_dataset()\n",
    "# Note : in case file not found, uncomment to print path in previous step and correct to necessary exrension"
   ]
  },
  {
   "cell_type": "code",
   "execution_count": 48,
   "metadata": {},
   "outputs": [
    {
     "name": "stdout",
     "output_type": "stream",
     "text": [
      "X_train.shape=  (209, 64, 64, 3)\n",
      "X_test.shape=  (50, 64, 64, 3)\n",
      "Y_train.shape=  (209, 1)\n",
      "Y_test.shape=  (50, 1)\n"
     ]
    }
   ],
   "source": [
    "print ('X_train.shape= ',X_train.shape)\n",
    "print ('X_test.shape= ',X_test.shape)\n",
    "print ('Y_train.shape= ',Y_train.shape)\n",
    "print ('Y_test.shape= ',Y_test.shape)"
   ]
  },
  {
   "cell_type": "code",
   "execution_count": 49,
   "metadata": {},
   "outputs": [],
   "source": [
    "# YOUR_CODE.   get m_train, num_px and m_test\n",
    "# START_CODE \n",
    "m_train = X_train.shape[0]\n",
    "num_px = X_train.shape[1]\n",
    "m_test = X_test.shape[0]\n",
    "# END_CODE "
   ]
  },
  {
   "cell_type": "markdown",
   "metadata": {},
   "source": [
    "<font color = blue >\n",
    "\n",
    "### Check result\n",
    "\n",
    "</font>\n"
   ]
  },
  {
   "cell_type": "code",
   "execution_count": 50,
   "metadata": {},
   "outputs": [
    {
     "name": "stdout",
     "output_type": "stream",
     "text": [
      "Number of training examples: m_train = 209\n",
      "Number of testing examples: m_test = 50\n",
      "Height/Width of each image: num_px = 64\n",
      "Each image is of size: (64, 64, 3)\n"
     ]
    }
   ],
   "source": [
    "print (\"Number of training examples: m_train = \" + str(m_train))\n",
    "print (\"Number of testing examples: m_test = \" + str(m_test))\n",
    "print (\"Height/Width of each image: num_px = \" + str(num_px))\n",
    "print (\"Each image is of size: (\" + str(num_px) + \", \" + str(num_px) + \", 3)\")\n"
   ]
  },
  {
   "cell_type": "markdown",
   "metadata": {},
   "source": [
    "<font color = blue >\n",
    "\n",
    "### Expected output\n",
    "\n",
    "</font>\n",
    "\n",
    "<br> `Number of training examples: m_train = 209` \n",
    "<br> `Number of testing examples: m_test = 50` \n",
    "<br> `Height/Width of each image: num_px = 64` \n",
    "<br> `Each image is of size: (64, 64, 3)` \n",
    "\n"
   ]
  },
  {
   "cell_type": "markdown",
   "metadata": {},
   "source": [
    "<font color = green>\n",
    "\n",
    "### Review some examples\n",
    "\n",
    "</font>"
   ]
  },
  {
   "cell_type": "code",
   "execution_count": 51,
   "metadata": {},
   "outputs": [
    {
     "data": {
      "application/javascript": [
       "/* Put everything inside the global mpl namespace */\n",
       "/* global mpl */\n",
       "window.mpl = {};\n",
       "\n",
       "mpl.get_websocket_type = function () {\n",
       "    if (typeof WebSocket !== 'undefined') {\n",
       "        return WebSocket;\n",
       "    } else if (typeof MozWebSocket !== 'undefined') {\n",
       "        return MozWebSocket;\n",
       "    } else {\n",
       "        alert(\n",
       "            'Your browser does not have WebSocket support. ' +\n",
       "                'Please try Chrome, Safari or Firefox ≥ 6. ' +\n",
       "                'Firefox 4 and 5 are also supported but you ' +\n",
       "                'have to enable WebSockets in about:config.'\n",
       "        );\n",
       "    }\n",
       "};\n",
       "\n",
       "mpl.figure = function (figure_id, websocket, ondownload, parent_element) {\n",
       "    this.id = figure_id;\n",
       "\n",
       "    this.ws = websocket;\n",
       "\n",
       "    this.supports_binary = this.ws.binaryType !== undefined;\n",
       "\n",
       "    if (!this.supports_binary) {\n",
       "        var warnings = document.getElementById('mpl-warnings');\n",
       "        if (warnings) {\n",
       "            warnings.style.display = 'block';\n",
       "            warnings.textContent =\n",
       "                'This browser does not support binary websocket messages. ' +\n",
       "                'Performance may be slow.';\n",
       "        }\n",
       "    }\n",
       "\n",
       "    this.imageObj = new Image();\n",
       "\n",
       "    this.context = undefined;\n",
       "    this.message = undefined;\n",
       "    this.canvas = undefined;\n",
       "    this.rubberband_canvas = undefined;\n",
       "    this.rubberband_context = undefined;\n",
       "    this.format_dropdown = undefined;\n",
       "\n",
       "    this.image_mode = 'full';\n",
       "\n",
       "    this.root = document.createElement('div');\n",
       "    this.root.setAttribute('style', 'display: inline-block');\n",
       "    this._root_extra_style(this.root);\n",
       "\n",
       "    parent_element.appendChild(this.root);\n",
       "\n",
       "    this._init_header(this);\n",
       "    this._init_canvas(this);\n",
       "    this._init_toolbar(this);\n",
       "\n",
       "    var fig = this;\n",
       "\n",
       "    this.waiting = false;\n",
       "\n",
       "    this.ws.onopen = function () {\n",
       "        fig.send_message('supports_binary', { value: fig.supports_binary });\n",
       "        fig.send_message('send_image_mode', {});\n",
       "        if (fig.ratio !== 1) {\n",
       "            fig.send_message('set_device_pixel_ratio', {\n",
       "                device_pixel_ratio: fig.ratio,\n",
       "            });\n",
       "        }\n",
       "        fig.send_message('refresh', {});\n",
       "    };\n",
       "\n",
       "    this.imageObj.onload = function () {\n",
       "        if (fig.image_mode === 'full') {\n",
       "            // Full images could contain transparency (where diff images\n",
       "            // almost always do), so we need to clear the canvas so that\n",
       "            // there is no ghosting.\n",
       "            fig.context.clearRect(0, 0, fig.canvas.width, fig.canvas.height);\n",
       "        }\n",
       "        fig.context.drawImage(fig.imageObj, 0, 0);\n",
       "    };\n",
       "\n",
       "    this.imageObj.onunload = function () {\n",
       "        fig.ws.close();\n",
       "    };\n",
       "\n",
       "    this.ws.onmessage = this._make_on_message_function(this);\n",
       "\n",
       "    this.ondownload = ondownload;\n",
       "};\n",
       "\n",
       "mpl.figure.prototype._init_header = function () {\n",
       "    var titlebar = document.createElement('div');\n",
       "    titlebar.classList =\n",
       "        'ui-dialog-titlebar ui-widget-header ui-corner-all ui-helper-clearfix';\n",
       "    var titletext = document.createElement('div');\n",
       "    titletext.classList = 'ui-dialog-title';\n",
       "    titletext.setAttribute(\n",
       "        'style',\n",
       "        'width: 100%; text-align: center; padding: 3px;'\n",
       "    );\n",
       "    titlebar.appendChild(titletext);\n",
       "    this.root.appendChild(titlebar);\n",
       "    this.header = titletext;\n",
       "};\n",
       "\n",
       "mpl.figure.prototype._canvas_extra_style = function (_canvas_div) {};\n",
       "\n",
       "mpl.figure.prototype._root_extra_style = function (_canvas_div) {};\n",
       "\n",
       "mpl.figure.prototype._init_canvas = function () {\n",
       "    var fig = this;\n",
       "\n",
       "    var canvas_div = (this.canvas_div = document.createElement('div'));\n",
       "    canvas_div.setAttribute('tabindex', '0');\n",
       "    canvas_div.setAttribute(\n",
       "        'style',\n",
       "        'border: 1px solid #ddd;' +\n",
       "            'box-sizing: content-box;' +\n",
       "            'clear: both;' +\n",
       "            'min-height: 1px;' +\n",
       "            'min-width: 1px;' +\n",
       "            'outline: 0;' +\n",
       "            'overflow: hidden;' +\n",
       "            'position: relative;' +\n",
       "            'resize: both;' +\n",
       "            'z-index: 2;'\n",
       "    );\n",
       "\n",
       "    function on_keyboard_event_closure(name) {\n",
       "        return function (event) {\n",
       "            return fig.key_event(event, name);\n",
       "        };\n",
       "    }\n",
       "\n",
       "    canvas_div.addEventListener(\n",
       "        'keydown',\n",
       "        on_keyboard_event_closure('key_press')\n",
       "    );\n",
       "    canvas_div.addEventListener(\n",
       "        'keyup',\n",
       "        on_keyboard_event_closure('key_release')\n",
       "    );\n",
       "\n",
       "    this._canvas_extra_style(canvas_div);\n",
       "    this.root.appendChild(canvas_div);\n",
       "\n",
       "    var canvas = (this.canvas = document.createElement('canvas'));\n",
       "    canvas.classList.add('mpl-canvas');\n",
       "    canvas.setAttribute(\n",
       "        'style',\n",
       "        'box-sizing: content-box;' +\n",
       "            'pointer-events: none;' +\n",
       "            'position: relative;' +\n",
       "            'z-index: 0;'\n",
       "    );\n",
       "\n",
       "    this.context = canvas.getContext('2d');\n",
       "\n",
       "    var backingStore =\n",
       "        this.context.backingStorePixelRatio ||\n",
       "        this.context.webkitBackingStorePixelRatio ||\n",
       "        this.context.mozBackingStorePixelRatio ||\n",
       "        this.context.msBackingStorePixelRatio ||\n",
       "        this.context.oBackingStorePixelRatio ||\n",
       "        this.context.backingStorePixelRatio ||\n",
       "        1;\n",
       "\n",
       "    this.ratio = (window.devicePixelRatio || 1) / backingStore;\n",
       "\n",
       "    var rubberband_canvas = (this.rubberband_canvas = document.createElement(\n",
       "        'canvas'\n",
       "    ));\n",
       "    rubberband_canvas.setAttribute(\n",
       "        'style',\n",
       "        'box-sizing: content-box;' +\n",
       "            'left: 0;' +\n",
       "            'pointer-events: none;' +\n",
       "            'position: absolute;' +\n",
       "            'top: 0;' +\n",
       "            'z-index: 1;'\n",
       "    );\n",
       "\n",
       "    // Apply a ponyfill if ResizeObserver is not implemented by browser.\n",
       "    if (this.ResizeObserver === undefined) {\n",
       "        if (window.ResizeObserver !== undefined) {\n",
       "            this.ResizeObserver = window.ResizeObserver;\n",
       "        } else {\n",
       "            var obs = _JSXTOOLS_RESIZE_OBSERVER({});\n",
       "            this.ResizeObserver = obs.ResizeObserver;\n",
       "        }\n",
       "    }\n",
       "\n",
       "    this.resizeObserverInstance = new this.ResizeObserver(function (entries) {\n",
       "        var nentries = entries.length;\n",
       "        for (var i = 0; i < nentries; i++) {\n",
       "            var entry = entries[i];\n",
       "            var width, height;\n",
       "            if (entry.contentBoxSize) {\n",
       "                if (entry.contentBoxSize instanceof Array) {\n",
       "                    // Chrome 84 implements new version of spec.\n",
       "                    width = entry.contentBoxSize[0].inlineSize;\n",
       "                    height = entry.contentBoxSize[0].blockSize;\n",
       "                } else {\n",
       "                    // Firefox implements old version of spec.\n",
       "                    width = entry.contentBoxSize.inlineSize;\n",
       "                    height = entry.contentBoxSize.blockSize;\n",
       "                }\n",
       "            } else {\n",
       "                // Chrome <84 implements even older version of spec.\n",
       "                width = entry.contentRect.width;\n",
       "                height = entry.contentRect.height;\n",
       "            }\n",
       "\n",
       "            // Keep the size of the canvas and rubber band canvas in sync with\n",
       "            // the canvas container.\n",
       "            if (entry.devicePixelContentBoxSize) {\n",
       "                // Chrome 84 implements new version of spec.\n",
       "                canvas.setAttribute(\n",
       "                    'width',\n",
       "                    entry.devicePixelContentBoxSize[0].inlineSize\n",
       "                );\n",
       "                canvas.setAttribute(\n",
       "                    'height',\n",
       "                    entry.devicePixelContentBoxSize[0].blockSize\n",
       "                );\n",
       "            } else {\n",
       "                canvas.setAttribute('width', width * fig.ratio);\n",
       "                canvas.setAttribute('height', height * fig.ratio);\n",
       "            }\n",
       "            /* This rescales the canvas back to display pixels, so that it\n",
       "             * appears correct on HiDPI screens. */\n",
       "            canvas.style.width = width + 'px';\n",
       "            canvas.style.height = height + 'px';\n",
       "\n",
       "            rubberband_canvas.setAttribute('width', width);\n",
       "            rubberband_canvas.setAttribute('height', height);\n",
       "\n",
       "            // And update the size in Python. We ignore the initial 0/0 size\n",
       "            // that occurs as the element is placed into the DOM, which should\n",
       "            // otherwise not happen due to the minimum size styling.\n",
       "            if (fig.ws.readyState == 1 && width != 0 && height != 0) {\n",
       "                fig.request_resize(width, height);\n",
       "            }\n",
       "        }\n",
       "    });\n",
       "    this.resizeObserverInstance.observe(canvas_div);\n",
       "\n",
       "    function on_mouse_event_closure(name) {\n",
       "        /* User Agent sniffing is bad, but WebKit is busted:\n",
       "         * https://bugs.webkit.org/show_bug.cgi?id=144526\n",
       "         * https://bugs.webkit.org/show_bug.cgi?id=181818\n",
       "         * The worst that happens here is that they get an extra browser\n",
       "         * selection when dragging, if this check fails to catch them.\n",
       "         */\n",
       "        var UA = navigator.userAgent;\n",
       "        var isWebKit = /AppleWebKit/.test(UA) && !/Chrome/.test(UA);\n",
       "        if(isWebKit) {\n",
       "            return function (event) {\n",
       "                /* This prevents the web browser from automatically changing to\n",
       "                 * the text insertion cursor when the button is pressed. We\n",
       "                 * want to control all of the cursor setting manually through\n",
       "                 * the 'cursor' event from matplotlib */\n",
       "                event.preventDefault()\n",
       "                return fig.mouse_event(event, name);\n",
       "            };\n",
       "        } else {\n",
       "            return function (event) {\n",
       "                return fig.mouse_event(event, name);\n",
       "            };\n",
       "        }\n",
       "    }\n",
       "\n",
       "    canvas_div.addEventListener(\n",
       "        'mousedown',\n",
       "        on_mouse_event_closure('button_press')\n",
       "    );\n",
       "    canvas_div.addEventListener(\n",
       "        'mouseup',\n",
       "        on_mouse_event_closure('button_release')\n",
       "    );\n",
       "    canvas_div.addEventListener(\n",
       "        'dblclick',\n",
       "        on_mouse_event_closure('dblclick')\n",
       "    );\n",
       "    // Throttle sequential mouse events to 1 every 20ms.\n",
       "    canvas_div.addEventListener(\n",
       "        'mousemove',\n",
       "        on_mouse_event_closure('motion_notify')\n",
       "    );\n",
       "\n",
       "    canvas_div.addEventListener(\n",
       "        'mouseenter',\n",
       "        on_mouse_event_closure('figure_enter')\n",
       "    );\n",
       "    canvas_div.addEventListener(\n",
       "        'mouseleave',\n",
       "        on_mouse_event_closure('figure_leave')\n",
       "    );\n",
       "\n",
       "    canvas_div.addEventListener('wheel', function (event) {\n",
       "        if (event.deltaY < 0) {\n",
       "            event.step = 1;\n",
       "        } else {\n",
       "            event.step = -1;\n",
       "        }\n",
       "        on_mouse_event_closure('scroll')(event);\n",
       "    });\n",
       "\n",
       "    canvas_div.appendChild(canvas);\n",
       "    canvas_div.appendChild(rubberband_canvas);\n",
       "\n",
       "    this.rubberband_context = rubberband_canvas.getContext('2d');\n",
       "    this.rubberband_context.strokeStyle = '#000000';\n",
       "\n",
       "    this._resize_canvas = function (width, height, forward) {\n",
       "        if (forward) {\n",
       "            canvas_div.style.width = width + 'px';\n",
       "            canvas_div.style.height = height + 'px';\n",
       "        }\n",
       "    };\n",
       "\n",
       "    // Disable right mouse context menu.\n",
       "    canvas_div.addEventListener('contextmenu', function (_e) {\n",
       "        event.preventDefault();\n",
       "        return false;\n",
       "    });\n",
       "\n",
       "    function set_focus() {\n",
       "        canvas.focus();\n",
       "        canvas_div.focus();\n",
       "    }\n",
       "\n",
       "    window.setTimeout(set_focus, 100);\n",
       "};\n",
       "\n",
       "mpl.figure.prototype._init_toolbar = function () {\n",
       "    var fig = this;\n",
       "\n",
       "    var toolbar = document.createElement('div');\n",
       "    toolbar.classList = 'mpl-toolbar';\n",
       "    this.root.appendChild(toolbar);\n",
       "\n",
       "    function on_click_closure(name) {\n",
       "        return function (_event) {\n",
       "            return fig.toolbar_button_onclick(name);\n",
       "        };\n",
       "    }\n",
       "\n",
       "    function on_mouseover_closure(tooltip) {\n",
       "        return function (event) {\n",
       "            if (!event.currentTarget.disabled) {\n",
       "                return fig.toolbar_button_onmouseover(tooltip);\n",
       "            }\n",
       "        };\n",
       "    }\n",
       "\n",
       "    fig.buttons = {};\n",
       "    var buttonGroup = document.createElement('div');\n",
       "    buttonGroup.classList = 'mpl-button-group';\n",
       "    for (var toolbar_ind in mpl.toolbar_items) {\n",
       "        var name = mpl.toolbar_items[toolbar_ind][0];\n",
       "        var tooltip = mpl.toolbar_items[toolbar_ind][1];\n",
       "        var image = mpl.toolbar_items[toolbar_ind][2];\n",
       "        var method_name = mpl.toolbar_items[toolbar_ind][3];\n",
       "\n",
       "        if (!name) {\n",
       "            /* Instead of a spacer, we start a new button group. */\n",
       "            if (buttonGroup.hasChildNodes()) {\n",
       "                toolbar.appendChild(buttonGroup);\n",
       "            }\n",
       "            buttonGroup = document.createElement('div');\n",
       "            buttonGroup.classList = 'mpl-button-group';\n",
       "            continue;\n",
       "        }\n",
       "\n",
       "        var button = (fig.buttons[name] = document.createElement('button'));\n",
       "        button.classList = 'mpl-widget';\n",
       "        button.setAttribute('role', 'button');\n",
       "        button.setAttribute('aria-disabled', 'false');\n",
       "        button.addEventListener('click', on_click_closure(method_name));\n",
       "        button.addEventListener('mouseover', on_mouseover_closure(tooltip));\n",
       "\n",
       "        var icon_img = document.createElement('img');\n",
       "        icon_img.src = '_images/' + image + '.png';\n",
       "        icon_img.srcset = '_images/' + image + '_large.png 2x';\n",
       "        icon_img.alt = tooltip;\n",
       "        button.appendChild(icon_img);\n",
       "\n",
       "        buttonGroup.appendChild(button);\n",
       "    }\n",
       "\n",
       "    if (buttonGroup.hasChildNodes()) {\n",
       "        toolbar.appendChild(buttonGroup);\n",
       "    }\n",
       "\n",
       "    var fmt_picker = document.createElement('select');\n",
       "    fmt_picker.classList = 'mpl-widget';\n",
       "    toolbar.appendChild(fmt_picker);\n",
       "    this.format_dropdown = fmt_picker;\n",
       "\n",
       "    for (var ind in mpl.extensions) {\n",
       "        var fmt = mpl.extensions[ind];\n",
       "        var option = document.createElement('option');\n",
       "        option.selected = fmt === mpl.default_extension;\n",
       "        option.innerHTML = fmt;\n",
       "        fmt_picker.appendChild(option);\n",
       "    }\n",
       "\n",
       "    var status_bar = document.createElement('span');\n",
       "    status_bar.classList = 'mpl-message';\n",
       "    toolbar.appendChild(status_bar);\n",
       "    this.message = status_bar;\n",
       "};\n",
       "\n",
       "mpl.figure.prototype.request_resize = function (x_pixels, y_pixels) {\n",
       "    // Request matplotlib to resize the figure. Matplotlib will then trigger a resize in the client,\n",
       "    // which will in turn request a refresh of the image.\n",
       "    this.send_message('resize', { width: x_pixels, height: y_pixels });\n",
       "};\n",
       "\n",
       "mpl.figure.prototype.send_message = function (type, properties) {\n",
       "    properties['type'] = type;\n",
       "    properties['figure_id'] = this.id;\n",
       "    this.ws.send(JSON.stringify(properties));\n",
       "};\n",
       "\n",
       "mpl.figure.prototype.send_draw_message = function () {\n",
       "    if (!this.waiting) {\n",
       "        this.waiting = true;\n",
       "        this.ws.send(JSON.stringify({ type: 'draw', figure_id: this.id }));\n",
       "    }\n",
       "};\n",
       "\n",
       "mpl.figure.prototype.handle_save = function (fig, _msg) {\n",
       "    var format_dropdown = fig.format_dropdown;\n",
       "    var format = format_dropdown.options[format_dropdown.selectedIndex].value;\n",
       "    fig.ondownload(fig, format);\n",
       "};\n",
       "\n",
       "mpl.figure.prototype.handle_resize = function (fig, msg) {\n",
       "    var size = msg['size'];\n",
       "    if (size[0] !== fig.canvas.width || size[1] !== fig.canvas.height) {\n",
       "        fig._resize_canvas(size[0], size[1], msg['forward']);\n",
       "        fig.send_message('refresh', {});\n",
       "    }\n",
       "};\n",
       "\n",
       "mpl.figure.prototype.handle_rubberband = function (fig, msg) {\n",
       "    var x0 = msg['x0'] / fig.ratio;\n",
       "    var y0 = (fig.canvas.height - msg['y0']) / fig.ratio;\n",
       "    var x1 = msg['x1'] / fig.ratio;\n",
       "    var y1 = (fig.canvas.height - msg['y1']) / fig.ratio;\n",
       "    x0 = Math.floor(x0) + 0.5;\n",
       "    y0 = Math.floor(y0) + 0.5;\n",
       "    x1 = Math.floor(x1) + 0.5;\n",
       "    y1 = Math.floor(y1) + 0.5;\n",
       "    var min_x = Math.min(x0, x1);\n",
       "    var min_y = Math.min(y0, y1);\n",
       "    var width = Math.abs(x1 - x0);\n",
       "    var height = Math.abs(y1 - y0);\n",
       "\n",
       "    fig.rubberband_context.clearRect(\n",
       "        0,\n",
       "        0,\n",
       "        fig.canvas.width / fig.ratio,\n",
       "        fig.canvas.height / fig.ratio\n",
       "    );\n",
       "\n",
       "    fig.rubberband_context.strokeRect(min_x, min_y, width, height);\n",
       "};\n",
       "\n",
       "mpl.figure.prototype.handle_figure_label = function (fig, msg) {\n",
       "    // Updates the figure title.\n",
       "    fig.header.textContent = msg['label'];\n",
       "};\n",
       "\n",
       "mpl.figure.prototype.handle_cursor = function (fig, msg) {\n",
       "    fig.canvas_div.style.cursor = msg['cursor'];\n",
       "};\n",
       "\n",
       "mpl.figure.prototype.handle_message = function (fig, msg) {\n",
       "    fig.message.textContent = msg['message'];\n",
       "};\n",
       "\n",
       "mpl.figure.prototype.handle_draw = function (fig, _msg) {\n",
       "    // Request the server to send over a new figure.\n",
       "    fig.send_draw_message();\n",
       "};\n",
       "\n",
       "mpl.figure.prototype.handle_image_mode = function (fig, msg) {\n",
       "    fig.image_mode = msg['mode'];\n",
       "};\n",
       "\n",
       "mpl.figure.prototype.handle_history_buttons = function (fig, msg) {\n",
       "    for (var key in msg) {\n",
       "        if (!(key in fig.buttons)) {\n",
       "            continue;\n",
       "        }\n",
       "        fig.buttons[key].disabled = !msg[key];\n",
       "        fig.buttons[key].setAttribute('aria-disabled', !msg[key]);\n",
       "    }\n",
       "};\n",
       "\n",
       "mpl.figure.prototype.handle_navigate_mode = function (fig, msg) {\n",
       "    if (msg['mode'] === 'PAN') {\n",
       "        fig.buttons['Pan'].classList.add('active');\n",
       "        fig.buttons['Zoom'].classList.remove('active');\n",
       "    } else if (msg['mode'] === 'ZOOM') {\n",
       "        fig.buttons['Pan'].classList.remove('active');\n",
       "        fig.buttons['Zoom'].classList.add('active');\n",
       "    } else {\n",
       "        fig.buttons['Pan'].classList.remove('active');\n",
       "        fig.buttons['Zoom'].classList.remove('active');\n",
       "    }\n",
       "};\n",
       "\n",
       "mpl.figure.prototype.updated_canvas_event = function () {\n",
       "    // Called whenever the canvas gets updated.\n",
       "    this.send_message('ack', {});\n",
       "};\n",
       "\n",
       "// A function to construct a web socket function for onmessage handling.\n",
       "// Called in the figure constructor.\n",
       "mpl.figure.prototype._make_on_message_function = function (fig) {\n",
       "    return function socket_on_message(evt) {\n",
       "        if (evt.data instanceof Blob) {\n",
       "            var img = evt.data;\n",
       "            if (img.type !== 'image/png') {\n",
       "                /* FIXME: We get \"Resource interpreted as Image but\n",
       "                 * transferred with MIME type text/plain:\" errors on\n",
       "                 * Chrome.  But how to set the MIME type?  It doesn't seem\n",
       "                 * to be part of the websocket stream */\n",
       "                img.type = 'image/png';\n",
       "            }\n",
       "\n",
       "            /* Free the memory for the previous frames */\n",
       "            if (fig.imageObj.src) {\n",
       "                (window.URL || window.webkitURL).revokeObjectURL(\n",
       "                    fig.imageObj.src\n",
       "                );\n",
       "            }\n",
       "\n",
       "            fig.imageObj.src = (window.URL || window.webkitURL).createObjectURL(\n",
       "                img\n",
       "            );\n",
       "            fig.updated_canvas_event();\n",
       "            fig.waiting = false;\n",
       "            return;\n",
       "        } else if (\n",
       "            typeof evt.data === 'string' &&\n",
       "            evt.data.slice(0, 21) === 'data:image/png;base64'\n",
       "        ) {\n",
       "            fig.imageObj.src = evt.data;\n",
       "            fig.updated_canvas_event();\n",
       "            fig.waiting = false;\n",
       "            return;\n",
       "        }\n",
       "\n",
       "        var msg = JSON.parse(evt.data);\n",
       "        var msg_type = msg['type'];\n",
       "\n",
       "        // Call the  \"handle_{type}\" callback, which takes\n",
       "        // the figure and JSON message as its only arguments.\n",
       "        try {\n",
       "            var callback = fig['handle_' + msg_type];\n",
       "        } catch (e) {\n",
       "            console.log(\n",
       "                \"No handler for the '\" + msg_type + \"' message type: \",\n",
       "                msg\n",
       "            );\n",
       "            return;\n",
       "        }\n",
       "\n",
       "        if (callback) {\n",
       "            try {\n",
       "                // console.log(\"Handling '\" + msg_type + \"' message: \", msg);\n",
       "                callback(fig, msg);\n",
       "            } catch (e) {\n",
       "                console.log(\n",
       "                    \"Exception inside the 'handler_\" + msg_type + \"' callback:\",\n",
       "                    e,\n",
       "                    e.stack,\n",
       "                    msg\n",
       "                );\n",
       "            }\n",
       "        }\n",
       "    };\n",
       "};\n",
       "\n",
       "function getModifiers(event) {\n",
       "    var mods = [];\n",
       "    if (event.ctrlKey) {\n",
       "        mods.push('ctrl');\n",
       "    }\n",
       "    if (event.altKey) {\n",
       "        mods.push('alt');\n",
       "    }\n",
       "    if (event.shiftKey) {\n",
       "        mods.push('shift');\n",
       "    }\n",
       "    if (event.metaKey) {\n",
       "        mods.push('meta');\n",
       "    }\n",
       "    return mods;\n",
       "}\n",
       "\n",
       "/*\n",
       " * return a copy of an object with only non-object keys\n",
       " * we need this to avoid circular references\n",
       " * https://stackoverflow.com/a/24161582/3208463\n",
       " */\n",
       "function simpleKeys(original) {\n",
       "    return Object.keys(original).reduce(function (obj, key) {\n",
       "        if (typeof original[key] !== 'object') {\n",
       "            obj[key] = original[key];\n",
       "        }\n",
       "        return obj;\n",
       "    }, {});\n",
       "}\n",
       "\n",
       "mpl.figure.prototype.mouse_event = function (event, name) {\n",
       "    if (name === 'button_press') {\n",
       "        this.canvas.focus();\n",
       "        this.canvas_div.focus();\n",
       "    }\n",
       "\n",
       "    // from https://stackoverflow.com/q/1114465\n",
       "    var boundingRect = this.canvas.getBoundingClientRect();\n",
       "    var x = (event.clientX - boundingRect.left) * this.ratio;\n",
       "    var y = (event.clientY - boundingRect.top) * this.ratio;\n",
       "\n",
       "    this.send_message(name, {\n",
       "        x: x,\n",
       "        y: y,\n",
       "        button: event.button,\n",
       "        step: event.step,\n",
       "        modifiers: getModifiers(event),\n",
       "        guiEvent: simpleKeys(event),\n",
       "    });\n",
       "\n",
       "    return false;\n",
       "};\n",
       "\n",
       "mpl.figure.prototype._key_event_extra = function (_event, _name) {\n",
       "    // Handle any extra behaviour associated with a key event\n",
       "};\n",
       "\n",
       "mpl.figure.prototype.key_event = function (event, name) {\n",
       "    // Prevent repeat events\n",
       "    if (name === 'key_press') {\n",
       "        if (event.key === this._key) {\n",
       "            return;\n",
       "        } else {\n",
       "            this._key = event.key;\n",
       "        }\n",
       "    }\n",
       "    if (name === 'key_release') {\n",
       "        this._key = null;\n",
       "    }\n",
       "\n",
       "    var value = '';\n",
       "    if (event.ctrlKey && event.key !== 'Control') {\n",
       "        value += 'ctrl+';\n",
       "    }\n",
       "    else if (event.altKey && event.key !== 'Alt') {\n",
       "        value += 'alt+';\n",
       "    }\n",
       "    else if (event.shiftKey && event.key !== 'Shift') {\n",
       "        value += 'shift+';\n",
       "    }\n",
       "\n",
       "    value += 'k' + event.key;\n",
       "\n",
       "    this._key_event_extra(event, name);\n",
       "\n",
       "    this.send_message(name, { key: value, guiEvent: simpleKeys(event) });\n",
       "    return false;\n",
       "};\n",
       "\n",
       "mpl.figure.prototype.toolbar_button_onclick = function (name) {\n",
       "    if (name === 'download') {\n",
       "        this.handle_save(this, null);\n",
       "    } else {\n",
       "        this.send_message('toolbar_button', { name: name });\n",
       "    }\n",
       "};\n",
       "\n",
       "mpl.figure.prototype.toolbar_button_onmouseover = function (tooltip) {\n",
       "    this.message.textContent = tooltip;\n",
       "};\n",
       "\n",
       "///////////////// REMAINING CONTENT GENERATED BY embed_js.py /////////////////\n",
       "// prettier-ignore\n",
       "var _JSXTOOLS_RESIZE_OBSERVER=function(A){var t,i=new WeakMap,n=new WeakMap,a=new WeakMap,r=new WeakMap,o=new Set;function s(e){if(!(this instanceof s))throw new TypeError(\"Constructor requires 'new' operator\");i.set(this,e)}function h(){throw new TypeError(\"Function is not a constructor\")}function c(e,t,i,n){e=0 in arguments?Number(arguments[0]):0,t=1 in arguments?Number(arguments[1]):0,i=2 in arguments?Number(arguments[2]):0,n=3 in arguments?Number(arguments[3]):0,this.right=(this.x=this.left=e)+(this.width=i),this.bottom=(this.y=this.top=t)+(this.height=n),Object.freeze(this)}function d(){t=requestAnimationFrame(d);var s=new WeakMap,p=new Set;o.forEach((function(t){r.get(t).forEach((function(i){var r=t instanceof window.SVGElement,o=a.get(t),d=r?0:parseFloat(o.paddingTop),f=r?0:parseFloat(o.paddingRight),l=r?0:parseFloat(o.paddingBottom),u=r?0:parseFloat(o.paddingLeft),g=r?0:parseFloat(o.borderTopWidth),m=r?0:parseFloat(o.borderRightWidth),w=r?0:parseFloat(o.borderBottomWidth),b=u+f,F=d+l,v=(r?0:parseFloat(o.borderLeftWidth))+m,W=g+w,y=r?0:t.offsetHeight-W-t.clientHeight,E=r?0:t.offsetWidth-v-t.clientWidth,R=b+v,z=F+W,M=r?t.width:parseFloat(o.width)-R-E,O=r?t.height:parseFloat(o.height)-z-y;if(n.has(t)){var k=n.get(t);if(k[0]===M&&k[1]===O)return}n.set(t,[M,O]);var S=Object.create(h.prototype);S.target=t,S.contentRect=new c(u,d,M,O),s.has(i)||(s.set(i,[]),p.add(i)),s.get(i).push(S)}))})),p.forEach((function(e){i.get(e).call(e,s.get(e),e)}))}return s.prototype.observe=function(i){if(i instanceof window.Element){r.has(i)||(r.set(i,new Set),o.add(i),a.set(i,window.getComputedStyle(i)));var n=r.get(i);n.has(this)||n.add(this),cancelAnimationFrame(t),t=requestAnimationFrame(d)}},s.prototype.unobserve=function(i){if(i instanceof window.Element&&r.has(i)){var n=r.get(i);n.has(this)&&(n.delete(this),n.size||(r.delete(i),o.delete(i))),n.size||r.delete(i),o.size||cancelAnimationFrame(t)}},A.DOMRectReadOnly=c,A.ResizeObserver=s,A.ResizeObserverEntry=h,A}; // eslint-disable-line\n",
       "mpl.toolbar_items = [[\"Home\", \"Reset original view\", \"fa fa-home\", \"home\"], [\"Back\", \"Back to previous view\", \"fa fa-arrow-left\", \"back\"], [\"Forward\", \"Forward to next view\", \"fa fa-arrow-right\", \"forward\"], [\"\", \"\", \"\", \"\"], [\"Pan\", \"Left button pans, Right button zooms\\nx/y fixes axis, CTRL fixes aspect\", \"fa fa-arrows\", \"pan\"], [\"Zoom\", \"Zoom to rectangle\\nx/y fixes axis\", \"fa fa-square-o\", \"zoom\"], [\"\", \"\", \"\", \"\"], [\"Download\", \"Download plot\", \"fa fa-floppy-o\", \"download\"]];\n",
       "\n",
       "mpl.extensions = [\"eps\", \"jpeg\", \"pgf\", \"pdf\", \"png\", \"ps\", \"raw\", \"svg\", \"tif\", \"webp\"];\n",
       "\n",
       "mpl.default_extension = \"png\";/* global mpl */\n",
       "\n",
       "var comm_websocket_adapter = function (comm) {\n",
       "    // Create a \"websocket\"-like object which calls the given IPython comm\n",
       "    // object with the appropriate methods. Currently this is a non binary\n",
       "    // socket, so there is still some room for performance tuning.\n",
       "    var ws = {};\n",
       "\n",
       "    ws.binaryType = comm.kernel.ws.binaryType;\n",
       "    ws.readyState = comm.kernel.ws.readyState;\n",
       "    function updateReadyState(_event) {\n",
       "        if (comm.kernel.ws) {\n",
       "            ws.readyState = comm.kernel.ws.readyState;\n",
       "        } else {\n",
       "            ws.readyState = 3; // Closed state.\n",
       "        }\n",
       "    }\n",
       "    comm.kernel.ws.addEventListener('open', updateReadyState);\n",
       "    comm.kernel.ws.addEventListener('close', updateReadyState);\n",
       "    comm.kernel.ws.addEventListener('error', updateReadyState);\n",
       "\n",
       "    ws.close = function () {\n",
       "        comm.close();\n",
       "    };\n",
       "    ws.send = function (m) {\n",
       "        //console.log('sending', m);\n",
       "        comm.send(m);\n",
       "    };\n",
       "    // Register the callback with on_msg.\n",
       "    comm.on_msg(function (msg) {\n",
       "        //console.log('receiving', msg['content']['data'], msg);\n",
       "        var data = msg['content']['data'];\n",
       "        if (data['blob'] !== undefined) {\n",
       "            data = {\n",
       "                data: new Blob(msg['buffers'], { type: data['blob'] }),\n",
       "            };\n",
       "        }\n",
       "        // Pass the mpl event to the overridden (by mpl) onmessage function.\n",
       "        ws.onmessage(data);\n",
       "    });\n",
       "    return ws;\n",
       "};\n",
       "\n",
       "mpl.mpl_figure_comm = function (comm, msg) {\n",
       "    // This is the function which gets called when the mpl process\n",
       "    // starts-up an IPython Comm through the \"matplotlib\" channel.\n",
       "\n",
       "    var id = msg.content.data.id;\n",
       "    // Get hold of the div created by the display call when the Comm\n",
       "    // socket was opened in Python.\n",
       "    var element = document.getElementById(id);\n",
       "    var ws_proxy = comm_websocket_adapter(comm);\n",
       "\n",
       "    function ondownload(figure, _format) {\n",
       "        window.open(figure.canvas.toDataURL());\n",
       "    }\n",
       "\n",
       "    var fig = new mpl.figure(id, ws_proxy, ondownload, element);\n",
       "\n",
       "    // Call onopen now - mpl needs it, as it is assuming we've passed it a real\n",
       "    // web socket which is closed, not our websocket->open comm proxy.\n",
       "    ws_proxy.onopen();\n",
       "\n",
       "    fig.parent_element = element;\n",
       "    fig.cell_info = mpl.find_output_cell(\"<div id='\" + id + \"'></div>\");\n",
       "    if (!fig.cell_info) {\n",
       "        console.error('Failed to find cell for figure', id, fig);\n",
       "        return;\n",
       "    }\n",
       "    fig.cell_info[0].output_area.element.on(\n",
       "        'cleared',\n",
       "        { fig: fig },\n",
       "        fig._remove_fig_handler\n",
       "    );\n",
       "};\n",
       "\n",
       "mpl.figure.prototype.handle_close = function (fig, msg) {\n",
       "    var width = fig.canvas.width / fig.ratio;\n",
       "    fig.cell_info[0].output_area.element.off(\n",
       "        'cleared',\n",
       "        fig._remove_fig_handler\n",
       "    );\n",
       "    fig.resizeObserverInstance.unobserve(fig.canvas_div);\n",
       "\n",
       "    // Update the output cell to use the data from the current canvas.\n",
       "    fig.push_to_output();\n",
       "    var dataURL = fig.canvas.toDataURL();\n",
       "    // Re-enable the keyboard manager in IPython - without this line, in FF,\n",
       "    // the notebook keyboard shortcuts fail.\n",
       "    IPython.keyboard_manager.enable();\n",
       "    fig.parent_element.innerHTML =\n",
       "        '<img src=\"' + dataURL + '\" width=\"' + width + '\">';\n",
       "    fig.close_ws(fig, msg);\n",
       "};\n",
       "\n",
       "mpl.figure.prototype.close_ws = function (fig, msg) {\n",
       "    fig.send_message('closing', msg);\n",
       "    // fig.ws.close()\n",
       "};\n",
       "\n",
       "mpl.figure.prototype.push_to_output = function (_remove_interactive) {\n",
       "    // Turn the data on the canvas into data in the output cell.\n",
       "    var width = this.canvas.width / this.ratio;\n",
       "    var dataURL = this.canvas.toDataURL();\n",
       "    this.cell_info[1]['text/html'] =\n",
       "        '<img src=\"' + dataURL + '\" width=\"' + width + '\">';\n",
       "};\n",
       "\n",
       "mpl.figure.prototype.updated_canvas_event = function () {\n",
       "    // Tell IPython that the notebook contents must change.\n",
       "    IPython.notebook.set_dirty(true);\n",
       "    this.send_message('ack', {});\n",
       "    var fig = this;\n",
       "    // Wait a second, then push the new image to the DOM so\n",
       "    // that it is saved nicely (might be nice to debounce this).\n",
       "    setTimeout(function () {\n",
       "        fig.push_to_output();\n",
       "    }, 1000);\n",
       "};\n",
       "\n",
       "mpl.figure.prototype._init_toolbar = function () {\n",
       "    var fig = this;\n",
       "\n",
       "    var toolbar = document.createElement('div');\n",
       "    toolbar.classList = 'btn-toolbar';\n",
       "    this.root.appendChild(toolbar);\n",
       "\n",
       "    function on_click_closure(name) {\n",
       "        return function (_event) {\n",
       "            return fig.toolbar_button_onclick(name);\n",
       "        };\n",
       "    }\n",
       "\n",
       "    function on_mouseover_closure(tooltip) {\n",
       "        return function (event) {\n",
       "            if (!event.currentTarget.disabled) {\n",
       "                return fig.toolbar_button_onmouseover(tooltip);\n",
       "            }\n",
       "        };\n",
       "    }\n",
       "\n",
       "    fig.buttons = {};\n",
       "    var buttonGroup = document.createElement('div');\n",
       "    buttonGroup.classList = 'btn-group';\n",
       "    var button;\n",
       "    for (var toolbar_ind in mpl.toolbar_items) {\n",
       "        var name = mpl.toolbar_items[toolbar_ind][0];\n",
       "        var tooltip = mpl.toolbar_items[toolbar_ind][1];\n",
       "        var image = mpl.toolbar_items[toolbar_ind][2];\n",
       "        var method_name = mpl.toolbar_items[toolbar_ind][3];\n",
       "\n",
       "        if (!name) {\n",
       "            /* Instead of a spacer, we start a new button group. */\n",
       "            if (buttonGroup.hasChildNodes()) {\n",
       "                toolbar.appendChild(buttonGroup);\n",
       "            }\n",
       "            buttonGroup = document.createElement('div');\n",
       "            buttonGroup.classList = 'btn-group';\n",
       "            continue;\n",
       "        }\n",
       "\n",
       "        button = fig.buttons[name] = document.createElement('button');\n",
       "        button.classList = 'btn btn-default';\n",
       "        button.href = '#';\n",
       "        button.title = name;\n",
       "        button.innerHTML = '<i class=\"fa ' + image + ' fa-lg\"></i>';\n",
       "        button.addEventListener('click', on_click_closure(method_name));\n",
       "        button.addEventListener('mouseover', on_mouseover_closure(tooltip));\n",
       "        buttonGroup.appendChild(button);\n",
       "    }\n",
       "\n",
       "    if (buttonGroup.hasChildNodes()) {\n",
       "        toolbar.appendChild(buttonGroup);\n",
       "    }\n",
       "\n",
       "    // Add the status bar.\n",
       "    var status_bar = document.createElement('span');\n",
       "    status_bar.classList = 'mpl-message pull-right';\n",
       "    toolbar.appendChild(status_bar);\n",
       "    this.message = status_bar;\n",
       "\n",
       "    // Add the close button to the window.\n",
       "    var buttongrp = document.createElement('div');\n",
       "    buttongrp.classList = 'btn-group inline pull-right';\n",
       "    button = document.createElement('button');\n",
       "    button.classList = 'btn btn-mini btn-primary';\n",
       "    button.href = '#';\n",
       "    button.title = 'Stop Interaction';\n",
       "    button.innerHTML = '<i class=\"fa fa-power-off icon-remove icon-large\"></i>';\n",
       "    button.addEventListener('click', function (_evt) {\n",
       "        fig.handle_close(fig, {});\n",
       "    });\n",
       "    button.addEventListener(\n",
       "        'mouseover',\n",
       "        on_mouseover_closure('Stop Interaction')\n",
       "    );\n",
       "    buttongrp.appendChild(button);\n",
       "    var titlebar = this.root.querySelector('.ui-dialog-titlebar');\n",
       "    titlebar.insertBefore(buttongrp, titlebar.firstChild);\n",
       "};\n",
       "\n",
       "mpl.figure.prototype._remove_fig_handler = function (event) {\n",
       "    var fig = event.data.fig;\n",
       "    if (event.target !== this) {\n",
       "        // Ignore bubbled events from children.\n",
       "        return;\n",
       "    }\n",
       "    fig.close_ws(fig, {});\n",
       "};\n",
       "\n",
       "mpl.figure.prototype._root_extra_style = function (el) {\n",
       "    el.style.boxSizing = 'content-box'; // override notebook setting of border-box.\n",
       "};\n",
       "\n",
       "mpl.figure.prototype._canvas_extra_style = function (el) {\n",
       "    // this is important to make the div 'focusable\n",
       "    el.setAttribute('tabindex', 0);\n",
       "    // reach out to IPython and tell the keyboard manager to turn it's self\n",
       "    // off when our div gets focus\n",
       "\n",
       "    // location in version 3\n",
       "    if (IPython.notebook.keyboard_manager) {\n",
       "        IPython.notebook.keyboard_manager.register_events(el);\n",
       "    } else {\n",
       "        // location in version 2\n",
       "        IPython.keyboard_manager.register_events(el);\n",
       "    }\n",
       "};\n",
       "\n",
       "mpl.figure.prototype._key_event_extra = function (event, _name) {\n",
       "    // Check for shift+enter\n",
       "    if (event.shiftKey && event.which === 13) {\n",
       "        this.canvas_div.blur();\n",
       "        // select the cell after this one\n",
       "        var index = IPython.notebook.find_cell_index(this.cell_info[0]);\n",
       "        IPython.notebook.select(index + 1);\n",
       "    }\n",
       "};\n",
       "\n",
       "mpl.figure.prototype.handle_save = function (fig, _msg) {\n",
       "    fig.ondownload(fig, null);\n",
       "};\n",
       "\n",
       "mpl.find_output_cell = function (html_output) {\n",
       "    // Return the cell and output element which can be found *uniquely* in the notebook.\n",
       "    // Note - this is a bit hacky, but it is done because the \"notebook_saving.Notebook\"\n",
       "    // IPython event is triggered only after the cells have been serialised, which for\n",
       "    // our purposes (turning an active figure into a static one), is too late.\n",
       "    var cells = IPython.notebook.get_cells();\n",
       "    var ncells = cells.length;\n",
       "    for (var i = 0; i < ncells; i++) {\n",
       "        var cell = cells[i];\n",
       "        if (cell.cell_type === 'code') {\n",
       "            for (var j = 0; j < cell.output_area.outputs.length; j++) {\n",
       "                var data = cell.output_area.outputs[j];\n",
       "                if (data.data) {\n",
       "                    // IPython >= 3 moved mimebundle to data attribute of output\n",
       "                    data = data.data;\n",
       "                }\n",
       "                if (data['text/html'] === html_output) {\n",
       "                    return [cell, data, j];\n",
       "                }\n",
       "            }\n",
       "        }\n",
       "    }\n",
       "};\n",
       "\n",
       "// Register the function which deals with the matplotlib target/channel.\n",
       "// The kernel may be null if the page has been refreshed.\n",
       "if (IPython.notebook.kernel !== null) {\n",
       "    IPython.notebook.kernel.comm_manager.register_target(\n",
       "        'matplotlib',\n",
       "        mpl.mpl_figure_comm\n",
       "    );\n",
       "}\n"
      ],
      "text/plain": [
       "<IPython.core.display.Javascript object>"
      ]
     },
     "metadata": {},
     "output_type": "display_data"
    },
    {
     "data": {
      "text/html": [
       "<img src=\"data:image/png;base64,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\" width=\"640\">"
      ],
      "text/plain": [
       "<IPython.core.display.HTML object>"
      ]
     },
     "metadata": {},
     "output_type": "display_data"
    },
    {
     "name": "stdout",
     "output_type": "stream",
     "text": [
      "y = [1], it's a 'cat' picture.\n"
     ]
    }
   ],
   "source": [
    "# Example of a picture\n",
    "index = 11\n",
    "plt.imshow(X_train[index])\n",
    "print (\"y = \" + str(Y_train[index,:]) + \", it's a '\" + classes[np.squeeze(Y_train[index,:])] +  \"' picture.\")"
   ]
  },
  {
   "cell_type": "code",
   "execution_count": 53,
   "metadata": {},
   "outputs": [
    {
     "name": "stdout",
     "output_type": "stream",
     "text": [
      "y = [0], it's a 'non-cat' picture.\n"
     ]
    }
   ],
   "source": [
    "index = 3\n",
    "plt.imshow(X_train[index])\n",
    "print (\"y = \" + str(Y_train[index,:]) + \", it's a '\" + classes[np.squeeze(Y_train[index,:])] +  \"' picture.\")"
   ]
  },
  {
   "cell_type": "code",
   "execution_count": 54,
   "metadata": {},
   "outputs": [
    {
     "name": "stdout",
     "output_type": "stream",
     "text": [
      "Label 1 count: 72\n",
      "Label 0 count: 137\n"
     ]
    }
   ],
   "source": [
    "print ('Label 1 count:', np.sum(Y_train!=0))\n",
    "print ('Label 0 count:', np.sum(Y_train==0))"
   ]
  },
  {
   "cell_type": "markdown",
   "metadata": {},
   "source": [
    "<font color = green>\n",
    "\n",
    "## Flatten features\n",
    "\n",
    "</font>"
   ]
  },
  {
   "cell_type": "code",
   "execution_count": 55,
   "metadata": {},
   "outputs": [],
   "source": [
    "# YOUR_CODE. Reshape the training and test set to shape (number_of_samples,  num_px*num_px*3)\n",
    "# START_CODE \n",
    "X_train_flatten = X_train.reshape(m_train, num_px*num_px*3)\n",
    "X_test_flatten =  X_test.reshape(m_test, num_px*num_px*3)\n",
    "# END_CODE "
   ]
  },
  {
   "cell_type": "markdown",
   "metadata": {},
   "source": [
    "<font color = blue >\n",
    "\n",
    "### Check result\n",
    "\n",
    "</font>\n"
   ]
  },
  {
   "cell_type": "code",
   "execution_count": 56,
   "metadata": {},
   "outputs": [
    {
     "name": "stdout",
     "output_type": "stream",
     "text": [
      "train_set_x_flatten shape: (209, 12288)\n",
      "test_set_x_flatten shape: (50, 12288)\n",
      "sanity check after reshaping: [17 31 56 22 33]\n"
     ]
    }
   ],
   "source": [
    "print (\"train_set_x_flatten shape: {}\".format(X_train_flatten.shape))\n",
    "print (\"test_set_x_flatten shape: {}\".format(X_test_flatten.shape))\n",
    "print (\"sanity check after reshaping: {}\".format(X_train_flatten[0, :5]))"
   ]
  },
  {
   "cell_type": "markdown",
   "metadata": {},
   "source": [
    "<font color = blue >\n",
    "\n",
    "### Expected Output\n",
    "\n",
    "</font>\n",
    "\n",
    "\n",
    "<br>`X_train_flattern shape: (209,12288)` \n",
    "<br>`X_test_flattern shape: (50,12288)`\n",
    "<br>`sanity check after reshaping: [17 31 56 22 33]`\n"
   ]
  },
  {
   "cell_type": "markdown",
   "metadata": {},
   "source": [
    "<font color = green>\n",
    "\n",
    "## Normalize features\n",
    "\n",
    "</font>\n",
    "To represent color images, the red, green and blue channels (RGB) must be specified for each pixel, and so the pixel value is actually a vector of three numbers ranging from 0 to 255.\n",
    "\n",
    "For picture datasets, it is almost the same as MinMaxScaler  to just divide every row of the dataset by 255 (the maximum value of a pixel channel)."
   ]
  },
  {
   "cell_type": "code",
   "execution_count": 57,
   "metadata": {},
   "outputs": [],
   "source": [
    "X_train_scaled = X_train_flatten/255.\n",
    "X_test_scaled = X_test_flatten/255."
   ]
  },
  {
   "cell_type": "markdown",
   "metadata": {},
   "source": [
    "<font color = green>\n",
    "\n",
    "## sigmoid function\n",
    "\n",
    "</font>\n",
    "\n",
    "$ g(z) = \\frac{1}{1 + e^{-z}}$"
   ]
  },
  {
   "cell_type": "code",
   "execution_count": 58,
   "metadata": {},
   "outputs": [],
   "source": [
    "def sigmoid(z):\n",
    "    \"\"\"\n",
    "    Compute the sigmoid of z\n",
    "\n",
    "    Arguments:\n",
    "    z -- A scalar or numpy array of any size.\n",
    "\n",
    "    Return:\n",
    "    g -- sigmoid(z)\n",
    "    \"\"\"\n",
    "\n",
    "    # YOUR_CODE. Implement sigmoid function\n",
    "    # START_CODE \n",
    "    g = 1 / (1 + np.exp(-z))\n",
    "    # END_CODE \n",
    "    \n",
    "    return g\n"
   ]
  },
  {
   "cell_type": "markdown",
   "metadata": {},
   "source": [
    "<font color = blue >\n",
    "\n",
    "### Check result\n",
    "\n",
    "</font>\n"
   ]
  },
  {
   "cell_type": "code",
   "execution_count": 59,
   "metadata": {},
   "outputs": [
    {
     "name": "stdout",
     "output_type": "stream",
     "text": [
      "sigmoid([0, 2]) = [0.5        0.88079708]\n"
     ]
    }
   ],
   "source": [
    "print (\"sigmoid([0, 2]) = \" + str(sigmoid(np.array([0,2]))))"
   ]
  },
  {
   "cell_type": "markdown",
   "metadata": {},
   "source": [
    "<font color = blue >\n",
    "\n",
    "### Expected Output\n",
    "\n",
    "</font>\n",
    "\n",
    "<br>`sigmoid([0, 2]) [0.5        0.88079708]`"
   ]
  },
  {
   "cell_type": "markdown",
   "metadata": {},
   "source": [
    "<font color = green>\n",
    "\n",
    "## Initialize parameters\n",
    "\n",
    "</font>\n"
   ]
  },
  {
   "cell_type": "code",
   "execution_count": 60,
   "metadata": {},
   "outputs": [],
   "source": [
    "def initialize_with_zeros(dim):\n",
    "    \"\"\"\n",
    "    This function creates a vector of zeros of shape (1,dim) for w and initializes b to 0.\n",
    "    \n",
    "    Argument:\n",
    "    dim -- size of the w vector we want (or number of parameters in this case)\n",
    "    \n",
    "    Returns:\n",
    "    w -- initialized vector of shape (1,dim)\n",
    "    b -- initialized scalar (corresponds to the bias)\n",
    "    \"\"\"\n",
    "    \n",
    "    # YOUR_CODE.  Initialize b to zero and w as a vector of zeros. \n",
    "    # START_CODE   \n",
    "    w = np.zeros((1, dim))\n",
    "    b = 0\n",
    "    # END_CODE \n",
    "\n",
    "    assert(w.shape == (1,dim))\n",
    "    assert(isinstance(b, float) or isinstance(b, int))\n",
    "    \n",
    "    return w, b"
   ]
  },
  {
   "cell_type": "markdown",
   "metadata": {},
   "source": [
    "<font color = blue >\n",
    "\n",
    "### Check result\n",
    "\n",
    "</font>\n"
   ]
  },
  {
   "cell_type": "code",
   "execution_count": 61,
   "metadata": {},
   "outputs": [
    {
     "name": "stdout",
     "output_type": "stream",
     "text": [
      "w = [[0. 0.]]\n",
      "b = 0\n"
     ]
    }
   ],
   "source": [
    "dim = 2\n",
    "w, b = initialize_with_zeros(dim)\n",
    "print (\"w = \" + str(w))\n",
    "print (\"b = \" + str(b))"
   ]
  },
  {
   "cell_type": "markdown",
   "metadata": {},
   "source": [
    "<font color = blue >\n",
    "\n",
    "### Expected Output\n",
    "\n",
    "</font>\n",
    "\n",
    "```\n",
    "    w =  [[ 0.  0.]]\n",
    "    b = 0\n",
    "```\n",
    "\n",
    "**Note**: For image inputs, w will be of shape (1, num_px $\\times$ num_px $\\times$ 3)."
   ]
  },
  {
   "cell_type": "markdown",
   "metadata": {},
   "source": [
    "<font color = green>\n",
    "\n",
    "##  Forward and Backward propagation\n",
    "\n",
    "</font>\n",
    "\n",
    "\n",
    "Computing cost function is called \"forward\" and computing derivatives (gradient) is called \"backward\" propagation\n",
    "\n",
    "**Forward Propagation:**\n",
    "- compute  $Z = b + X \\,@\\,  w.T  \\quad([[z^{(0)}], [z^{(1)}], ..., [z^{(m-1)}]])$\n",
    "- compute  $A = g(Z)  \\quad([[a^{(0)}], [a^{(1)}], ..., [a^{(m-1)}]])$\n",
    "- calculate the cost function: $J = -\\frac{1}{m}\\sum_{i=0}^{m-1}(y^{(i)}\\log(a^{(i)})+(1-Y^{(i)})\\log(1-a^{(i)}))$\n",
    "\n",
    "**Backward Propagation:** \n",
    "\n",
    "$$ \\frac{\\partial J}{\\partial w} = \\frac{1}{m}(A-Y)^T @X \\quad \\quad \n",
    " \\frac{\\partial J}{\\partial b} = \\frac{1}{m} \\sum_{i=1}^m (a^{(i)}-y^{(i)})$$"
   ]
  },
  {
   "cell_type": "code",
   "execution_count": 62,
   "metadata": {},
   "outputs": [],
   "source": [
    "# GRADED FUNCTION: propagate\n",
    "\n",
    "def propagate(w, b, X, Y, C=1):\n",
    "    \"\"\"\n",
    "    Implement the cost function and its gradient for the propagation explained above\n",
    "\n",
    "    Arguments:\n",
    "    w -- weights, a numpy array of size (1,num_px * num_px * 3)\n",
    "    b -- bias, a scalar\n",
    "    X -- data of size (number of examples, num_px * num_px * 3)\n",
    "    Y -- true \"label\" vector (containing 0 if non-cat, 1 if cat) of size (number of examples,1)\n",
    "\n",
    "    Return:\n",
    "    cost -- negative log-likelihood cost for logistic regression\n",
    "    dw -- gradient of the loss with respect to w, thus same shape as w\n",
    "    db -- gradient of the loss with respect to b, thus same shape as b\n",
    "    \n",
    "    \"\"\"\n",
    "    m = X.shape[0]\n",
    " \n",
    "    # YOUR_CODE.  implement forward propagation \n",
    "    # START_CODE   \n",
    "    Z = b + X @ w.T\n",
    "    A = sigmoid(Z)\n",
    "    cost =  -1/m * np.sum(Y * np.log(A) + (1 - Y) * np.log(1 - A))\n",
    "    # END_CODE \n",
    "    \n",
    "    # YOUR_CODE.  Implement Backward propahation \n",
    "    # START_CODE   \n",
    "    dJ_dw = 1 / m * (A - Y).T @ X\n",
    "    dJ_db = 1/m*np.sum(A-Y)\n",
    "\n",
    "   # END_CODE \n",
    "\n",
    "    assert(dJ_dw.shape == w.shape)\n",
    "    assert(dJ_db.dtype == float)\n",
    "    assert(cost.dtype == float)\n",
    "    \n",
    "    grads = {\"dJ_dw\": dJ_dw,\n",
    "             \"dJ_db\": dJ_db}\n",
    "    \n",
    "    return grads, cost"
   ]
  },
  {
   "cell_type": "markdown",
   "metadata": {},
   "source": [
    "<font color = blue >\n",
    "\n",
    "### Check result\n",
    "\n",
    "</font>\n"
   ]
  },
  {
   "cell_type": "code",
   "execution_count": 63,
   "metadata": {},
   "outputs": [
    {
     "name": "stdout",
     "output_type": "stream",
     "text": [
      "dJ_dw = [[0.99845601 2.39507239]]\n",
      "dJ_db = 0.001455578136784208\n",
      "cost = 5.801545319394553\n"
     ]
    }
   ],
   "source": [
    "w, b, X, Y = np.array([[1., 2.]]), 2., np.array([[1.,2.,-1.],[3.,4.,-3.2]]).T, np.array([[1,0,1]]).T\n",
    "grads, cost = propagate(w, b, X, Y)\n",
    "print (\"dJ_dw = \" + str(grads[\"dJ_dw\"]))\n",
    "print (\"dJ_db = \" + str(grads[\"dJ_db\"]))\n",
    "print (\"cost = \" + str(cost))"
   ]
  },
  {
   "cell_type": "markdown",
   "metadata": {},
   "source": [
    "<font color = blue >\n",
    "\n",
    "### Expected Output\n",
    "</font>\n",
    "\n",
    "``` \n",
    "dJ_dw = [[1.33178935 3.06173906]]\n",
    "dJ_db = 0.001455578136784208\n",
    "cost = 6.6348786527278865\n",
    "```"
   ]
  },
  {
   "cell_type": "markdown",
   "metadata": {},
   "source": [
    "<font color = green>\n",
    "\n",
    "##   Optimization\n",
    "</font>"
   ]
  },
  {
   "cell_type": "code",
   "execution_count": 64,
   "metadata": {},
   "outputs": [],
   "source": [
    "def optimize(w, b, X, Y, num_iterations, learning_rate, C= 1, verbose = False):\n",
    "    \"\"\"\n",
    "    This function optimizes w and b by running a gradient descent algorithm\n",
    "    \n",
    "    Arguments:\n",
    "    w -- weights, a numpy array of size (1,num_px * num_px * 3)\n",
    "    b -- bias, a scalar\n",
    "    X -- data of size (number of examples, num_px * num_px * 3)\n",
    "    Y -- true \"label\" vector (containing 0 if non-cat, 1 if cat) of size (number of examples,1)\n",
    "    num_iterations -- number of iterations of the optimization loop\n",
    "    learning_rate -- learning rate of the gradient descent update rule\n",
    "    print_cost -- True to print the loss every 100 steps\n",
    "    \n",
    "    Returns:\n",
    "    params -- dictionary containing the weights w and bias b\n",
    "    grads -- dictionary containing the gradients of the weights and bias with respect to the cost function\n",
    "    costs -- list of all the costs computed during the optimization, this will be used to plot the learning curve.\n",
    "    \"\"\"\n",
    "   \n",
    "    costs = [] # keep history for plotting if necessary \n",
    "    \n",
    "    for i in range(num_iterations):        \n",
    "\n",
    "    \n",
    "        # YOUR_CODE.  Call to compute cost and gradient \n",
    "        # START_CODE   \n",
    "        grads, cost = propagate(w, b, X, Y)\n",
    "        # END_CODE \n",
    "        \n",
    "        # Retrieve derivatives from grads\n",
    "        dJ_dw = grads[\"dJ_dw\"]\n",
    "        dJ_db = grads[\"dJ_db\"]\n",
    "        \n",
    "        # YOUR_CODE.  Update paramaters \n",
    "        # START_CODE   \n",
    "        b = b - learning_rate * dJ_db\n",
    "        w = w - learning_rate * dJ_dw\n",
    "        # END_CODE \n",
    "        \n",
    "        # Record the costs\n",
    "        if i % 100 == 0:\n",
    "            costs.append(cost)\n",
    "        \n",
    "        # Print the cost every 100 training iterations\n",
    "        if verbose and i % 100 == 0:\n",
    "            print (\"Cost after iteration %i: %f\" %(i, cost))\n",
    "    \n",
    "    params = {\"w\": w,\n",
    "              \"b\": b}\n",
    "    \n",
    "    grads = {\"dJ_dw\": dJ_dw,\n",
    "             \"dJ_db\": dJ_db}\n",
    "    \n",
    "    return params, grads, costs"
   ]
  },
  {
   "cell_type": "markdown",
   "metadata": {},
   "source": [
    "<font color = blue >\n",
    "\n",
    "### Check result\n",
    "\n",
    "</font>\n"
   ]
  },
  {
   "cell_type": "code",
   "execution_count": 65,
   "metadata": {},
   "outputs": [
    {
     "name": "stdout",
     "output_type": "stream",
     "text": [
      "w = [[0.19033591 0.12259159]]\n",
      "b = 1.9253598300845747\n",
      "dw = [[0.67752042 1.41625495]]\n",
      "db = 0.21919450454067652\n"
     ]
    }
   ],
   "source": [
    "params, grads, costs = optimize(w, b, X, Y, num_iterations= 100, learning_rate = 0.009, verbose = False)\n",
    "\n",
    "print (\"w = \" + str(params[\"w\"]))\n",
    "print (\"b = \" + str(params[\"b\"]))\n",
    "print (\"dw = \" + str(grads[\"dJ_dw\"]))\n",
    "print (\"db = \" + str(grads[\"dJ_db\"]))"
   ]
  },
  {
   "cell_type": "markdown",
   "metadata": {},
   "source": [
    "<font color = blue >\n",
    "\n",
    "### Expected Output\n",
    "</font>\n",
    "\n",
    "\n",
    "<br>`w = [[0.19033591  0.12259159]]`\n",
    "<br>`b = 1.92535983008`\n",
    "<br>`dw = [[0.67752042  1.41625495]]`\n",
    "<br>`db= 0.219194504541`"
   ]
  },
  {
   "cell_type": "markdown",
   "metadata": {},
   "source": [
    "<font color = green>\n",
    "\n",
    "##  Predict\n",
    "</font>\n",
    "\n",
    "1. Calculate $\\hat{Y} = A = g(b + X @ w.T)$\n",
    "2. Convert the entries of a into 0 (if activation <= 0.5) or 1 (if activation > 0.5), store the predictions in a vector `Y_prediction`. Try to avoid `for loop`  but use  vectorized way if possible."
   ]
  },
  {
   "cell_type": "code",
   "execution_count": 66,
   "metadata": {},
   "outputs": [],
   "source": [
    "def predict(w, b, X):\n",
    "    '''\n",
    "    Predict whether the label is 0 or 1 using learned logistic regression parameters (w, b)\n",
    "    \n",
    "    Arguments:\n",
    "    w - weights, a numpy array of size (1,num_px * num_px * 3)\n",
    "    b - bias, a scalar\n",
    "    X - data of size (number of examples, num_px * num_px * 3)\n",
    "    \n",
    "    Returns:\n",
    "    Y_prediction - a numpy array of shape (number of examples, 1) containing all predictions (0/1) for the examples in X\n",
    "    '''\n",
    "    m,n = X.shape\n",
    "    assert (w.shape==(1,n))\n",
    " \n",
    "    # YOUR_CODE.  Compute \"A\" predicting the probabilities of a cat being present in the picture\n",
    "    # START_CODE   \n",
    "    Z = b + X @ w.T \n",
    "    A = sigmoid(Z)\n",
    "    # END_CODE \n",
    "\n",
    "    # YOUR_CODE.  Convert probabilities to actual predictions 0 or 1 \n",
    "    # START_CODE   \n",
    "    Y_prediction = np.where(A > 0.5, 1, 0)\n",
    "    # END_CODE \n",
    "    \n",
    "    assert(Y_prediction.shape == (m, 1))\n",
    "    \n",
    "    return Y_prediction"
   ]
  },
  {
   "cell_type": "markdown",
   "metadata": {},
   "source": [
    "<font color = blue >\n",
    "\n",
    "### Check result\n",
    "\n",
    "</font>\n"
   ]
  },
  {
   "cell_type": "code",
   "execution_count": 67,
   "metadata": {},
   "outputs": [
    {
     "name": "stdout",
     "output_type": "stream",
     "text": [
      "predictions = \n",
      "[[1]\n",
      " [1]\n",
      " [0]]\n"
     ]
    }
   ],
   "source": [
    "w = np.array([[0.1124579],[0.23106775]]).T\n",
    "b = -0.3\n",
    "X = np.array([[1.,-1.1,-3.2],[1.2,2.,0.1]]).T\n",
    "print (\"predictions = \\n{}\".format (predict(w, b, X)))"
   ]
  },
  {
   "cell_type": "markdown",
   "metadata": {},
   "source": [
    "<font color = blue >\n",
    "\n",
    "### Expected Output\n",
    "</font>\n",
    "\n",
    "<br>`predictions=`\n",
    "<br>`[[1]`\n",
    "<br>` [1]`\n",
    "<br>` [0]]`\n",
    "\n"
   ]
  },
  {
   "cell_type": "markdown",
   "metadata": {},
   "source": [
    "<font color = green>\n",
    "\n",
    "##   Model\n",
    "</font>\n",
    "\n"
   ]
  },
  {
   "cell_type": "code",
   "execution_count": 68,
   "metadata": {},
   "outputs": [],
   "source": [
    "def model(X_train, Y_train, X_test, Y_test, num_iterations = 2000, learning_rate = 0.5, verbose = False, C= 1):\n",
    "    \"\"\"\n",
    "    Builds the logistic regression model by calling the functions implemented previously\n",
    "    \n",
    "    Arguments:\n",
    "    X_train -- training set represented by a numpy array of shape (number of examples, num_px * num_px * 3)\n",
    "    Y_train -- training labels represented by a numpy array (vector) of shape (1, m_train)\n",
    "    X_test -- test set represented by a numpy array of shape (num_px * num_px * 3, m_test)\n",
    "    Y_test -- test labels represented by a numpy array (vector) of shape (number of examples,1)\n",
    "    num_iterations -- hyperparameter representing the number of iterations to optimize the parameters\n",
    "    learning_rate -- hyperparameter representing the learning rate used in the update rule of optimize()\n",
    "    print_cost -- Set to true to print the cost every 100 iterations\n",
    "    C- regularization parameter \n",
    "    \n",
    "    Returns:\n",
    "    res -- dictionary containing information about the model.\n",
    "    \"\"\"\n",
    "    \n",
    "    # YOUR_CODE.\n",
    "    # START_CODE   \n",
    "\n",
    "    #  initialize parameters\n",
    "    dim = X_train_scaled.shape[1]\n",
    "    w, b = initialize_with_zeros(dim)\n",
    "    \n",
    "    # run gradient descent \n",
    "    parameters, grads, costs = optimize(w, b, X_train, Y_train, num_iterations, learning_rate, verbose)\n",
    "    \n",
    "    # retrieve parameters w and b from dictionary \"parameters\"\n",
    "    w = parameters[\"w\"]\n",
    "    b = parameters[\"b\"]\n",
    "    \n",
    "    # predict test/train set examples\n",
    "    Y_prediction_test = predict(w, b, X_test)\n",
    "    Y_prediction_train = predict(w, b, X_train)\n",
    "    # END_CODE \n",
    "\n",
    "    # Print train/test Errors\n",
    "    print(\"train accuracy= {:.3%}\".format(np.mean(Y_prediction_train == Y_train)))\n",
    "    print(\"test accuracy= {:.3%}\".format(np.mean(Y_prediction_test == Y_test)))\n",
    "    \n",
    "    res = {'costs': costs,\n",
    "           'Y_prediction_test': Y_prediction_test, \n",
    "           'Y_prediction_train' : Y_prediction_train, \n",
    "           'w' : w, \n",
    "           'b' : b,\n",
    "           'learning_rate' : learning_rate,\n",
    "           'num_iterations': num_iterations,\n",
    "           'C':C\n",
    "          }\n",
    "    \n",
    "    return res"
   ]
  },
  {
   "cell_type": "markdown",
   "metadata": {},
   "source": [
    "<font color = blue >\n",
    "\n",
    "### Check result\n",
    "\n",
    "</font>\n"
   ]
  },
  {
   "cell_type": "code",
   "execution_count": 69,
   "metadata": {},
   "outputs": [
    {
     "name": "stdout",
     "output_type": "stream",
     "text": [
      "train accuracy= 100.000%\n",
      "test accuracy= 68.000%\n"
     ]
    }
   ],
   "source": [
    "res = model(X_train= X_train_scaled,\n",
    "            Y_train=Y_train, \n",
    "            X_test=X_test_scaled, \n",
    "            Y_test= Y_test, \n",
    "            num_iterations = 3000, \n",
    "            learning_rate = 0.01, \n",
    "            verbose = True,\n",
    "            C= 0.3 # 0.6 is still overfitting,   0.3  is low value to keep the test accuracy ashigh as possible\n",
    "           )"
   ]
  },
  {
   "cell_type": "markdown",
   "metadata": {},
   "source": [
    "<font color = blue >\n",
    "\n",
    "### Expected Output\n",
    "</font>\n",
    "\n",
    "<br>`Cost after iteration 0: 0.693147`\n",
    "<br>`Cost after iteration 100: 0.584508`\n",
    "\n",
    "<br>$\\vdots$\n",
    "<br>`Cost after iteration 1900: 0.140872`\n",
    "<br>`train accuracy= 99.043%`\n",
    "<br>`test accuracy=  70.000%`"
   ]
  },
  {
   "cell_type": "markdown",
   "metadata": {},
   "source": [
    "<font color = green>\n",
    "\n",
    "##  Visualize cost function changes \n",
    "</font>\n",
    "\n"
   ]
  },
  {
   "cell_type": "code",
   "execution_count": 70,
   "metadata": {},
   "outputs": [],
   "source": [
    "costs = np.squeeze(res['costs'])\n",
    "plt.plot(costs)\n",
    "plt.ylabel('cost')\n",
    "plt.xlabel('iterations (per hundreds)')\n",
    "plt.title(\"Learning rate =\" + str(res[\"learning_rate\"]))\n",
    "plt.show()"
   ]
  },
  {
   "cell_type": "markdown",
   "metadata": {},
   "source": [
    "<font color = green>\n",
    "\n",
    "##   Visualize prediction\n",
    "</font>\n",
    "\n"
   ]
  },
  {
   "cell_type": "code",
   "execution_count": 71,
   "metadata": {},
   "outputs": [
    {
     "data": {
      "text/plain": [
       "(1, 1)"
      ]
     },
     "execution_count": 71,
     "metadata": {},
     "output_type": "execute_result"
    }
   ],
   "source": [
    "Y_test[index,0], res[\"Y_prediction_test\"][index,0]"
   ]
  },
  {
   "cell_type": "code",
   "execution_count": 72,
   "metadata": {},
   "outputs": [
    {
     "name": "stdout",
     "output_type": "stream",
     "text": [
      "y_predicted = 1 (true label = 1) , you predicted that it is a cat picture.\n"
     ]
    }
   ],
   "source": [
    "index = 1\n",
    "\n",
    "plt.imshow(X_test[index,:].reshape(num_px, num_px, 3))\n",
    "y_true = Y_test[index,0]\n",
    "y_predicted =  res[\"Y_prediction_test\"][index,0]\n",
    "print ('y_predicted = {} (true label = {}) , you predicted that it is a {} picture.'.\\\n",
    "       format(y_predicted,\n",
    "              y_true,\n",
    "              classes[y_predicted]))\n",
    "# todo it looks like it does not use predicted value but test label instead "
   ]
  },
  {
   "cell_type": "code",
   "execution_count": 73,
   "metadata": {},
   "outputs": [
    {
     "name": "stdout",
     "output_type": "stream",
     "text": [
      "y_predicted = 0 (true label = 1) , you predicted that it is a non-cat picture.\n"
     ]
    }
   ],
   "source": [
    "# index = 6 is example of a picture that was wrongly classified.\n",
    "index = 6\n",
    "plt.imshow(X_test[index,:].reshape(num_px, num_px, 3))\n",
    "y_true = Y_test[index,0]\n",
    "y_predicted =  res[\"Y_prediction_test\"][index,0]\n",
    "print ('y_predicted = {} (true label = {}) , you predicted that it is a {} picture.'.\\\n",
    "       format(y_predicted,\n",
    "              y_true,\n",
    "              classes[y_predicted]))\n",
    "# todo it looks like it does not use predicted value but test label instead "
   ]
  },
  {
   "cell_type": "code",
   "execution_count": 74,
   "metadata": {},
   "outputs": [
    {
     "data": {
      "text/plain": [
       "1"
      ]
     },
     "execution_count": 74,
     "metadata": {},
     "output_type": "execute_result"
    }
   ],
   "source": [
    "Y_test[index,0]"
   ]
  },
  {
   "cell_type": "markdown",
   "metadata": {},
   "source": [
    "<font color = green>\n",
    "\n",
    "##  Test with your image\n",
    "</font>\n",
    "\n"
   ]
  },
  {
   "cell_type": "code",
   "execution_count": 75,
   "metadata": {},
   "outputs": [
    {
     "name": "stdout",
     "output_type": "stream",
     "text": [
      "image.size=  (64, 64)\n"
     ]
    },
    {
     "data": {
      "image/png": "[encoded data removed]",
      "text/plain": [
       "<PIL.Image.Image image mode=RGB size=64x64>"
      ]
     },
     "execution_count": 75,
     "metadata": {},
     "output_type": "execute_result"
    }
   ],
   "source": [
    "from PIL import Image\n",
    "file_name=  os.path.join(path , 'Oleksiy.Tsebriy.jpg')\n",
    "image = Image.open(file_name).resize((num_px,num_px))\n",
    "print ('image.size= ', image.size)\n",
    "image"
   ]
  },
  {
   "cell_type": "code",
   "execution_count": 76,
   "metadata": {},
   "outputs": [
    {
     "data": {
      "text/plain": [
       "(4096, 3)"
      ]
     },
     "execution_count": 76,
     "metadata": {},
     "output_type": "execute_result"
    }
   ],
   "source": [
    "my_image= np.array(image.getdata())\n",
    "my_image.shape"
   ]
  },
  {
   "cell_type": "code",
   "execution_count": 77,
   "metadata": {},
   "outputs": [
    {
     "name": "stdout",
     "output_type": "stream",
     "text": [
      "my_image.shape= (1, 12288)\n"
     ]
    },
    {
     "data": {
      "text/plain": [
       "array([[227, 227, 217, ...,  43,  65,  96]])"
      ]
     },
     "execution_count": 77,
     "metadata": {},
     "output_type": "execute_result"
    }
   ],
   "source": [
    "my_image= my_image.reshape((1, num_px*num_px*3))\n",
    "print ('my_image.shape=',my_image.shape)\n",
    "my_image"
   ]
  },
  {
   "cell_type": "code",
   "execution_count": 78,
   "metadata": {},
   "outputs": [
    {
     "name": "stdout",
     "output_type": "stream",
     "text": [
      "y = 0 , your algorithm predicts a non-cat picture.\n"
     ]
    },
    {
     "name": "stderr",
     "output_type": "stream",
     "text": [
      "C:\\Users\\lygov\\AppData\\Local\\Temp\\ipykernel_14688\\2715512181.py:14: RuntimeWarning: overflow encountered in exp\n",
      "  g = 1 / (1 + np.exp(-z))\n"
     ]
    }
   ],
   "source": [
    "my_predicted_image = predict(res[\"w\"], res[\"b\"], my_image)\n",
    "my_predicted_image\n",
    "print('y = {} , your algorithm predicts a {} picture.'.\n",
    "      format(np.squeeze(my_predicted_image),classes[np.squeeze(my_predicted_image)]))"
   ]
  },
  {
   "cell_type": "code",
   "execution_count": 79,
   "metadata": {},
   "outputs": [
    {
     "name": "stdout",
     "output_type": "stream",
     "text": [
      "image.size=  (64, 64)\n"
     ]
    },
    {
     "data": {
      "image/png": "[encoded data removed]",
      "text/plain": [
       "<PIL.Image.Image image mode=RGBA size=64x64>"
      ]
     },
     "execution_count": 79,
     "metadata": {},
     "output_type": "execute_result"
    }
   ],
   "source": [
    "file_name=  os.path.join(path , 'test_cat.jpg')\n",
    "image = Image.open(file_name).resize((num_px,num_px))\n",
    "print ('image.size= ', image.size)\n",
    "image"
   ]
  },
  {
   "cell_type": "code",
   "execution_count": 80,
   "metadata": {},
   "outputs": [
    {
     "name": "stdout",
     "output_type": "stream",
     "text": [
      "my_image.shape= (4096, 3)\n",
      "after reshape: my_image.shape= (1, 12288)\n",
      "y = 1 , your algorithm predicts a cat picture.\n"
     ]
    }
   ],
   "source": [
    "my_image= np.array(image.getdata())[:,:3] # by unknown reason it is 4 channels \n",
    "print ('my_image.shape=', my_image.shape)\n",
    "my_image= my_image.reshape((1, num_px*num_px*3))\n",
    "print ('after reshape: my_image.shape=',my_image.shape)\n",
    "my_predicted_image = predict(res[\"w\"], res[\"b\"], my_image)\n",
    "\n",
    "print('y = {} , your algorithm predicts a {} picture.'.\n",
    "      format(np.squeeze(my_predicted_image),classes[np.squeeze(my_predicted_image)]))\n"
   ]
  },
  {
   "cell_type": "markdown",
   "metadata": {},
   "source": [
    "<font color = green>\n",
    "\n",
    "##  Sklearn implementation\n",
    "</font>\n",
    "\n"
   ]
  },
  {
   "cell_type": "code",
   "execution_count": 81,
   "metadata": {},
   "outputs": [],
   "source": [
    "from sklearn.linear_model import LogisticRegression"
   ]
  },
  {
   "cell_type": "code",
   "execution_count": 82,
   "metadata": {},
   "outputs": [],
   "source": [
    "y_train = np.squeeze(Y_train) # LogisticRegression requires 1d input for y\n",
    "clf = LogisticRegression(C=0.01).fit(X_train_scaled, y_train)"
   ]
  },
  {
   "cell_type": "code",
   "execution_count": 83,
   "metadata": {},
   "outputs": [
    {
     "name": "stdout",
     "output_type": "stream",
     "text": [
      "train accuracy= 90.909%\n",
      "test accuracy= 66.000%\n"
     ]
    }
   ],
   "source": [
    "print(\"train accuracy= {:.3%}\".format(clf.score (X_train_scaled, y_train)))\n",
    "y_test = np.squeeze(Y_test)\n",
    "print(\"test accuracy= {:.3%}\".format(clf.score (X_test_scaled, y_test)))"
   ]
  },
  {
   "cell_type": "code",
   "execution_count": 84,
   "metadata": {
    "scrolled": true
   },
   "outputs": [
    {
     "name": "stdout",
     "output_type": "stream",
     "text": [
      "y = 1 , sklearn algorithm predicts a cat picture.\n"
     ]
    }
   ],
   "source": [
    "print('y = {} , sklearn algorithm predicts a {} picture.'.\n",
    "      format(np.squeeze(clf.predict(my_image)),classes[np.squeeze(clf.predict(my_image))]))\n"
   ]
  },
  {
   "cell_type": "markdown",
   "metadata": {},
   "source": [
    "<font color = green>\n",
    "\n",
    "##  Sklearn for brest cancer dataset \n",
    "</font>\n",
    "\n"
   ]
  },
  {
   "cell_type": "code",
   "execution_count": 85,
   "metadata": {},
   "outputs": [
    {
     "name": "stdout",
     "output_type": "stream",
     "text": [
      "\n",
      "Breast cancer dataset\n",
      "X_cancer.shape= (569, 30)\n",
      "Accuracy of Logistic regression classifier on training set: 0.96\n",
      "Accuracy of Logistic regression classifier on test set: 0.95\n"
     ]
    }
   ],
   "source": [
    "from sklearn.model_selection import train_test_split\n",
    "from sklearn.linear_model import LogisticRegression\n",
    "# import load_breast_cancer and get the X_cancer, y_cancer\n",
    "from sklearn.datasets import load_breast_cancer\n",
    "\n",
    "(X_cancer, y_cancer)= load_breast_cancer(return_X_y = True)\n",
    "\n",
    "#  split to train and test using random_state = 0\n",
    "X_train, X_test, y_train, y_test = train_test_split(X_cancer, y_cancer)\n",
    "#  train LogisticRegression classifier  for max_iter= 10000\n",
    "clf = LogisticRegression(max_iter= 10000).fit(X_train, y_train)\n",
    "print('\\nBreast cancer dataset')\n",
    "print ('X_cancer.shape= {}'.format(X_cancer.shape))\n",
    "print('Accuracy of Logistic regression classifier on training set: {:.2f}'\n",
    "     .format(clf.score(X_train, y_train)))\n",
    "print('Accuracy of Logistic regression classifier on test set: {:.2f}'\n",
    "     .format(clf.score(X_test, y_test)))"
   ]
  },
  {
   "cell_type": "code",
   "execution_count": null,
   "metadata": {},
   "outputs": [],
   "source": []
  },
  {
   "cell_type": "code",
   "execution_count": null,
   "metadata": {},
   "outputs": [],
   "source": []
  },
  {
   "cell_type": "code",
   "execution_count": null,
   "metadata": {},
   "outputs": [],
   "source": []
  },
  {
   "cell_type": "code",
   "execution_count": null,
   "metadata": {},
   "outputs": [],
   "source": []
  }
 ],
 "metadata": {
  "kernelspec": {
   "display_name": "Python 3 (ipykernel)",
   "language": "python",
   "name": "python3"
  },
  "language_info": {
   "codemirror_mode": {
    "name": "ipython",
    "version": 3
   },
   "file_extension": ".py",
   "mimetype": "text/x-python",
   "name": "python",
   "nbconvert_exporter": "python",
   "pygments_lexer": "ipython3",
   "version": "3.11.5"
  }
 },
 "nbformat": 4,
 "nbformat_minor": 2
}
