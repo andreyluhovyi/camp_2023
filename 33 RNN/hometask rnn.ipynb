{
 "cells": [
  {
   "cell_type": "markdown",
   "id": "f139a825-dc43-4856-8488-81fbf1d93fbd",
   "metadata": {},
   "source": [
    "# Hometask\n",
    "\n",
    "1) Find text to train (any book)<br>\n",
    "2) Build train and validation set <br>\n",
    "3) Train bidirectional language model that predicts the POS of word being based on its `n_context= 3` neighbours from the left and `n_context= 3` neighbours from the right <br>\n",
    "4) Evaluate the model "
   ]
  },
  {
   "cell_type": "code",
   "execution_count": 14,
   "id": "a664c758-d50b-48a3-ad59-1b923819d27e",
   "metadata": {},
   "outputs": [],
   "source": [
    "import nltk\n",
    "from nltk.corpus import brown\n",
    "from nltk.tokenize import word_tokenize\n",
    "from sklearn.model_selection import train_test_split\n",
    "from keras.models import Sequential\n",
    "from keras.layers import Embedding, Bidirectional, LSTM, Dense\n",
    "from keras.utils import to_categorical\n",
    "import numpy as np"
   ]
  },
  {
   "cell_type": "code",
   "execution_count": 2,
   "id": "6307619a-6cfe-439e-88da-a8ba74e7ef8d",
   "metadata": {},
   "outputs": [
    {
     "name": "stderr",
     "output_type": "stream",
     "text": [
      "[nltk_data] Downloading package brown to\n",
      "[nltk_data]     C:\\Users\\lygov\\AppData\\Roaming\\nltk_data...\n",
      "[nltk_data]   Package brown is already up-to-date!\n",
      "[nltk_data] Downloading package universal_tagset to\n",
      "[nltk_data]     C:\\Users\\lygov\\AppData\\Roaming\\nltk_data...\n",
      "[nltk_data]   Package universal_tagset is already up-to-date!\n"
     ]
    },
    {
     "data": {
      "text/plain": [
       "True"
      ]
     },
     "execution_count": 2,
     "metadata": {},
     "output_type": "execute_result"
    }
   ],
   "source": [
    "nltk.download('brown')\n",
    "nltk.download('universal_tagset')"
   ]
  },
  {
   "cell_type": "code",
   "execution_count": 3,
   "id": "0eda4e62-2c7a-4d34-aedc-846a06693d5e",
   "metadata": {},
   "outputs": [],
   "source": [
    "sentences = brown.sents()\n",
    "pos_tags = brown.tagged_sents(tagset='universal')"
   ]
  },
  {
   "cell_type": "code",
   "execution_count": 4,
   "id": "70d48ef0-1819-4b9e-b268-94cc8e4c7b04",
   "metadata": {},
   "outputs": [],
   "source": [
    "words = set(word for sent in sentences for word in sent)\n",
    "word2id = {word: i+1 for i, word in enumerate(words)}\n",
    "word2id['OOV'] = 0"
   ]
  },
  {
   "cell_type": "code",
   "execution_count": 6,
   "id": "66d1f924-d434-41e3-ac89-eb65de477945",
   "metadata": {},
   "outputs": [],
   "source": [
    "tag2id = {tag: i for i, tag in enumerate(set(tag for sent in pos_tags for _, tag in sent))}"
   ]
  },
  {
   "cell_type": "code",
   "execution_count": 7,
   "id": "d7e7bc5d-1e30-454f-a41e-c7921e2774f8",
   "metadata": {},
   "outputs": [],
   "source": [
    "# Перетворюємо речення та теги в послідовності числових ID\n",
    "X = [[word2id[word] if word in word2id else 0 for word in sent] for sent in sentences]\n",
    "y = [[tag2id[tag] for _, tag in sent] for sent in pos_tags]"
   ]
  },
  {
   "cell_type": "code",
   "execution_count": 8,
   "id": "818b44e6-985d-44ab-b284-754bb824ec0c",
   "metadata": {},
   "outputs": [],
   "source": [
    "n_context = 3"
   ]
  },
  {
   "cell_type": "code",
   "execution_count": 9,
   "id": "c8d9c0da-e704-47e6-8e4c-33b829d7ecab",
   "metadata": {},
   "outputs": [],
   "source": [
    "X_new, y_new = [], []\n",
    "for sent, tags in zip(X, y):\n",
    "    for i in range(n_context, len(sent) - n_context):\n",
    "        X_new.append(sent[i-n_context:i] + sent[i+1:i+n_context+1])\n",
    "        y_new.append(tags[i])"
   ]
  },
  {
   "cell_type": "code",
   "execution_count": 15,
   "id": "89d393f3-d723-41d5-9964-071b95842c79",
   "metadata": {},
   "outputs": [],
   "source": [
    "X_train, X_test, y_train, y_test = train_test_split(np.array(X_new), np.array(y_new), test_size=0.2)"
   ]
  },
  {
   "cell_type": "code",
   "execution_count": 16,
   "id": "ddf4a382-aeec-4ab8-9428-a69168e08155",
   "metadata": {},
   "outputs": [],
   "source": [
    "y_train = to_categorical(y_train, num_classes=len(tag2id))\n",
    "y_test = to_categorical(y_test, num_classes=len(tag2id))"
   ]
  },
  {
   "cell_type": "code",
   "execution_count": 17,
   "id": "b158dfb4-3755-474e-b920-7b83d89475db",
   "metadata": {},
   "outputs": [],
   "source": [
    "model = Sequential()\n",
    "model.add(Embedding(input_dim=len(word2id)+1, output_dim=64))\n",
    "model.add(Bidirectional(LSTM(64)))\n",
    "model.add(Dense(len(tag2id), activation='softmax'))"
   ]
  },
  {
   "cell_type": "code",
   "execution_count": 18,
   "id": "008207ff-3b57-47d7-bea3-d7a9041477ed",
   "metadata": {},
   "outputs": [
    {
     "name": "stdout",
     "output_type": "stream",
     "text": [
      "Epoch 1/10\n",
      "\u001b[1m20713/20713\u001b[0m \u001b[32m━━━━━━━━━━━━━━━━━━━━\u001b[0m\u001b[37m\u001b[0m \u001b[1m1080s\u001b[0m 52ms/step - accuracy: 0.5333 - loss: 1.4270 - val_accuracy: 0.6576 - val_loss: 1.0429\n",
      "Epoch 2/10\n",
      "\u001b[1m20713/20713\u001b[0m \u001b[32m━━━━━━━━━━━━━━━━━━━━\u001b[0m\u001b[37m\u001b[0m \u001b[1m1123s\u001b[0m 54ms/step - accuracy: 0.7101 - loss: 0.8898 - val_accuracy: 0.6775 - val_loss: 0.9808\n",
      "Epoch 3/10\n",
      "\u001b[1m20713/20713\u001b[0m \u001b[32m━━━━━━━━━━━━━━━━━━━━\u001b[0m\u001b[37m\u001b[0m \u001b[1m927s\u001b[0m 45ms/step - accuracy: 0.7700 - loss: 0.7129 - val_accuracy: 0.6785 - val_loss: 0.9989\n",
      "Epoch 4/10\n",
      "\u001b[1m20713/20713\u001b[0m \u001b[32m━━━━━━━━━━━━━━━━━━━━\u001b[0m\u001b[37m\u001b[0m \u001b[1m837s\u001b[0m 40ms/step - accuracy: 0.8114 - loss: 0.5887 - val_accuracy: 0.6727 - val_loss: 1.0513\n",
      "Epoch 5/10\n",
      "\u001b[1m20713/20713\u001b[0m \u001b[32m━━━━━━━━━━━━━━━━━━━━\u001b[0m\u001b[37m\u001b[0m \u001b[1m838s\u001b[0m 40ms/step - accuracy: 0.8425 - loss: 0.4945 - val_accuracy: 0.6649 - val_loss: 1.1235\n",
      "Epoch 6/10\n",
      "\u001b[1m20713/20713\u001b[0m \u001b[32m━━━━━━━━━━━━━━━━━━━━\u001b[0m\u001b[37m\u001b[0m \u001b[1m1253s\u001b[0m 60ms/step - accuracy: 0.8651 - loss: 0.4251 - val_accuracy: 0.6535 - val_loss: 1.1954\n",
      "Epoch 7/10\n",
      "\u001b[1m20713/20713\u001b[0m \u001b[32m━━━━━━━━━━━━━━━━━━━━\u001b[0m\u001b[37m\u001b[0m \u001b[1m1589s\u001b[0m 77ms/step - accuracy: 0.8816 - loss: 0.3729 - val_accuracy: 0.6477 - val_loss: 1.2998\n",
      "Epoch 8/10\n",
      "\u001b[1m20713/20713\u001b[0m \u001b[32m━━━━━━━━━━━━━━━━━━━━\u001b[0m\u001b[37m\u001b[0m \u001b[1m3329s\u001b[0m 161ms/step - accuracy: 0.8945 - loss: 0.3315 - val_accuracy: 0.6404 - val_loss: 1.3952\n",
      "Epoch 9/10\n",
      "\u001b[1m20713/20713\u001b[0m \u001b[32m━━━━━━━━━━━━━━━━━━━━\u001b[0m\u001b[37m\u001b[0m \u001b[1m1122s\u001b[0m 54ms/step - accuracy: 0.9139 - loss: 0.2725 - val_accuracy: 0.6309 - val_loss: 1.5572\n"
     ]
    },
    {
     "data": {
      "text/plain": [
       "<keras.src.callbacks.history.History at 0x191342a4790>"
      ]
     },
     "execution_count": 18,
     "metadata": {},
     "output_type": "execute_result"
    }
   ],
   "source": [
    "model.compile(loss='categorical_crossentropy', optimizer='adam', metrics=['accuracy'])\n",
    "model.fit(X_train, y_train, validation_data=(X_test, y_test), epochs=10)"
   ]
  },
  {
   "cell_type": "code",
   "execution_count": null,
   "id": "dc722ff5-7e69-47bd-a3ae-898676580002",
   "metadata": {},
   "outputs": [],
   "source": []
  },
  {
   "cell_type": "code",
   "execution_count": null,
   "id": "13d1c8ad-717f-4774-b92d-8a862d914216",
   "metadata": {},
   "outputs": [],
   "source": []
  }
 ],
 "metadata": {
  "kernelspec": {
   "display_name": "Python 3 (ipykernel)",
   "language": "python",
   "name": "python3"
  },
  "language_info": {
   "codemirror_mode": {
    "name": "ipython",
    "version": 3
   },
   "file_extension": ".py",
   "mimetype": "text/x-python",
   "name": "python",
   "nbconvert_exporter": "python",
   "pygments_lexer": "ipython3",
   "version": "3.11.8"
  }
 },
 "nbformat": 4,
 "nbformat_minor": 5
}
