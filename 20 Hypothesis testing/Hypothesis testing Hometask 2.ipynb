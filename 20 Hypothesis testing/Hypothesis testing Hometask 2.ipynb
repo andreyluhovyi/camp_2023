{
 "cells": [
  {
   "cell_type": "markdown",
   "id": "d088c9c4",
   "metadata": {},
   "source": [
    "## Home Task 2. Hypothesis Testing Difference of Two Means \n"
   ]
  },
  {
   "cell_type": "markdown",
   "id": "1611559b",
   "metadata": {},
   "source": [
    "A business owner is in the process of deciding whether or not to invest in a new factory that refines oil in order to meet the high demand that commodity. A test showed that the old factory refines oil at a mean rate of `3.1L` per second at a standard deviation of `1.0` using a samp of `40`. <br>\n",
    "The new factory was measured to refine oil at a mean rate of `3.8L` per second at a standard deviation of `1.5` using a sample of `36`.\n",
    "\n",
    "Determine if there is any major difference at 10% significance level"
   ]
  },
  {
   "cell_type": "markdown",
   "id": "40c30c8d",
   "metadata": {},
   "source": [
    "**Note**: Since sample size is larger than 30, you may use normal distribution to compute the **z-critical**. \n",
    "\n",
    "To compute the **z-value** (z-calculated for two means) use the same formula as for **t-value** above: \n",
    "\n",
    "$$\\large{ z_{calculated}  = \\frac {(\\bar{x_1}-\\bar{x_2}) - (\\mu_1 - \\mu_2)}\n",
    "{\\sqrt{\\frac{\\sigma_1^2}{n_1}+\\frac{\\sigma_2^2}{n_2}}}}\n",
    "$$"
   ]
  },
  {
   "cell_type": "code",
   "execution_count": 5,
   "id": "89ca1d4b",
   "metadata": {},
   "outputs": [],
   "source": [
    "import numpy as np\n",
    "from scipy.stats import norm"
   ]
  },
  {
   "cell_type": "code",
   "execution_count": 6,
   "id": "b336637e",
   "metadata": {},
   "outputs": [
    {
     "name": "stdout",
     "output_type": "stream",
     "text": [
      "Calculated: -2.3664\n",
      "Critical: 1.6449\n"
     ]
    }
   ],
   "source": [
    "class HypothesisTest:\n",
    "    def __init__(self, sample1, sample2, alpha):\n",
    "        self.sample1 = sample1\n",
    "        self.sample2 = sample2\n",
    "        self.alpha = alpha\n",
    "\n",
    "    def compute_test(self):\n",
    "        # Calculate the standard error\n",
    "        standard_error = np.sqrt((self.sample1['std_dev']**2 / self.sample1['size']) + (self.sample2['std_dev']**2 / self.sample2['size']))\n",
    "\n",
    "        # Calculate the z-value\n",
    "        z = (self.sample1['mean'] - self.sample2['mean']) / standard_error\n",
    "\n",
    "        # Calculate the critical z-value\n",
    "        z_critical = norm.ppf(1 - self.alpha/2)\n",
    "\n",
    "        # Print the results\n",
    "        print(f'Calculated: {z:.4f}')\n",
    "        print(f'Critical: {z_critical:.4f}')\n",
    "\n",
    "# Define the sample statistics\n",
    "sample1 = {'mean': 3.1, 'std_dev': 1.0, 'size': 40}\n",
    "sample2 = {'mean': 3.8, 'std_dev': 1.5, 'size': 36}\n",
    "\n",
    "# Define the significance level\n",
    "alpha = 0.10\n",
    "\n",
    "# Perform the hypothesis test\n",
    "test = HypothesisTest(sample1, sample2, alpha)\n",
    "test.compute_test()"
   ]
  },
  {
   "cell_type": "markdown",
   "id": "e1ee60a1",
   "metadata": {},
   "source": [
    "We can see that the absolute value of the difference (abs) is greater than the critical value (z_critical). Therefore, we can confidently say that there is a significant difference between the two factories."
   ]
  },
  {
   "cell_type": "code",
   "execution_count": null,
   "id": "56c91399",
   "metadata": {},
   "outputs": [],
   "source": []
  }
 ],
 "metadata": {
  "kernelspec": {
   "display_name": "Python 3 (ipykernel)",
   "language": "python",
   "name": "python3"
  },
  "language_info": {
   "codemirror_mode": {
    "name": "ipython",
    "version": 3
   },
   "file_extension": ".py",
   "mimetype": "text/x-python",
   "name": "python",
   "nbconvert_exporter": "python",
   "pygments_lexer": "ipython3",
   "version": "3.11.5"
  }
 },
 "nbformat": 4,
 "nbformat_minor": 5
}
