{
 "cells": [
  {
   "cell_type": "markdown",
   "id": "09de5a76",
   "metadata": {},
   "source": [
    "<font color = green >\n",
    "\n",
    "## Home Task \n",
    "\n",
    "</font>\n"
   ]
  },
  {
   "cell_type": "markdown",
   "id": "cbff02f8",
   "metadata": {},
   "source": [
    "The Task is to extract relevant infromation from the messy medical data using regex.\n",
    "\n",
    "Each line of the `dates.txt` file corresponds to a medical note. Each note has a date that needs to be extracted, but each date is encoded in one of many formats.\n",
    "\n",
    "The goal is to correctly identify all of the different date variants encoded in this dataset and to properly normalize and sort the dates. \n",
    "\n",
    "1) Extract the date strings\n",
    "Here is a list of some of the variants you might encounter in this dataset:\n",
    "* 04/20/2009; 04/20/09; 4/20/09; 4/3/09\n",
    "* Mar-20-2009; Mar 20, 2009; March 20, 2009;  Mar. 20, 2009; Mar 20 2009;\n",
    "* 20 Mar 2009; 20 March 2009; 20 Mar. 2009; 20 March, 2009\n",
    "* Mar 20th, 2009; Mar 21st, 2009; Mar 22nd, 2009\n",
    "* Feb 2009; Sep 2009; Oct 2010\n",
    "* 6/2008; 12/2009\n",
    "* 2009; 2010\n",
    "\n",
    "2) Normalize the extracted dates considering the following rules:  \n",
    "* Assume all dates in xx/xx/xx format are mm/dd/yy\n",
    "* Assume all dates where year is encoded in only two digits are years from the 1900's (e.g. 1/5/89 is January 5th, 1989)\n",
    "* If the day is missing (e.g. 9/2009), assume it is the first day of the month (e.g. September 1, 2009).\n",
    "* If the month is missing (e.g. 2010), assume it is the first of January of that year (e.g. January 1, 2010).\n",
    "\n",
    "3) Sort records in ascending chronological order accoring.\n",
    "\n",
    "\n"
   ]
  },
  {
   "cell_type": "code",
   "execution_count": 107,
   "id": "57d8fb45",
   "metadata": {},
   "outputs": [],
   "source": [
    "import re\n",
    "import pandas as pd"
   ]
  },
  {
   "cell_type": "code",
   "execution_count": 108,
   "id": "c1212f4b",
   "metadata": {},
   "outputs": [],
   "source": [
    "data = open(\"dates.txt\", \"r\").read().splitlines()[:500]"
   ]
  },
  {
   "cell_type": "code",
   "execution_count": 109,
   "id": "cb99f35b",
   "metadata": {},
   "outputs": [],
   "source": [
    "regex = r'\\b(?:\\d{1,2}/\\d{1,2}/(?:\\d{2})?\\d{2,4}|(?:Jan|Feb|Mar|Apr|May|Jun|Jul|Aug|Sep|Oct|Nov|Dec)[a-z]*[- ,.]? \\d{1,2}(?:st|nd|rd|th)?,? \\d{2,4}|(?:0[1-9]|1[0-2])/\\d{4}|(?:\\d{1,2} )?(?:Jan|Feb|Mar|Apr|May|Jun|Jul|Aug|Sep|Oct|Nov|Dec)[a-z]*(?: \\d{1,2}[ ,])? (?:\\d{2})?\\d{2,4})\\b'"
   ]
  },
  {
   "cell_type": "code",
   "execution_count": 110,
   "id": "06554dfb",
   "metadata": {},
   "outputs": [],
   "source": [
    "dates = [re.findall(regex, line) for line in data]"
   ]
  },
  {
   "cell_type": "code",
   "execution_count": 111,
   "id": "7c11e7e7",
   "metadata": {},
   "outputs": [],
   "source": [
    "normalized_dates = []\n",
    "for i, date in enumerate(dates):\n",
    "    if date:\n",
    "        date = date[0]\n",
    "        # Перетворюємо дати формату xx/xx/xx на формат mm/dd/yy\n",
    "        if re.match(r'\\d{1,2}/\\d{1,2}/\\d{2}$', date):\n",
    "            date = date[:-2] + '19' + date[-2:]\n",
    "        # Якщо день відсутній (наприклад, 9/2009), припускаємо, що це перший день місяця (наприклад, 1 вересня 2009 року)\n",
    "        elif re.match(r'\\d{1,2}/\\d{4}$', date):\n",
    "            date = date[:-4] + '01/' + date[-4:]\n",
    "        # Якщо місяць відсутній (наприклад, 2010), припускаємо, що це перший січня цього року (наприклад, 1 січня 2010 року)\n",
    "        elif re.match(r'\\d{4}$', date):\n",
    "            date = '01/01/' + date\n",
    "        normalized_dates.append((pd.to_datetime(date, errors='coerce'), i))\n",
    "    else:\n",
    "        normalized_dates.append((None, i))"
   ]
  },
  {
   "cell_type": "code",
   "execution_count": 112,
   "id": "a821491c",
   "metadata": {},
   "outputs": [],
   "source": [
    "sorted_dates = sorted((pd.to_datetime(date, errors='coerce'), idx) for date, idx in normalized_dates if date is not None)"
   ]
  },
  {
   "cell_type": "code",
   "execution_count": 113,
   "id": "51221a22",
   "metadata": {},
   "outputs": [
    {
     "data": {
      "text/html": [
       "<div>\n",
       "<style scoped>\n",
       "    .dataframe tbody tr th:only-of-type {\n",
       "        vertical-align: middle;\n",
       "    }\n",
       "\n",
       "    .dataframe tbody tr th {\n",
       "        vertical-align: top;\n",
       "    }\n",
       "\n",
       "    .dataframe thead th {\n",
       "        text-align: right;\n",
       "    }\n",
       "</style>\n",
       "<table border=\"1\" class=\"dataframe\">\n",
       "  <thead>\n",
       "    <tr style=\"text-align: right;\">\n",
       "      <th></th>\n",
       "      <th>res</th>\n",
       "      <th>index</th>\n",
       "    </tr>\n",
       "  </thead>\n",
       "  <tbody>\n",
       "    <tr>\n",
       "      <th>0</th>\n",
       "      <td>1971-04-10</td>\n",
       "      <td>9</td>\n",
       "    </tr>\n",
       "    <tr>\n",
       "      <th>1</th>\n",
       "      <td>1971-05-18</td>\n",
       "      <td>84</td>\n",
       "    </tr>\n",
       "    <tr>\n",
       "      <th>2</th>\n",
       "      <td>1971-07-08</td>\n",
       "      <td>2</td>\n",
       "    </tr>\n",
       "    <tr>\n",
       "      <th>3</th>\n",
       "      <td>1971-07-11</td>\n",
       "      <td>53</td>\n",
       "    </tr>\n",
       "    <tr>\n",
       "      <th>4</th>\n",
       "      <td>1971-09-12</td>\n",
       "      <td>28</td>\n",
       "    </tr>\n",
       "    <tr>\n",
       "      <th>...</th>\n",
       "      <td>...</td>\n",
       "      <td>...</td>\n",
       "    </tr>\n",
       "    <tr>\n",
       "      <th>350</th>\n",
       "      <td>2016-05-01</td>\n",
       "      <td>231</td>\n",
       "    </tr>\n",
       "    <tr>\n",
       "      <th>351</th>\n",
       "      <td>2016-05-30</td>\n",
       "      <td>141</td>\n",
       "    </tr>\n",
       "    <tr>\n",
       "      <th>352</th>\n",
       "      <td>2016-10-13</td>\n",
       "      <td>186</td>\n",
       "    </tr>\n",
       "    <tr>\n",
       "      <th>353</th>\n",
       "      <td>2016-10-19</td>\n",
       "      <td>161</td>\n",
       "    </tr>\n",
       "    <tr>\n",
       "      <th>354</th>\n",
       "      <td>2016-11-01</td>\n",
       "      <td>413</td>\n",
       "    </tr>\n",
       "  </tbody>\n",
       "</table>\n",
       "<p>355 rows × 2 columns</p>\n",
       "</div>"
      ],
      "text/plain": [
       "           res  index\n",
       "0   1971-04-10      9\n",
       "1   1971-05-18     84\n",
       "2   1971-07-08      2\n",
       "3   1971-07-11     53\n",
       "4   1971-09-12     28\n",
       "..         ...    ...\n",
       "350 2016-05-01    231\n",
       "351 2016-05-30    141\n",
       "352 2016-10-13    186\n",
       "353 2016-10-19    161\n",
       "354 2016-11-01    413\n",
       "\n",
       "[355 rows x 2 columns]"
      ]
     },
     "execution_count": 113,
     "metadata": {},
     "output_type": "execute_result"
    }
   ],
   "source": [
    "df = pd.DataFrame(sorted_dates, columns=['res', 'index'])\n",
    "df"
   ]
  },
  {
   "cell_type": "code",
   "execution_count": null,
   "id": "fae2eb2c",
   "metadata": {},
   "outputs": [],
   "source": []
  }
 ],
 "metadata": {
  "kernelspec": {
   "display_name": "Python 3 (ipykernel)",
   "language": "python",
   "name": "python3"
  },
  "language_info": {
   "codemirror_mode": {
    "name": "ipython",
    "version": 3
   },
   "file_extension": ".py",
   "mimetype": "text/x-python",
   "name": "python",
   "nbconvert_exporter": "python",
   "pygments_lexer": "ipython3",
   "version": "3.11.5"
  }
 },
 "nbformat": 4,
 "nbformat_minor": 5
}
