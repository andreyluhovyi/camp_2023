{
 "cells": [
  {
   "cell_type": "markdown",
   "id": "772b617e",
   "metadata": {},
   "source": [
    "## Task about sum and product \n",
    "\n",
    "Note: This is optional task. \n",
    "However it is also evaluated and so you will get extra points to final score. \n",
    "Thus, we encourage you to solve it. "
   ]
  },
  {
   "cell_type": "markdown",
   "id": "00c02629",
   "metadata": {},
   "source": [
    "```\n",
    "There are two whole numbers:\n",
    "1 < a,b <100\n",
    "\n",
    "One scientist(\"Sum\") get provided with sum of numbers,\n",
    "another  (\"Prod\") get provided with product of numbers. \n",
    "Both scientists know that numbers 1 < a,b <100.\n",
    "\n",
    "Determine the numbers being based on the following dialog: \n",
    "    Prod: I don't know the numbers;\n",
    "    Sum: I know it;\n",
    "    Prod: then I know the numbers; \n",
    "    Sum: then I know the numbers too.\n",
    "```"
   ]
  },
  {
   "cell_type": "markdown",
   "id": "90f82c07",
   "metadata": {},
   "source": [
    "```\n",
    "------------------------------------------------------------------------------------------------------------------------\n",
    "Prod: I don't know the numbers === This value is not unique.\n",
    "Sum: I know it === This value cannot be the sum of numbers that results in a unique Prod.\n",
    "Prod: then I know the numbers === There is only one scenario that is not a sum of prime numbers.\n",
    "Sum: then I know the numbers too === Now, to determine the correct combination of numbers, we need to find a sum that corresponds to only one product.\n",
    "------------------------------------------------------------------------------------------------------------------------\n",
    "```"
   ]
  },
  {
   "cell_type": "markdown",
   "id": "f6450ba9",
   "metadata": {},
   "source": [
    "```\n",
    "Remove all items without duplicates. Then, exclude values that can be derived as the sum of numbers leading to a unique product. For each product, find indices with equal values, calculate pairs producing sums. Divide each sum into components, compute combinations multiplying by one of the product values. Afterward, filter to ensure only a single such combination persists.\n",
    "```"
   ]
  },
  {
   "cell_type": "code",
   "execution_count": 24,
   "id": "d6b7c27d",
   "metadata": {
    "scrolled": true
   },
   "outputs": [],
   "source": [
    "# Generate pairs with a unique sum for a given total\n",
    "def pair_generator(total):\n",
    "    unique_pair_list = []\n",
    "    for num in range(2, total // 2 + 1):\n",
    "        if total - num > num:\n",
    "            unique_pair_list.append((num, total - num))\n",
    "    return unique_pair_list\n",
    "\n",
    "# Determine all allowed pairs within the range 1 < x, y < 100\n",
    "allowed_pairs = set()\n",
    "for x in range(2, 100):\n",
    "    for y in range(x + 1, 100):\n",
    "        if x + y < 100:\n",
    "            allowed_pairs.add((x, y))\n",
    "\n",
    "# Count the occurrences of each product in the allowed pairs\n",
    "product_count = {}\n",
    "for a, b in allowed_pairs:\n",
    "    product = a * b\n",
    "    if product in product_count:\n",
    "        product_count[product] += 1\n",
    "    else:\n",
    "        product_count[product] = 1\n",
    "\n",
    "# Identify pairs with unique product values\n",
    "unique_products = set()\n",
    "for pair in allowed_pairs:\n",
    "    a, b = pair\n",
    "    if product_count[a * b] == 1:\n",
    "        unique_products.add(pair)\n",
    "\n",
    "# Find pairs with unique sum values\n",
    "unique_sum_pairs = []\n",
    "for pair in allowed_pairs:\n",
    "    a, b = pair\n",
    "    if all((c, d) not in unique_products for (c, d) in pair_generator(a + b)):\n",
    "        unique_sum_pairs.append(pair)\n",
    "\n",
    "# Count the occurrences of each product in the unique_sum_pairs\n",
    "product_count = {}\n",
    "for c, d in unique_sum_pairs:\n",
    "    product = c * d\n",
    "    if product in product_count:\n",
    "        product_count[product] += 1\n",
    "    else:\n",
    "        product_count[product] = 1\n",
    "\n",
    "# Identify pairs with unique product values after the sum condition\n",
    "unique_product_pairs = []\n",
    "for a, b in unique_sum_pairs:\n",
    "    if product_count[a * b] == 1:\n",
    "        unique_product_pairs.append((a, b))\n",
    "\n",
    "# Count the occurrences of each sum in the unique_product_pairs\n",
    "sum_count = {}\n",
    "for c, d in unique_product_pairs:\n",
    "    total = c + d\n",
    "    if total in sum_count:\n",
    "        sum_count[total] += 1\n",
    "    else:\n",
    "        sum_count[total] = 1\n",
    "\n",
    "# Filter unique_product_pairs based on the condition that their sum is unique\n",
    "result = list(filter(lambda pair: sum_count[pair[0] + pair[1]] == 1, unique_product_pairs))"
   ]
  },
  {
   "cell_type": "code",
   "execution_count": 25,
   "id": "b2c4fb9c",
   "metadata": {},
   "outputs": [
    {
     "name": "stdout",
     "output_type": "stream",
     "text": [
      "Unique products: {(36, 53), (7, 17), (36, 62), (28, 67), (17, 67), (40, 41), (29, 41), (21, 37), (5, 83), (40, 50), (9, 81), (29, 59), (40, 59), (11, 23), (41, 42), (21, 73), (41, 51), (44, 47), (33, 47), (2, 41), (25, 43), (25, 61), (2, 59), (13, 65), (13, 83), (47, 48), (16, 79), (17, 53), (28, 53), (17, 71), (28, 71), (9, 67), (29, 45), (21, 41), (6, 61), (29, 63), (21, 59), (25, 29), (44, 51), (25, 47), (3, 19), (43, 55), (32, 64), (3, 37), (36, 43), (47, 52), (16, 83), (36, 61), (9, 53), (29, 31), (5, 73), (9, 71), (29, 49), (40, 58), (2, 13), (33, 37), (31, 67), (2, 31), (20, 67), (3, 5), (43, 50), (32, 59), (3, 23), (35, 55), (13, 73), (24, 73), (17, 34), (7, 11), (36, 47), (5, 41), (17, 43), (28, 43), (17, 61), (28, 61), (5, 59), (29, 35), (21, 31), (21, 49), (8, 79), (2, 8), (19, 79), (39, 57), (2, 17), (20, 53), (31, 53), (31, 62), (20, 71), (12, 67), (23, 67), (3, 9), (43, 45), (35, 41), (13, 41), (43, 54), (13, 59), (24, 59), (35, 59), (16, 64), (17, 29), (16, 73), (47, 51), (28, 47), (17, 47), (9, 43), (9, 61), (27, 69), (19, 65), (39, 43), (2, 3), (39, 52), (8, 83), (11, 79), (31, 57), (23, 53), (12, 53), (12, 71), (23, 71), (4, 67), (43, 49), (16, 59), (5, 31), (3, 47), (9, 47), (42, 53), (39, 47), (2, 7), (31, 43), (11, 83), (20, 61), (31, 61), (4, 53), (13, 31), (43, 44), (4, 71), (43, 53), (35, 49), (5, 17), (17, 19), (17, 37), (26, 67), (15, 67), (27, 41), (27, 59), (42, 57), (19, 55), (23, 25), (19, 73), (8, 73), (39, 51), (31, 47), (2, 11), (20, 47), (23, 43), (13, 17), (31, 65), (12, 61), (13, 26), (23, 61), (46, 50), (14, 79), (3, 79), (17, 23), (26, 53), (38, 55), (15, 53), (15, 71), (26, 71), (7, 67), (18, 67), (19, 41), (42, 43), (11, 37), (27, 63), (30, 59), (8, 59), (19, 59), (11, 55), (31, 33), (23, 29), (11, 73), (31, 51), (12, 47), (23, 47), (34, 53), (45, 53), (4, 61), (37, 58), (5, 7), (38, 41), (3, 83), (49, 50), (14, 83), (5, 25), (38, 50), (38, 59), (7, 53), (18, 53), (27, 31), (7, 71), (18, 71), (42, 47), (11, 41), (11, 59), (39, 41), (31, 37), (22, 55), (37, 53), (37, 62), (22, 73), (5, 11), (46, 49), (15, 43), (26, 52), (15, 61), (26, 61), (19, 31), (27, 53), (19, 49), (6, 79), (41, 46), (41, 55), (33, 51), (23, 37), (10, 67), (25, 65), (34, 43), (37, 39), (34, 61), (22, 59), (37, 57), (22, 77), (3, 73), (14, 73), (15, 47), (26, 47), (38, 49), (7, 43), (26, 65), (11, 13), (7, 61), (18, 61), (29, 58), (11, 22), (9, 89), (19, 35), (29, 67), (11, 31), (6, 83), (41, 50), (44, 46), (10, 53), (33, 55), (44, 55), (10, 71), (2, 67), (45, 47), (34, 47), (37, 43), (10, 89), (3, 41), (37, 52), (14, 59), (37, 61), (3, 59), (7, 29), (7, 47), (18, 47), (17, 79), (40, 53), (11, 17), (29, 53), (21, 67), (41, 45), (33, 41), (41, 54), (25, 37), (33, 59), (2, 53), (25, 55), (3, 27), (25, 73), (2, 71), (34, 51), (45, 51), (37, 47), (13, 77), (37, 56), (15, 37), (29, 39), (9, 79), (19, 25), (29, 57), (21, 53), (6, 73), (21, 71), (41, 49), (41, 58), (25, 41), (44, 54), (25, 50), (3, 13), (33, 63), (10, 61), (25, 59), (32, 67), (3, 31), (22, 53), (14, 49), (7, 19), (17, 51), (7, 37), (5, 67), (40, 43), (29, 43), (9, 83), (29, 61), (6, 59), (41, 44), (44, 49), (2, 43), (20, 79), (3, 17), (32, 53), (2, 61), (4, 89), (13, 67), (24, 67), (36, 41), (47, 50), (7, 23), (36, 59), (5, 53), (17, 73), (5, 71), (48, 51), (29, 47), (40, 47), (21, 43), (5, 89), (21, 61), (2, 29), (25, 31), (2, 47), (43, 48), (12, 79), (24, 53), (35, 53), (13, 53), (35, 62), (13, 71), (24, 71), (16, 67), (17, 41), (9, 37), (28, 59), (17, 59), (17, 68), (9, 73), (29, 51), (21, 47), (19, 77), (25, 35), (23, 65), (3, 7), (32, 43), (13, 39), (43, 52), (12, 83), (4, 79), (32, 61), (35, 57), (16, 53), (16, 71), (47, 49), (5, 43), (36, 58), (9, 41), (5, 61), (9, 59), (29, 37), (7, 89), (27, 67), (11, 77), (39, 59), (2, 19), (31, 55), (20, 73), (2, 37), (23, 69), (32, 47), (3, 11), (43, 47), (35, 43), (13, 43), (43, 56), (13, 52), (4, 83), (13, 61), (24, 61), (35, 61), (5, 29), (17, 31), (28, 49), (5, 47), (17, 49), (15, 79), (27, 71), (8, 67), (19, 67), (30, 67), (19, 76), (31, 41), (2, 5), (39, 54), (23, 46), (31, 59), (2, 23), (20, 59), (23, 55), (13, 29), (12, 73), (23, 73), (43, 51), (13, 47), (24, 47), (35, 47), (46, 53), (16, 61), (38, 58), (15, 83), (7, 79), (18, 79), (27, 57), (8, 53), (19, 53), (30, 53), (42, 55), (8, 71), (19, 71), (11, 67), (39, 49), (31, 45), (39, 58), (23, 41), (8, 89), (31, 63), (23, 59), (12, 59), (43, 46), (34, 65), (4, 73), (35, 51), (16, 47), (46, 48), (5, 19), (38, 53), (5, 37), (27, 43), (7, 83), (27, 61), (11, 44), (19, 57), (11, 53), (2, 4), (11, 71), (39, 53), (31, 49), (13, 19), (4, 59), (13, 37), (2, 89), (35, 37), (22, 67), (46, 52), (5, 23), (38, 57), (15, 73), (26, 73), (27, 47), (19, 43), (30, 43), (30, 61), (8, 61), (19, 61), (31, 35), (23, 31), (23, 49), (10, 79), (13, 23), (34, 55), (37, 51), (34, 64), (37, 60), (22, 71), (3, 67), (14, 67), (46, 47), (38, 43), (15, 41), (38, 52), (15, 59), (26, 59), (38, 61), (19, 29), (7, 73), (18, 73), (19, 38), (42, 49), (19, 47), (30, 47), (11, 43), (41, 53), (11, 61), (31, 39), (23, 35), (10, 83), (45, 50), (2, 79), (34, 59), (37, 55), (3, 53), (14, 53), (2, 97), (14, 71), (3, 71), (5, 13), (46, 51), (38, 47), (7, 41), (3, 89), (38, 56), (7, 59), (18, 59), (27, 37), (11, 29), (29, 65), (11, 47), (41, 48), (41, 57), (33, 53), (44, 53), (25, 49), (25, 67), (37, 41), (45, 54), (2, 83), (22, 61), (37, 59), (26, 49), (17, 77), (19, 37), (29, 69), (6, 67), (11, 33), (41, 43), (33, 39), (41, 52), (33, 57), (25, 53), (33, 66), (10, 73), (25, 71), (22, 47), (34, 49), (37, 45), (3, 43), (37, 54), (7, 13), (14, 61), (3, 61), (7, 31), (7, 49), (48, 50), (5, 79), (40, 46), (19, 23), (6, 53), (11, 19), (29, 55), (6, 71), (41, 47), (33, 43), (6, 89), (41, 56), (44, 52), (14, 47), (10, 59), (33, 61), (3, 29), (2, 73), (37, 49), (13, 79)}\n"
     ]
    }
   ],
   "source": [
    "print(\"Unique products:\", unique_products)\n"
   ]
  },
  {
   "cell_type": "code",
   "execution_count": 26,
   "id": "f9206869",
   "metadata": {},
   "outputs": [
    {
     "name": "stdout",
     "output_type": "stream",
     "text": [
      "Pairs with unique sum values: [(8, 9), (10, 31), (2, 27), (9, 44), (16, 37), (13, 22), (5, 30), (4, 43), (9, 14), (11, 36), (4, 33), (3, 50), (7, 20), (18, 29), (8, 21), (11, 26), (10, 43), (2, 39), (7, 10), (18, 19), (11, 16), (6, 17), (13, 34), (5, 42), (20, 27), (10, 13), (2, 9), (13, 24), (17, 30), (9, 26), (5, 32), (13, 14), (16, 19), (8, 33), (2, 51), (15, 26), (7, 22), (14, 15), (21, 32), (6, 29), (25, 28), (10, 25), (2, 21), (9, 38), (12, 25), (16, 31), (9, 28), (8, 45), (12, 15), (23, 24), (13, 16), (16, 21), (15, 38), (7, 34), (22, 31), (14, 27), (11, 30), (6, 41), (3, 8), (3, 44), (18, 23), (6, 31), (10, 37), (2, 33), (17, 18), (6, 21), (6, 11), (4, 23), (13, 28), (7, 46), (20, 21), (12, 17), (4, 13), (14, 39), (11, 42), (3, 20), (18, 35), (2, 45), (7, 16), (2, 35), (17, 20), (21, 26), (5, 22), (6, 23), (13, 40), (5, 12), (20, 33), (12, 29), (4, 25), (19, 22), (11, 18), (3, 32), (15, 32), (7, 28), (22, 25), (14, 21), (6, 35), (9, 18), (5, 24), (12, 41), (4, 37), (19, 34), (26, 27), (8, 15), (23, 30), (3, 34), (7, 40), (4, 7), (10, 27), (3, 24), (14, 33), (7, 30), (6, 47), (10, 17), (3, 14), (14, 23), (5, 36), (4, 49), (17, 24), (9, 20), (8, 27), (15, 20), (5, 6), (12, 23), (4, 19), (11, 12), (2, 25), (3, 26), (5, 48), (10, 19), (2, 15), (17, 36), (9, 32), (24, 29), (16, 25), (8, 39), (5, 18), (8, 29), (12, 35), (4, 31), (15, 22), (8, 19), (19, 28), (11, 24), (3, 38)]\n"
     ]
    }
   ],
   "source": [
    "print(\"Pairs with unique sum values:\", unique_sum_pairs)"
   ]
  },
  {
   "cell_type": "code",
   "execution_count": 27,
   "id": "7c0abccd",
   "metadata": {},
   "outputs": [
    {
     "name": "stdout",
     "output_type": "stream",
     "text": [
      "\n",
      "Final result:\n",
      "The numbers that satisfy the conditions: 4 and 13.\n"
     ]
    }
   ],
   "source": [
    "print(\"\\nFinal result:\")\n",
    "if len(result) == 1:\n",
    "    x, y = result[0]\n",
    "    print(f\"The numbers that satisfy the conditions: {x} and {y}.\")\n",
    "else:\n",
    "    print(\"Unable to find numbers that satisfy the conditions.\")"
   ]
  },
  {
   "cell_type": "code",
   "execution_count": null,
   "id": "5c6c8d38",
   "metadata": {},
   "outputs": [],
   "source": []
  }
 ],
 "metadata": {
  "kernelspec": {
   "display_name": "Python 3 (ipykernel)",
   "language": "python",
   "name": "python3"
  },
  "language_info": {
   "codemirror_mode": {
    "name": "ipython",
    "version": 3
   },
   "file_extension": ".py",
   "mimetype": "text/x-python",
   "name": "python",
   "nbconvert_exporter": "python",
   "pygments_lexer": "ipython3",
   "version": "3.11.5"
  }
 },
 "nbformat": 4,
 "nbformat_minor": 5
}
