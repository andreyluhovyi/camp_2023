{
 "cells": [
  {
   "cell_type": "markdown",
   "id": "e11af916",
   "metadata": {},
   "source": [
    "# Homework"
   ]
  },
  {
   "cell_type": "markdown",
   "id": "c2cd9abc",
   "metadata": {},
   "source": [
    "1. Train NN model with custom linear architecture on MNIST or on any dataset from Kaggle (image data with resolution not higher than 80x80 pixels - \n",
    "[Sign language MNIST](https://www.kaggle.com/datasets/datamunge/sign-language-mnist), \n",
    "[A-Z Handwritten Alphabet](https://www.kaggle.com/datasets/sachinpatel21/az-handwritten-alphabets-in-csv-format), etc.)\n",
    "2. Visualize epoch progress (loss and accuracy curves)\n",
    "3. Visualize 10 random elements from test set and model results for those elements"
   ]
  },
  {
   "cell_type": "code",
   "execution_count": 80,
   "id": "bdadf704",
   "metadata": {},
   "outputs": [],
   "source": [
    "import torch\n",
    "import torch.nn as nn\n",
    "import torch.optim as optim\n",
    "import torchvision\n",
    "import matplotlib.pyplot as plt\n",
    "import numpy as np\n",
    "import os"
   ]
  },
  {
   "cell_type": "code",
   "execution_count": 81,
   "id": "0f4448b1",
   "metadata": {},
   "outputs": [],
   "source": [
    "data_transform = torchvision.transforms.Compose([\n",
    "    torchvision.transforms.ToTensor(),\n",
    "    torchvision.transforms.Normalize((0,), (128,)),\n",
    "])"
   ]
  },
  {
   "cell_type": "code",
   "execution_count": 82,
   "id": "01bbd037",
   "metadata": {},
   "outputs": [],
   "source": [
    "training_data = torchvision.datasets.MNIST('dataset', train=True, download=True, transform=data_transform)\n",
    "testing_data = torchvision.datasets.MNIST('dataset', train=False, download=True, transform=data_transform)\n",
    "training_loader = torch.utils.data.DataLoader(training_data, shuffle=True, batch_size=100)\n",
    "testing_loader = torch.utils.data.DataLoader(testing_data, shuffle=True, batch_size=100)"
   ]
  },
  {
   "cell_type": "code",
   "execution_count": 91,
   "id": "908b692d",
   "metadata": {},
   "outputs": [],
   "source": [
    "class HandwrittenClassifier(nn.Module):\n",
    "    def __init__(self):\n",
    "        super().__init__()\n",
    "        self.features = nn.Sequential(\n",
    "            nn.Conv2d(1, 10, kernel_size=5, stride=1, padding=2),\n",
    "            nn.ReLU(),\n",
    "            nn.MaxPool2d(kernel_size=2, stride=1),\n",
    "            nn.Dropout(0.2)\n",
    "        )\n",
    "        self.classifier = nn.Sequential(\n",
    "            nn.Flatten(),\n",
    "            nn.Linear(27*27*10, 128),\n",
    "            nn.ReLU(),\n",
    "            nn.Linear(128, 10)\n",
    "        )\n",
    "        \n",
    "    def forward(self, x):\n",
    "        x = self.features(x)\n",
    "        x = self.classifier(x)\n",
    "        return x\n"
   ]
  },
  {
   "cell_type": "code",
   "execution_count": 92,
   "id": "165ca465",
   "metadata": {},
   "outputs": [],
   "source": [
    "my_model = HandwrittenClassifier()"
   ]
  },
  {
   "cell_type": "code",
   "execution_count": 93,
   "id": "d907b295",
   "metadata": {},
   "outputs": [],
   "source": [
    "my_optimizer = optim.Adam(my_model.parameters())\n",
    "my_loss_fn = nn.CrossEntropyLoss()"
   ]
  },
  {
   "cell_type": "code",
   "execution_count": 94,
   "id": "ad9b939f",
   "metadata": {},
   "outputs": [],
   "source": [
    "def train_one_epoch(model, data_loader, optimizer, loss_fn):\n",
    "    model.train()\n",
    "    total_loss = 0\n",
    "    total_count = 0\n",
    "    for X_batch, y_batch in data_loader:\n",
    "        y_pred = model(X_batch)\n",
    "        loss = loss_fn(y_pred, y_batch)\n",
    "        total_loss += loss.item() * X_batch.size(0)\n",
    "        total_count += X_batch.size(0)\n",
    "        optimizer.zero_grad()\n",
    "        loss.backward()\n",
    "        optimizer.step()\n",
    "    return total_loss / total_count"
   ]
  },
  {
   "cell_type": "code",
   "execution_count": 95,
   "id": "8a3e5f06",
   "metadata": {},
   "outputs": [],
   "source": [
    "def validate(model, data_loader):\n",
    "    model.eval()\n",
    "    accuracy = 0\n",
    "    total = 0\n",
    "    for X_batch, y_batch in data_loader:\n",
    "        y_pred = model(X_batch)\n",
    "        accuracy += (torch.argmax(y_pred, 1) == y_batch).float().sum()\n",
    "        total += len(y_batch)\n",
    "    return accuracy / total"
   ]
  },
  {
   "cell_type": "code",
   "execution_count": 96,
   "id": "a4f30fb0",
   "metadata": {},
   "outputs": [
    {
     "name": "stdout",
     "output_type": "stream",
     "text": [
      "Epoch 0: \n",
      " Accuracy: 83.3%, Avg loss: 1.507314 \n",
      "\n",
      "Epoch 1: \n",
      " Accuracy: 87.7%, Avg loss: 0.520296 \n",
      "\n",
      "Epoch 2: \n",
      " Accuracy: 89.3%, Avg loss: 0.434539 \n",
      "\n",
      "Epoch 3: \n",
      " Accuracy: 89.9%, Avg loss: 0.393791 \n",
      "\n",
      "Epoch 4: \n",
      " Accuracy: 90.4%, Avg loss: 0.366584 \n",
      "\n",
      "Epoch 5: \n",
      " Accuracy: 91.2%, Avg loss: 0.342107 \n",
      "\n",
      "Epoch 6: \n",
      " Accuracy: 91.6%, Avg loss: 0.322035 \n",
      "\n",
      "Epoch 7: \n",
      " Accuracy: 92.0%, Avg loss: 0.305549 \n",
      "\n",
      "Epoch 8: \n",
      " Accuracy: 92.4%, Avg loss: 0.286658 \n",
      "\n",
      "Epoch 9: \n",
      " Accuracy: 92.7%, Avg loss: 0.272717 \n",
      "\n"
     ]
    }
   ],
   "source": [
    "num_epochs = 10\n",
    "for epoch in range(num_epochs): \n",
    "    avg_loss = train_one_epoch(my_model, training_loader, my_optimizer, my_loss_fn)\n",
    "    accuracy = validate(my_model, testing_loader)\n",
    "    print(f\"Epoch {epoch}: \\n Accuracy: {(100*accuracy):>0.1f}%, Avg loss: {avg_loss:>8f} \\n\")"
   ]
  },
  {
   "cell_type": "code",
   "execution_count": 97,
   "id": "8dd593d2",
   "metadata": {},
   "outputs": [],
   "source": [
    "new_folder = 'new_folder'\n",
    "os.makedirs(new_folder, exist_ok=True)\n",
    "torch.save(my_model.state_dict(), os.path.join(new_folder, 'handwritten_model.pth'))"
   ]
  },
  {
   "cell_type": "code",
   "execution_count": 103,
   "id": "176ee4e2",
   "metadata": {},
   "outputs": [
    {
     "data": {
      "image/png": "[encoded data removed]",
      "text/plain": [
       "<Figure size 1000x500 with 10 Axes>"
      ]
     },
     "metadata": {},
     "output_type": "display_data"
    }
   ],
   "source": [
    "my_model.eval()\n",
    "dataiter = iter(testing_loader)\n",
    "images, labels = dataiter.__next__()\n",
    "\n",
    "idx = np.random.choice(testing_loader.batch_size, 10, replace=False)\n",
    "images = images[idx]\n",
    "labels = labels[idx]\n",
    "\n",
    "outputs = my_model(images)\n",
    "_, predicted = torch.max(outputs, 1)\n",
    "\n",
    "fig, axes = plt.subplots(2, 5, figsize=(10, 5))\n",
    "for i, ax in enumerate(axes.flat):\n",
    "    ax.imshow(images[i].numpy().squeeze(), cmap='gray')\n",
    "    ax.set_title(f'Predicted: {predicted[i].item()}, True: {labels[i].item()}')\n",
    "    ax.axis('off')\n",
    "\n",
    "plt.tight_layout()\n",
    "plt.show()"
   ]
  },
  {
   "cell_type": "code",
   "execution_count": null,
   "id": "76322e61",
   "metadata": {},
   "outputs": [],
   "source": []
  },
  {
   "cell_type": "code",
   "execution_count": null,
   "id": "cb1b8101",
   "metadata": {},
   "outputs": [],
   "source": []
  },
  {
   "cell_type": "code",
   "execution_count": null,
   "id": "d5bdf67d",
   "metadata": {},
   "outputs": [],
   "source": []
  }
 ],
 "metadata": {
  "kernelspec": {
   "display_name": "Python 3 (ipykernel)",
   "language": "python",
   "name": "python3"
  },
  "language_info": {
   "codemirror_mode": {
    "name": "ipython",
    "version": 3
   },
   "file_extension": ".py",
   "mimetype": "text/x-python",
   "name": "python",
   "nbconvert_exporter": "python",
   "pygments_lexer": "ipython3",
   "version": "3.11.5"
  }
 },
 "nbformat": 4,
 "nbformat_minor": 5
}
