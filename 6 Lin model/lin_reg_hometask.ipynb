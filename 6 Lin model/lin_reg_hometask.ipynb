{
 "cells": [
  {
   "cell_type": "markdown",
   "metadata": {},
   "source": [
    "<font color = green>\n",
    "\n",
    "# Linear Regression one variable (manual implementation)\n",
    "\n",
    "</font>"
   ]
  },
  {
   "cell_type": "markdown",
   "metadata": {},
   "source": [
    "<font color = green >\n",
    "\n",
    "### Import necessary packages\n",
    "</font>"
   ]
  },
  {
   "cell_type": "code",
   "execution_count": 1,
   "metadata": {},
   "outputs": [],
   "source": [
    "import matplotlib.pyplot as plt\n",
    "import pandas as pd \n",
    "import numpy as np \n",
    "from sklearn.model_selection import train_test_split"
   ]
  },
  {
   "cell_type": "markdown",
   "metadata": {},
   "source": [
    "<font color = green >\n",
    "\n",
    "### Set interactive backend \n",
    "</font>"
   ]
  },
  {
   "cell_type": "code",
   "execution_count": 2,
   "metadata": {},
   "outputs": [],
   "source": [
    "%matplotlib inline"
   ]
  },
  {
   "cell_type": "markdown",
   "metadata": {},
   "source": [
    "<font color = green >\n",
    "\n",
    "### Load data set \n",
    "</font>"
   ]
  },
  {
   "cell_type": "code",
   "execution_count": 3,
   "metadata": {},
   "outputs": [
    {
     "name": "stderr",
     "output_type": "stream",
     "text": [
      "C:\\Users\\lygov\\anaconda3\\Lib\\site-packages\\sklearn\\utils\\deprecation.py:87: FutureWarning: Function load_boston is deprecated; `load_boston` is deprecated in 1.0 and will be removed in 1.2.\n",
      "\n",
      "    The Boston housing prices dataset has an ethical problem. You can refer to\n",
      "    the documentation of this function for further details.\n",
      "\n",
      "    The scikit-learn maintainers therefore strongly discourage the use of this\n",
      "    dataset unless the purpose of the code is to study and educate about\n",
      "    ethical issues in data science and machine learning.\n",
      "\n",
      "    In this special case, you can fetch the dataset from the original\n",
      "    source::\n",
      "\n",
      "        import pandas as pd\n",
      "        import numpy as np\n",
      "\n",
      "        data_url = \"http://lib.stat.cmu.edu/datasets/boston\"\n",
      "        raw_df = pd.read_csv(data_url, sep=\"\\s+\", skiprows=22, header=None)\n",
      "        data = np.hstack([raw_df.values[::2, :], raw_df.values[1::2, :2]])\n",
      "        target = raw_df.values[1::2, 2]\n",
      "\n",
      "    Alternative datasets include the California housing dataset (i.e.\n",
      "    :func:`~sklearn.datasets.fetch_california_housing`) and the Ames housing\n",
      "    dataset. You can load the datasets as follows::\n",
      "\n",
      "        from sklearn.datasets import fetch_california_housing\n",
      "        housing = fetch_california_housing()\n",
      "\n",
      "    for the California housing dataset and::\n",
      "\n",
      "        from sklearn.datasets import fetch_openml\n",
      "        housing = fetch_openml(name=\"house_prices\", as_frame=True)\n",
      "\n",
      "    for the Ames housing dataset.\n",
      "  warnings.warn(msg, category=FutureWarning)\n"
     ]
    }
   ],
   "source": [
    "from sklearn.datasets import load_boston\n",
    "X, y = load_boston(return_X_y=True)\n",
    "df = pd.DataFrame(\n",
    "    X, columns=['CRIM',\n",
    "                'ZN',\n",
    "                'INDUS',\n",
    "                'CHAS',\n",
    "                'NOX',\n",
    "                'RM',\n",
    "                'AGE',\n",
    "                'DIS',\n",
    "                'RAD',\n",
    "                'TAX',\n",
    "                'PTRATIO',\n",
    "                'B',\n",
    "                'LSTAT']\n",
    ")"
   ]
  },
  {
   "cell_type": "markdown",
   "metadata": {},
   "source": [
    "<font color = green >\n",
    "\n",
    "### Select one feature\n",
    "</font>"
   ]
  },
  {
   "cell_type": "code",
   "execution_count": 4,
   "metadata": {},
   "outputs": [],
   "source": [
    "df = df[['RM']] # Note: returns df comparing to  df['RM']\n",
    "df['target'] = y"
   ]
  },
  {
   "cell_type": "markdown",
   "metadata": {},
   "source": [
    "<font color = green >\n",
    "\n",
    "### Review the data \n",
    "</font>"
   ]
  },
  {
   "cell_type": "code",
   "execution_count": 5,
   "metadata": {},
   "outputs": [
    {
     "name": "stdout",
     "output_type": "stream",
     "text": [
      "      RM  target\n",
      "0  6.575    24.0\n",
      "1  6.421    21.6\n",
      "2  7.185    34.7\n",
      "3  6.998    33.4\n",
      "4  7.147    36.2\n",
      "5  6.430    28.7\n",
      "6  6.012    22.9\n",
      "7  6.172    27.1\n",
      "8  5.631    16.5\n",
      "9  6.004    18.9\n"
     ]
    },
    {
     "data": {
      "text/html": [
       "<div>\n",
       "<style scoped>\n",
       "    .dataframe tbody tr th:only-of-type {\n",
       "        vertical-align: middle;\n",
       "    }\n",
       "\n",
       "    .dataframe tbody tr th {\n",
       "        vertical-align: top;\n",
       "    }\n",
       "\n",
       "    .dataframe thead th {\n",
       "        text-align: right;\n",
       "    }\n",
       "</style>\n",
       "<table border=\"1\" class=\"dataframe\">\n",
       "  <thead>\n",
       "    <tr style=\"text-align: right;\">\n",
       "      <th></th>\n",
       "      <th>RM</th>\n",
       "      <th>target</th>\n",
       "    </tr>\n",
       "  </thead>\n",
       "  <tbody>\n",
       "    <tr>\n",
       "      <th>count</th>\n",
       "      <td>506.000000</td>\n",
       "      <td>506.000000</td>\n",
       "    </tr>\n",
       "    <tr>\n",
       "      <th>mean</th>\n",
       "      <td>6.284634</td>\n",
       "      <td>22.532806</td>\n",
       "    </tr>\n",
       "    <tr>\n",
       "      <th>std</th>\n",
       "      <td>0.702617</td>\n",
       "      <td>9.197104</td>\n",
       "    </tr>\n",
       "    <tr>\n",
       "      <th>min</th>\n",
       "      <td>3.561000</td>\n",
       "      <td>5.000000</td>\n",
       "    </tr>\n",
       "    <tr>\n",
       "      <th>25%</th>\n",
       "      <td>5.885500</td>\n",
       "      <td>17.025000</td>\n",
       "    </tr>\n",
       "    <tr>\n",
       "      <th>50%</th>\n",
       "      <td>6.208500</td>\n",
       "      <td>21.200000</td>\n",
       "    </tr>\n",
       "    <tr>\n",
       "      <th>75%</th>\n",
       "      <td>6.623500</td>\n",
       "      <td>25.000000</td>\n",
       "    </tr>\n",
       "    <tr>\n",
       "      <th>max</th>\n",
       "      <td>8.780000</td>\n",
       "      <td>50.000000</td>\n",
       "    </tr>\n",
       "  </tbody>\n",
       "</table>\n",
       "</div>"
      ],
      "text/plain": [
       "               RM      target\n",
       "count  506.000000  506.000000\n",
       "mean     6.284634   22.532806\n",
       "std      0.702617    9.197104\n",
       "min      3.561000    5.000000\n",
       "25%      5.885500   17.025000\n",
       "50%      6.208500   21.200000\n",
       "75%      6.623500   25.000000\n",
       "max      8.780000   50.000000"
      ]
     },
     "execution_count": 5,
     "metadata": {},
     "output_type": "execute_result"
    }
   ],
   "source": [
    "print (df.head(10))\n",
    "df.describe ()"
   ]
  },
  {
   "cell_type": "code",
   "execution_count": 6,
   "metadata": {},
   "outputs": [
    {
     "data": {
      "text/plain": [
       "<Axes: xlabel='RM', ylabel='target'>"
      ]
     },
     "execution_count": 6,
     "metadata": {},
     "output_type": "execute_result"
    },
    {
     "data": {
      "image/png": "[encoded data removed]",
      "text/plain": [
       "<Figure size 640x480 with 1 Axes>"
      ]
     },
     "metadata": {},
     "output_type": "display_data"
    }
   ],
   "source": [
    "df.plot.scatter('RM', 'target')"
   ]
  },
  {
   "cell_type": "markdown",
   "metadata": {},
   "source": [
    "<font color = green >\n",
    "\n",
    "## Custom Linear Regression Classifier\n",
    "</font>"
   ]
  },
  {
   "cell_type": "markdown",
   "metadata": {},
   "source": [
    "<font color = green >\n",
    "\n",
    "### Load all data \n",
    "</font>"
   ]
  },
  {
   "cell_type": "code",
   "execution_count": 7,
   "metadata": {},
   "outputs": [
    {
     "name": "stderr",
     "output_type": "stream",
     "text": [
      "C:\\Users\\lygov\\anaconda3\\Lib\\site-packages\\sklearn\\utils\\deprecation.py:87: FutureWarning: Function load_boston is deprecated; `load_boston` is deprecated in 1.0 and will be removed in 1.2.\n",
      "\n",
      "    The Boston housing prices dataset has an ethical problem. You can refer to\n",
      "    the documentation of this function for further details.\n",
      "\n",
      "    The scikit-learn maintainers therefore strongly discourage the use of this\n",
      "    dataset unless the purpose of the code is to study and educate about\n",
      "    ethical issues in data science and machine learning.\n",
      "\n",
      "    In this special case, you can fetch the dataset from the original\n",
      "    source::\n",
      "\n",
      "        import pandas as pd\n",
      "        import numpy as np\n",
      "\n",
      "        data_url = \"http://lib.stat.cmu.edu/datasets/boston\"\n",
      "        raw_df = pd.read_csv(data_url, sep=\"\\s+\", skiprows=22, header=None)\n",
      "        data = np.hstack([raw_df.values[::2, :], raw_df.values[1::2, :2]])\n",
      "        target = raw_df.values[1::2, 2]\n",
      "\n",
      "    Alternative datasets include the California housing dataset (i.e.\n",
      "    :func:`~sklearn.datasets.fetch_california_housing`) and the Ames housing\n",
      "    dataset. You can load the datasets as follows::\n",
      "\n",
      "        from sklearn.datasets import fetch_california_housing\n",
      "        housing = fetch_california_housing()\n",
      "\n",
      "    for the California housing dataset and::\n",
      "\n",
      "        from sklearn.datasets import fetch_openml\n",
      "        housing = fetch_openml(name=\"house_prices\", as_frame=True)\n",
      "\n",
      "    for the Ames housing dataset.\n",
      "  warnings.warn(msg, category=FutureWarning)\n"
     ]
    }
   ],
   "source": [
    "X, y = load_boston(return_X_y=True)\n",
    "\n",
    "# YOUR_CODE. select the values of feature 5 only (corresponding to 'RM') and assign to X \n",
    "# START_CODE \n",
    "X = X[:,5]\n",
    "# END_CODE \n",
    "\n",
    "X = X.reshape(-1,1) # make it 2d as for case of mutivariable\n",
    "\n",
    "# YOUR_CODE. Apply train_test_split to X and Y to get X_train, X_test, y_train, y_test\n",
    "# START_CODE \n",
    "X_train, X_test, y_train, y_test=  train_test_split(X, y, random_state=2023)\n",
    "# END_CODE \n"
   ]
  },
  {
   "cell_type": "markdown",
   "metadata": {},
   "source": [
    "<font color = blue >\n",
    "\n",
    "### Check loaded data\n",
    "\n",
    "</font>"
   ]
  },
  {
   "cell_type": "code",
   "execution_count": 8,
   "metadata": {},
   "outputs": [
    {
     "name": "stdout",
     "output_type": "stream",
     "text": [
      "X_train.shape=  (379, 1)\n",
      "y_train.shape=  (379,)\n"
     ]
    },
    {
     "data": {
      "text/plain": [
       "array([[5.895],\n",
       "       [5.569],\n",
       "       [8.704],\n",
       "       [6.727],\n",
       "       [6.398],\n",
       "       [7.206],\n",
       "       [6.718],\n",
       "       [6.372],\n",
       "       [5.854],\n",
       "       [6.618]])"
      ]
     },
     "execution_count": 8,
     "metadata": {},
     "output_type": "execute_result"
    }
   ],
   "source": [
    "# DON'T_CHANGE_THIS_CODE. It is used to let you check the result is correct \n",
    "print ('X_train.shape= ',X_train.shape)\n",
    "print ('y_train.shape= ',y_train.shape)\n",
    "X_train[:10]"
   ]
  },
  {
   "cell_type": "markdown",
   "metadata": {},
   "source": [
    "<font color = blue>\n",
    "Expected output:\n",
    "</font>\n",
    "\n",
    "<br>`X_train.shape=  (379, 1)`\n",
    "<br>`y_train.shape=  (379,)`"
   ]
  },
  {
   "cell_type": "markdown",
   "metadata": {},
   "source": [
    "<font color = green >\n",
    "\n",
    "### Develop expresion of h\n",
    "\n",
    "</font>"
   ]
  },
  {
   "cell_type": "code",
   "execution_count": 9,
   "metadata": {},
   "outputs": [],
   "source": [
    "class Linear_Regression_1():\n",
    "    def __init__(self):\n",
    "        pass\n",
    "            \n",
    "    def h(self, b, w, X): \n",
    "        '''\n",
    "        :param b -  float or ndarry of shape [m,1], m - number of samples\n",
    "        :param w - ndarray of shape [1,n],  n - number of features\n",
    "        :param X - ndarray of shape [m,n], m - number of samples, n - number of features\n",
    "        '''\n",
    "        assert (X.shape[1]== w.shape[1])\n",
    "\n",
    "        # YOUR_CODE. Assign expression for h to h_res \n",
    "        # START_CODE \n",
    "        h_res = b + X@w.T\n",
    "        # END_CODE \n",
    "        \n",
    "        return h_res"
   ]
  },
  {
   "cell_type": "markdown",
   "metadata": {},
   "source": [
    "<font color = blue >\n",
    "\n",
    "### Check h\n",
    "\n",
    "</font>"
   ]
  },
  {
   "cell_type": "code",
   "execution_count": 10,
   "metadata": {},
   "outputs": [
    {
     "name": "stdout",
     "output_type": "stream",
     "text": [
      "b= -0.276767596147759, \n",
      "w= [[0.581851]], \n",
      "X= \n",
      "[[ 2.14839926]\n",
      " [-1.279487  ]\n",
      " [ 0.50227689]\n",
      " [ 0.8560293 ]\n",
      " [-0.14279008]\n",
      " [ 0.11007867]\n",
      " [-0.68806479]\n",
      " [ 0.43356408]\n",
      " [ 0.510221  ]\n",
      " [-0.16513097]]\n"
     ]
    },
    {
     "data": {
      "text/plain": [
       "array([[ 0.97328067],\n",
       "       [-1.02123839],\n",
       "       [ 0.01548272],\n",
       "       [ 0.22131391],\n",
       "       [-0.35985014],\n",
       "       [-0.21271821],\n",
       "       [-0.67711878],\n",
       "       [-0.0244979 ],\n",
       "       [ 0.02010501],\n",
       "       [-0.37284922]])"
      ]
     },
     "execution_count": 10,
     "metadata": {},
     "output_type": "execute_result"
    }
   ],
   "source": [
    "# DON'T_CHANGE_THIS_CODE. It is used to let you check the result is correct \n",
    "np.random.seed(2018)\n",
    "b_check= np.random.randn()\n",
    "w_check= np.random.randn(1,1)\n",
    "X_check= np.random.randn(10,1)\n",
    "print('b= {}, \\nw= {}, \\nX= \\n{}'.format(b_check, w_check, X_check))\n",
    "lin_reg_1 = Linear_Regression_1()\n",
    "lin_reg_1.h(b_check, w_check, X_check)"
   ]
  },
  {
   "cell_type": "markdown",
   "metadata": {},
   "source": [
    "<font color = blue>\n",
    "Expected output:\n",
    "</font>\n",
    "\n",
    "\n",
    "``` \n",
    "([[ 0.97328067],\n",
    "[-1.02123839],\n",
    "[ 0.01548272],\n",
    "[ 0.22131391],\n",
    "[-0.35985014],\n",
    "[-0.21271821],\n",
    "[-0.67711878],\n",
    "[-0.0244979 ],\n",
    "[ 0.02010501],\n",
    "[-0.37284922]])\n"
   ]
  },
  {
   "cell_type": "markdown",
   "metadata": {},
   "source": [
    "<font color = green >\n",
    "\n",
    "### Develop expresion of Cost Function\n",
    "\n",
    "</font>"
   ]
  },
  {
   "cell_type": "code",
   "execution_count": 11,
   "metadata": {},
   "outputs": [],
   "source": [
    "class Linear_Regression_2():\n",
    "    '''linear regression using gradient descent\n",
    "    '''\n",
    "    def __init__(self):\n",
    "        pass\n",
    "\n",
    "\n",
    "    def J (self, h, y):      \n",
    "        '''\n",
    "        :param h - ndarray of shape (m,1)\n",
    "        :param y - ndarray of shape (m,1)\n",
    "        :return expression for cost function \n",
    "        '''\n",
    "        if h.shape !=y.shape:\n",
    "            print('h.shape = {} does not match y.shape = {}.Expected {}'.format (h.shape, y.shape, (self.m,1)))\n",
    "            raise Exception('Check assertion in J')    \n",
    "   \n",
    "        # YOUR_CODE. Assign expression for J to J_res \n",
    "        # START_CODE \n",
    "        J_res = 1 / (2 * m) * np.sum((h - y) **2)\n",
    "        # END_CODE         \n",
    "        return J_res           \n",
    " "
   ]
  },
  {
   "cell_type": "markdown",
   "metadata": {},
   "source": [
    "<font color = blue >\n",
    "\n",
    "### Check J\n",
    "\n",
    "</font>"
   ]
  },
  {
   "cell_type": "code",
   "execution_count": 12,
   "metadata": {},
   "outputs": [
    {
     "name": "stdout",
     "output_type": "stream",
     "text": [
      "y= [[-0.21767896]\n",
      " [ 0.82145535]\n",
      " [ 1.48127781]\n",
      " [ 1.33186404]\n",
      " [-0.36186537]\n",
      " [ 0.68560883]\n",
      " [ 0.57376143]\n",
      " [ 0.28772767]\n",
      " [-0.23563426]\n",
      " [ 0.95349024]], \n",
      "h= [[-1.6896253 ]\n",
      " [-0.34494271]\n",
      " [ 0.0169049 ]\n",
      " [-0.51498352]\n",
      " [ 0.24450929]\n",
      " [-0.18931261]\n",
      " [ 2.67217242]\n",
      " [ 0.46480249]\n",
      " [ 0.84593044]\n",
      " [-0.50354158]]\n"
     ]
    },
    {
     "data": {
      "text/plain": [
       "0.897146515186598"
      ]
     },
     "execution_count": 12,
     "metadata": {},
     "output_type": "execute_result"
    }
   ],
   "source": [
    "# DON'T_CHANGE_THIS_CODE. It is used to let you check the result is correct \n",
    "np.random.seed(2019)\n",
    "m = 10 \n",
    "y_check= np.random.randn(m,1)\n",
    "h_check= np.random.randn(m,1)\n",
    "print('y= {}, \\nh= {}'.format(y_check, h_check))\n",
    "lin_reg_2 = Linear_Regression_2()\n",
    "lin_reg_2.m = m \n",
    "lin_reg_2.J(h_check, y_check)"
   ]
  },
  {
   "cell_type": "markdown",
   "metadata": {},
   "source": [
    "<font color = blue>\n",
    "Expected output:\n",
    "</font>\n",
    "\n",
    "<br>`0.897146515186598`\n"
   ]
  },
  {
   "cell_type": "markdown",
   "metadata": {},
   "source": [
    "<font color = green >\n",
    "\n",
    "### Develop expresion of Cost Function  derivative \n",
    "\n",
    "</font>"
   ]
  },
  {
   "cell_type": "code",
   "execution_count": 14,
   "metadata": {},
   "outputs": [],
   "source": [
    "class Linear_Regression_3():\n",
    "    def __init__(self, max_iter = 1e5, alpha = 1,eps = 1e-10, verbose= 0):\n",
    "        pass        \n",
    "\n",
    "    def h(self, b, w, X): \n",
    "        '''\n",
    "        :param b -  float or ndarry of shape [m,1], m - number of samples\n",
    "        :param w - ndarray of shape [1,m],  n - number of features\n",
    "        :param X - ndarray of shape [m,n], m - number of samples, n - number of features\n",
    "        '''\n",
    "        assert (X.shape[1]== w.shape[1])\n",
    "\n",
    "        # YOUR_CODE. Insert the expression of h developed in Linear_Regression_1\n",
    "        # START_CODE \n",
    "        h_res = b + X@w.T\n",
    "        # END_CODE\n",
    "\n",
    "        return h_res\n",
    "        \n",
    "    def J_derivative(self, params, X, y): \n",
    "        '''\n",
    "        :param params - tuple (b,w), where w is the 2d ndarry of shape (1,n), n- number of features \n",
    "        :param X- ndarray of shape (m, n)\n",
    "        :param y - ndarray of shape (m,1)\n",
    "        :return tuple of derivatrives of cost function by b and w\n",
    "        '''    \n",
    "        b,w = params\n",
    "        assert (w.shape == (1,self.n))                \n",
    "        h_val = self.h(b,w,X)\n",
    "        if  h_val.shape != (self.m, 1):\n",
    "            print('h.shape = {}, but expected {}'.format (h_val.shape, (self.m, 1)))\n",
    "            raise Exception('Check assertion in J_derivative')\n",
    "\n",
    "        # YOUR_CODE. Assign expressions for derivates of J by b and by w  to dJ_b and dJ_w corrrespondingly       \n",
    "        # START_CODE  \n",
    "        dJ_b = 1 / self.m * np.sum((b + w * X) - y)\n",
    "        dJ_w = 1 / self.m * np.sum(((b + w * X) - y).T @ X)\n",
    "        # END_CODE\n",
    "        \n",
    "        return (dJ_b, dJ_w)\n"
   ]
  },
  {
   "cell_type": "markdown",
   "metadata": {},
   "source": [
    "<font color = blue >\n",
    "\n",
    "### Check cost function derivatives \n",
    "\n",
    "</font>"
   ]
  },
  {
   "cell_type": "code",
   "execution_count": 15,
   "metadata": {},
   "outputs": [
    {
     "name": "stdout",
     "output_type": "stream",
     "text": [
      "X= [[-1.76884571]\n",
      " [ 0.07555227]\n",
      " [-1.1306297 ]\n",
      " [-0.65143017]\n",
      " [-0.89311563]\n",
      " [-1.27410098]\n",
      " [-0.06115443]\n",
      " [ 0.06451384]\n",
      " [ 0.41011295]\n",
      " [-0.57288249]], \n",
      "y= [[-0.80133362]\n",
      " [ 1.31203519]\n",
      " [ 1.27469887]\n",
      " [-1.2143576 ]\n",
      " [ 0.31371941]\n",
      " [-1.44482142]\n",
      " [-0.3689613 ]\n",
      " [-0.76922658]\n",
      " [ 0.3926161 ]\n",
      " [ 0.05729383]], \n",
      "b= 2.0899788404287745 \n",
      "w= [[0.04197131]]\n"
     ]
    },
    {
     "data": {
      "text/plain": [
       "(2.1904608819958713, -1.4328426209410612)"
      ]
     },
     "execution_count": 15,
     "metadata": {},
     "output_type": "execute_result"
    }
   ],
   "source": [
    "# DON'T_CHANGE_THIS_CODE. It is used to let you check the result is correct \n",
    "np.random.seed(2020)\n",
    "m = 10 \n",
    "n = 1\n",
    "X_check= np.random.randn(m,n)\n",
    "y_check= np.random.randn(m,1)\n",
    "b_check= np.random.randn()\n",
    "w_check= np.random.randn(1,n)\n",
    "params = b_check,w_check \n",
    "print('X= {}, \\ny= {}, \\nb= {} \\nw= {}'.format(X_check, y_check, b_check, w_check))\n",
    "\n",
    "lin_reg_3 = Linear_Regression_3()\n",
    "lin_reg_3.m = m \n",
    "lin_reg_3.n = n \n",
    "lin_reg_3.J_derivative(params, X_check, y_check)"
   ]
  },
  {
   "cell_type": "markdown",
   "metadata": {},
   "source": [
    "<font color = blue>\n",
    "Expected output:\n",
    "</font>\n",
    "\n",
    "`(2.1904608819958713, -1.4328426209410612)`\n"
   ]
  },
  {
   "cell_type": "markdown",
   "metadata": {},
   "source": [
    "<font color = green >\n",
    "\n",
    "### Develop gradient descent \n",
    "\n",
    "</font>"
   ]
  },
  {
   "cell_type": "code",
   "execution_count": 16,
   "metadata": {},
   "outputs": [],
   "source": [
    "class Linear_Regression_4():\n",
    "    '''\n",
    "    linear regression using gradient descent\n",
    "    '''\n",
    "    def __init__(self, max_iter = 1e5, alpha = 0.01,eps = 1e-10, verbose= 0):\n",
    "        '''\n",
    "        :param verbose: set 1 to display more details of J val changes\n",
    "        '''\n",
    "        self.max_iter = max_iter\n",
    "        self.alpha = alpha\n",
    "        self.eps = eps\n",
    "        self.verbose = verbose       \n",
    "        \n",
    "    def h(self, b, w, X): \n",
    "        '''\n",
    "        :param b -  float or ndarry of shape [m,1], m - number of samples\n",
    "        :param w - ndarray of shape [1,n],  n - number of features\n",
    "        :param X - ndarray of shape [m,n], m - number of samples, n - number of features\n",
    "        '''\n",
    "        assert (X.shape[1]== w.shape[1])\n",
    "\n",
    "        # YOUR_CODE. Insert the expression of h developed in Linear_Regression_1\n",
    "        # START_CODE \n",
    "        h_res = b + X@w.T\n",
    "        # END_CODE \n",
    "        \n",
    "        if h_res.shape != (X.shape[0],1):\n",
    "            print('h.shape = {} but expected {}'.format (h_res.shape,  (self.m,1)))\n",
    "            raise Exception('Check assertion in h')    \n",
    "        return h_res\n",
    "\n",
    "    def J (self, h, y):      \n",
    "        '''\n",
    "        :param h - ndarray of shape (m,1)\n",
    "        :param y - ndarray of shape (m,1)\n",
    "        :return expression for cost function \n",
    "        '''\n",
    "        if h.shape !=y.shape:\n",
    "            print('h.shape = {} does not match y.shape = {}.Expected {}'.format (h.shape, y.shape, (self.m,1)))\n",
    "            raise Exception('Check assertion in J')   \n",
    "        # YOUR_CODE. Insert the expression of J developed in Linear_Regression_2\n",
    "        # START_CODE \n",
    "        J_res = 1 / (2 * m) * np.sum((h - y) **2)\n",
    "        # END_CODE \n",
    "\n",
    "        return J_res\n",
    "        \n",
    "    def J_derivative(self, params, X, y): \n",
    "        '''\n",
    "        :param params - tuple (b,w), where w is the 2d ndarry of shape (1,n), n- number of features \n",
    "        :param X- ndarray of shape (m, n)\n",
    "        :param y - ndarray of shape (m,1)\n",
    "        :return tuple of derivatrives of cost function by b and w\n",
    "        '''\n",
    "      \n",
    "        b,w = params\n",
    "        assert (w.shape == (1,self.n))                \n",
    "        h_val = self.h(b,w,X)\n",
    "        if  h_val.shape != (self.m, 1):\n",
    "            print('h.shape = {}, but expected {}'.format (h_val.shape, (self.m, 1)))\n",
    "            raise Exception('Check assertion in J_derivative')\n",
    "        \n",
    "        # YOUR_CODE. Insert the expressions for derivates of J by b and by w to dJ_b and dJ_w developed in Linear_Regression_3\n",
    "        # START_CODE             \n",
    "        dJ_b= 1 / self.m * np.sum(h_val - y)\n",
    "        dJ_w= 1 / self.m * np.sum((h_val-y)*X)\n",
    "        # END_CODE\n",
    "        \n",
    "        return (dJ_b, dJ_w)\n",
    "\n",
    "    def fit(self, X, y):\n",
    "        '''\n",
    "        :param X - ndarray training set of shape [m,n], m - number of samples, n - number of features\n",
    "        :param y - ndarray - 1d array \n",
    "        :return: True in case of successful fit \n",
    "        '''      \n",
    "        if self.verbose: \n",
    "            print ('Running gradient descent with alpha = {}, eps= {}, max_iter= {}'.format(\n",
    "                self.alpha, self.eps, self.max_iter))\n",
    "        self.m,self.n= X.shape # number of samples, number of features  \n",
    "        y = y.reshape(self.m,1) # make it 2 d to make sure it corresponds to h_val\n",
    "        b = 0 # init intercept with 0\n",
    "        w= np.zeros(self.n).reshape(1,-1) # make sure it's shape is [1,n]\n",
    "        params = (b,w)\n",
    "        \n",
    "        self.J_hist=[-1] # used for keeping J values. Init with -1 to avoid 0 at first iter\n",
    "        continue_iter = True # flag to continue next iter (grad desc step)\n",
    "        iter_number =0 # used for limit by max_iter\n",
    "\n",
    "        while continue_iter:            \n",
    "            # Do step of gradient descent    \n",
    "            # YOUR_CODE. Develop one step of gradien descent \n",
    "            # START_CODE \n",
    "            dJ_b = 1 / self.m * np.sum((b + w * X) - y)\n",
    "            dJ_w = 1 / self.m * np.sum(((b + w * X) - y).T @ X)\n",
    "            b = b-self.alpha*dJ_b\n",
    "            w = w-self.alpha*dJ_w\n",
    "            params = (b,w)\n",
    "            # END_CODE \n",
    "            \n",
    "            # keep history of J values\n",
    "            self.J_hist.append(self.J(self.h(b, w, X), y))\n",
    "            if self.verbose:\n",
    "                print ('b = {}, w= {}, J= {}'.format(b,w,self.J_hist[-1]))\n",
    "            # check criteria of exit the loop (finish grad desc)\n",
    "            if self.max_iter and iter_number> self.max_iter: # if max_iter is provided and limit succeeded\n",
    "                continue_iter = False\n",
    "            elif np.abs(self.J_hist[iter_number-1] - self.J_hist[iter_number])< self.eps: # if accuracy is succeeded\n",
    "                continue_iter = False\n",
    "            iter_number += 1\n",
    "            \n",
    "        # store the final params to further using \n",
    "        self.intercept_, self.coef_= params        \n",
    "        return True        \n",
    " "
   ]
  },
  {
   "cell_type": "markdown",
   "metadata": {},
   "source": [
    "<font color = blue >\n",
    "\n",
    "### Check gradient descent\n",
    "\n",
    "</font>"
   ]
  },
  {
   "cell_type": "code",
   "execution_count": 17,
   "metadata": {},
   "outputs": [
    {
     "name": "stdout",
     "output_type": "stream",
     "text": [
      "X= [[ 1.48860905]\n",
      " [ 0.67601087]\n",
      " [-0.41845137]\n",
      " [-0.80652081]\n",
      " [ 0.55587583]\n",
      " [-0.70550429]\n",
      " [ 1.13085826]\n",
      " [ 0.64500184]\n",
      " [ 0.10641374]\n",
      " [ 0.42215483]], \n",
      "y= [[ 0.12420684]\n",
      " [-0.83795346]\n",
      " [ 0.4090157 ]\n",
      " [ 0.10275122]\n",
      " [-1.90772239]\n",
      " [ 1.1002243 ]\n",
      " [-1.40232506]\n",
      " [-0.22508127]\n",
      " [-1.33620597]\n",
      " [ 0.30372151]]\n",
      "Running gradient descent with alpha = 1, eps= 1e-10, max_iter= 5\n",
      "b = -0.36693685587288444, w= [[-0.4217246]], J= 0.33976525493056825\n",
      "b = -0.23643637277401236, w= [[-0.46886908]], J= 0.3278115023016167\n",
      "b = -0.22184776004990137, w= [[-0.52721539]], J= 0.3250909705515032\n",
      "b = -0.20379279582278398, w= [[-0.55396166]], J= 0.32428457786538833\n",
      "b = -0.19551630227029396, w= [[-0.5697399]], J= 0.32403801171263197\n",
      "b = -0.19063380881762437, w= [[-0.57831305]], J= 0.3239623872203208\n",
      "b = -0.18798089094052142, w= [[-0.58309057]], J= 0.32393918537714383\n"
     ]
    },
    {
     "data": {
      "text/plain": [
       "True"
      ]
     },
     "execution_count": 17,
     "metadata": {},
     "output_type": "execute_result"
    }
   ],
   "source": [
    "# DON'T_CHANGE_THIS_CODE. It is used to let you check the result is correct \n",
    "np.random.seed(2021)\n",
    "m = 10 \n",
    "n = 1\n",
    "X_check= np.random.randn(m,n)\n",
    "y_check= np.random.randn(m,1)\n",
    "print('X= {}, \\ny= {}'.format(X_check, y_check))\n",
    "lin_reg_4 = Linear_Regression_4(alpha = 1, max_iter = 5, verbose=1)\n",
    "lin_reg_4.fit(X_check, y_check)"
   ]
  },
  {
   "cell_type": "markdown",
   "metadata": {},
   "source": [
    "<font color = blue>\n",
    "Expected output:\n",
    "</font>\n",
    "\n",
    "```\n",
    "Running gradient descent with alpha = 1, eps= 1e-10, max_iter= 5\n",
    "b = -0.36693685587288444, w= [[-0.4217246]], J= 0.33976525493056825\n",
    "b = -0.23643637277401236, w= [[-0.46886908]], J= 0.3278115023016167\n",
    "b = -0.22184776004990137, w= [[-0.52721539]], J= 0.3250909705515032\n",
    "b = -0.20379279582278398, w= [[-0.55396166]], J= 0.32428457786538833\n",
    "b = -0.19551630227029396, w= [[-0.5697399]], J= 0.32403801171263197\n",
    "b = -0.19063380881762437, w= [[-0.57831305]], J= 0.3239623872203208\n",
    "b = -0.18798089094052142, w= [[-0.58309057]], J= 0.3239391853771439\n",
    "```\n"
   ]
  },
  {
   "cell_type": "markdown",
   "metadata": {},
   "source": [
    "<font color = green >\n",
    "\n",
    "### Alltogether \n",
    "\n",
    "</font>\n",
    "\n",
    "Please copy the code of functions you developed above to the class corresponding functions.\n",
    "    \n",
    "Please review addtional already implemented functions: draw_cost_changes(), predict() and score()\n",
    "\n"
   ]
  },
  {
   "cell_type": "code",
   "execution_count": 18,
   "metadata": {},
   "outputs": [],
   "source": [
    "from sklearn.metrics import r2_score"
   ]
  },
  {
   "cell_type": "code",
   "execution_count": 19,
   "metadata": {},
   "outputs": [],
   "source": [
    "class Linear_Regression():\n",
    "    '''\n",
    "    linear regression using gradient descent\n",
    "    '''\n",
    "    def __init__(self, max_iter = 1e5, alpha = 0.01, eps = 1e-10, verbose= 0):\n",
    "        '''\n",
    "        :param verbose: set 1 to display more details of J val changes\n",
    "        '''\n",
    "        self.max_iter = max_iter\n",
    "        self.alpha = alpha\n",
    "        self.eps = eps\n",
    "        self.verbose = verbose       \n",
    "        \n",
    "    def h(self, b, w, X):\n",
    "        '''\n",
    "        :param b - float or ndarry of shape [m,1], m - number of samples\n",
    "        :param w - ndarray of shape [1,m],  n - number of features\n",
    "        :param X - ndarray of shape [m,n], m - number of samples, n - number of features\n",
    "        '''\n",
    "        assert (X.shape[1]== w.shape[1])\n",
    "\n",
    "        # YOUR_CODE. Insert the expression of h developed in Linear_Regression_1\n",
    "        # START_CODE \n",
    "        h_res= b + X @ w.T\n",
    "        #h_res= b + w * X\n",
    "        #print(f\"Shape h_res - {h_res.shape}\")\n",
    "\n",
    "        #if h_res.any() == np.nan:\n",
    "        #   print('DEBUG:', X)\n",
    "        # END_CODE \n",
    "        \n",
    "        if h_res.shape != (X.shape[0],1):\n",
    "            print('h.shape = {} but expected {}'.format (h_res.shape,  (self.m,1)))\n",
    "            raise Exception('Check assertion in h')    \n",
    "        return h_res\n",
    "\n",
    "    def J (self, h, y):      \n",
    "        '''\n",
    "        :param h - ndarray of shape (m,1)\n",
    "        :param y - ndarray of shape (m,1)\n",
    "        :return expression for cost function \n",
    "        '''\n",
    "        if h.shape !=y.shape:\n",
    "            print('h.shape = {} does not match y.shape = {}.Expected {}'.format (h.shape, y.shape, (self.m,1)))\n",
    "            raise Exception('Check assertion in J')   \n",
    "        # YOUR_CODE. Insert the expression of J developed in Linear_Regression_2\n",
    "        # START_CODE \n",
    "        J_res = 1 / (2 * m) * np.sum((h - y) ** 2)\n",
    "        # END_CODE \n",
    "\n",
    "        return J_res\n",
    "        \n",
    "    def J_derivative(self, params, X, y): \n",
    "        '''\n",
    "        :param params - tuple (b,w), where w is the 2d ndarry of shape (1,n), n- number of features \n",
    "        :param X- ndarray of shape (m, n)\n",
    "        :param y - ndarray of shape (m,1)\n",
    "        :return tuple of derivatrives of cost function by b and w\n",
    "        '''\n",
    "      \n",
    "        b,w = params\n",
    "        assert (w.shape == (1,self.n))                \n",
    "        h_val = self.h(b,w,X)\n",
    "        if  h_val.shape != (self.m, 1):\n",
    "            print('h.shape = {}, but expected {}'.format (h_val.shape, (self.m, 1)))\n",
    "            raise Exception('Check assertion in J_derivative')\n",
    "        \n",
    "        # YOUR_CODE. Insert the expressions for derivates of J by b and by w to dJ_b and dJ_w developed in Linear_Regression_3\n",
    "        # START_CODE             \n",
    "        \n",
    "        dJ_b = 1/self.m * np.sum((b + w*X) - y)\n",
    "        dJ_w = 1/self.m * np.sum(((b + w*X) - y) * X)\n",
    "        # END_CODE\n",
    "        \n",
    "        return (dJ_b, dJ_w)\n",
    "\n",
    "    def fit(self, X, y):\n",
    "        '''\n",
    "        :param X - ndarray training set of shape [m,n], m - number of samples, n - number of features\n",
    "        :param y - ndarray - 1d array \n",
    "        :return: True in case of successful fit \n",
    "        '''      \n",
    "        if self.verbose: \n",
    "            print ('Running gradient descent with alpha = {}, eps= {}, max_iter= {}'.format(\n",
    "                self.alpha, self.eps, self.max_iter))\n",
    "        self.m,self.n= X.shape # number of samples, number of features  \n",
    "        y = y.reshape(self.m,1) # make it 2 d to make sure it corresponds to h_val\n",
    "        b = 0 # init intercept with 0\n",
    "        w= np.zeros(self.n).reshape(1,-1) # make sure it's shape is [1,n]\n",
    "        params = (b,w)\n",
    "        \n",
    "        self.J_hist=[-1] # used for keeping J values. Init with -1 to avoid 0 at first iter\n",
    "        continue_iter = True # flag to continue next iter (grad desc step)\n",
    "        iter_number =0 # used for limit by max_iter\n",
    "\n",
    "        while continue_iter:            \n",
    "            # Do step of gradient descent    \n",
    "            # YOUR_CODE. Insert one step of gradien descent developed in Linear_Regression_4 \n",
    "            # START_CODE \n",
    "            dJ_b = 1 / self.m * np.sum((b + w*X) - y)\n",
    "            dJ_w = 1 / self.m * np.sum(((b + w*X) - y).T @ X)\n",
    "            b = b - self.alpha * dJ_b\n",
    "            w = w - self.alpha * dJ_w\n",
    "            params = (b, w)\n",
    "            # END_CODE \n",
    "            \n",
    "            # keep history of J values\n",
    "            self.J_hist.append(self.J(self.h(b, w, X), y))\n",
    "            if self.verbose:\n",
    "                print ('b = {}, w= {}, J= {}'.format(b,w,self.J_hist[-1]))\n",
    "            # check criteria of exit the loop (finish grad desc)\n",
    "            if self.max_iter and iter_number> self.max_iter: # if max_iter is provided and limit succeeded\n",
    "                continue_iter = False\n",
    "            elif np.abs(self.J_hist[iter_number-1] - self.J_hist[iter_number])< self.eps: # if accuracy is succeeded\n",
    "                continue_iter = False\n",
    "            iter_number += 1\n",
    "            \n",
    "        #print(f\"Params - {params}\")\n",
    "            \n",
    "        # store the final params to further using \n",
    "        self.intercept_, self.coef_= params        \n",
    "        return True        \n",
    "        \n",
    "    def draw_cost_changes(self):        \n",
    "        J_hist= self.J_hist[1:]\n",
    "        plt.figure()\n",
    "        plt.scatter(np.arange(0,len(J_hist)),J_hist,s=20,marker='.',c='b')\n",
    "        plt.xlabel('Iterations')\n",
    "        plt.ylabel('Cost function J value')\n",
    "        title_str = 'Complited: {}, alpha ={}, max_iter={}, eps={}'.format( len(self.J_hist)-2, self.alpha, self.max_iter,self.eps)\n",
    "        # Note: len(J_hist)-2) due to first one is -1 (was not iteration), iter + 1  at the end  of the gradient loop\n",
    "        plt.title(title_str)\n",
    " \n",
    "\n",
    "    def predict(self, X): \n",
    "        '''\n",
    "        :param X - ndarray of shape (?,n)\n",
    "        :return \n",
    "        '''\n",
    "        return self.h(self.intercept_, self.coef_, X)\n",
    "        \n",
    "   \n",
    "    def score(self, X_test, y_test):\n",
    "        '''\n",
    "        :param X_test - ndarray testing set or any for prediction of shape [?,n], ? - number of samples, n - number of features\n",
    "        :param y_test - ndarray - 1d array \n",
    "        :return R2 score of y_test and prediction for X_test\n",
    "        '''\n",
    "        z= self.predict(X_test)\n",
    "        #print(self.intercept_)\n",
    "        #print(self.coef_)\n",
    "        #print(f\"Z - {z}\")\n",
    "\n",
    "        return (r2_score(y_test, z))\n"
   ]
  },
  {
   "cell_type": "markdown",
   "metadata": {},
   "source": [
    "<font color = blue >\n",
    "\n",
    "### Check results\n",
    "\n",
    "</font>"
   ]
  },
  {
   "cell_type": "code",
   "execution_count": 20,
   "metadata": {
    "scrolled": false
   },
   "outputs": [
    {
     "name": "stdout",
     "output_type": "stream",
     "text": [
      "X_train.shape=  (379, 1)\n",
      "y_train.shape=  (379,)\n",
      "X_train= \n",
      "[[5.895]\n",
      " [5.569]\n",
      " [8.704]\n",
      " [6.727]\n",
      " [6.398]]\n",
      "R2 Score = 0.6063978761969099\n",
      "b: -31.04181653730149, w= [[8.50569701]]\n"
     ]
    },
    {
     "data": {
      "image/png": "[encoded data removed]",
      "text/plain": [
       "<Figure size 640x480 with 1 Axes>"
      ]
     },
     "metadata": {},
     "output_type": "display_data"
    }
   ],
   "source": [
    "# DON'T_CHANGE_THIS_CODE. It is used to let you check the result is correct \n",
    "\n",
    "print ('X_train.shape= ',X_train.shape)\n",
    "print ('y_train.shape= ',y_train.shape)\n",
    "print ('X_train= \\n{}'.format (X_train[:5,:]))\n",
    "lin_reg = Linear_Regression(alpha= 0.01, verbose=0, eps=1e-8)\n",
    "lin_reg.fit (X_train, y_train)\n",
    "lin_reg.draw_cost_changes()\n",
    "print ('R2 Score =', lin_reg.score(X_test, y_test))\n",
    "print ('b: {}, w= {}'.format(lin_reg.intercept_, lin_reg.coef_)) "
   ]
  },
  {
   "cell_type": "markdown",
   "metadata": {},
   "source": [
    "<font color = blue>\n",
    "Expected output:\n",
    "</font>\n",
    "\n",
    "```\n",
    "R2 Score = 0.5725111120596516\n",
    "b: -32.426140228921874, w= [[8.70481894]]\n",
    "```\n"
   ]
  },
  {
   "cell_type": "markdown",
   "metadata": {},
   "source": [
    "<font color = green >\n",
    "\n",
    "### Draw scatter and prediction for one feature\n",
    "</font>"
   ]
  },
  {
   "cell_type": "code",
   "execution_count": 21,
   "metadata": {},
   "outputs": [
    {
     "data": {
      "text/plain": [
       "[<matplotlib.lines.Line2D at 0x21467c18d90>]"
      ]
     },
     "execution_count": 21,
     "metadata": {},
     "output_type": "execute_result"
    },
    {
     "data": {
      "image/png": "[encoded data removed]",
      "text/plain": [
       "<Figure size 640x480 with 1 Axes>"
      ]
     },
     "metadata": {},
     "output_type": "display_data"
    }
   ],
   "source": [
    "if X_train.shape[1]>1:\n",
    "    raise Exception ('Select single feature to plot')\n",
    "plt.figure()\n",
    "plt.scatter(X_train, y_train)\n",
    "x_line= np.array([np.min(X_train), np.max(X_train)])\n",
    "z_line = lin_reg.predict(x_line.reshape(-1,1))\n",
    "plt.plot(x_line, z_line, '-', c='red')"
   ]
  },
  {
   "cell_type": "markdown",
   "metadata": {},
   "source": [
    "<font color = green >\n",
    "\n",
    "### Using normalization\n",
    "</font>"
   ]
  },
  {
   "cell_type": "code",
   "execution_count": 21,
   "metadata": {},
   "outputs": [],
   "source": [
    "from sklearn.preprocessing import StandardScaler\n",
    "scaler = StandardScaler()\n",
    "\n",
    "X_train_scaled= scaler.fit_transform(X_train)\n",
    "X_test_scaled= scaler.transform(X_test)"
   ]
  },
  {
   "cell_type": "code",
   "execution_count": 22,
   "metadata": {},
   "outputs": [
    {
     "name": "stdout",
     "output_type": "stream",
     "text": [
      "R2 Score = 0.6064469579391742\n",
      "b: 22.354727872771942, w= [[5.96274093]]\n"
     ]
    },
    {
     "data": {
      "image/png": "[encoded data removed]",
      "text/plain": [
       "<Figure size 640x480 with 1 Axes>"
      ]
     },
     "metadata": {},
     "output_type": "display_data"
    }
   ],
   "source": [
    "lin_reg = Linear_Regression(alpha= 0.01, verbose=0, eps=1e-8)\n",
    "lin_reg.fit (X_train_scaled, y_train)\n",
    "print ('R2 Score =',lin_reg.score(X_test_scaled, y_test))\n",
    "lin_reg.draw_cost_changes()\n",
    "print ('b: {}, w= {}'.format(lin_reg.intercept_, lin_reg.coef_))"
   ]
  },
  {
   "cell_type": "markdown",
   "metadata": {},
   "source": [
    "#### Note: How faster it converges "
   ]
  },
  {
   "cell_type": "markdown",
   "metadata": {},
   "source": [
    "<font color = green >\n",
    "\n",
    "## Run Linear Regression for multi features \n",
    "    \n",
    "</font>"
   ]
  },
  {
   "cell_type": "code",
   "execution_count": 23,
   "metadata": {},
   "outputs": [
    {
     "name": "stdout",
     "output_type": "stream",
     "text": [
      "X_train.shape=  (379, 13)\n",
      "y_train.shape=  (379,)\n"
     ]
    },
    {
     "name": "stderr",
     "output_type": "stream",
     "text": [
      "C:\\Users\\lygov\\anaconda3\\Lib\\site-packages\\sklearn\\utils\\deprecation.py:87: FutureWarning: Function load_boston is deprecated; `load_boston` is deprecated in 1.0 and will be removed in 1.2.\n",
      "\n",
      "    The Boston housing prices dataset has an ethical problem. You can refer to\n",
      "    the documentation of this function for further details.\n",
      "\n",
      "    The scikit-learn maintainers therefore strongly discourage the use of this\n",
      "    dataset unless the purpose of the code is to study and educate about\n",
      "    ethical issues in data science and machine learning.\n",
      "\n",
      "    In this special case, you can fetch the dataset from the original\n",
      "    source::\n",
      "\n",
      "        import pandas as pd\n",
      "        import numpy as np\n",
      "\n",
      "        data_url = \"http://lib.stat.cmu.edu/datasets/boston\"\n",
      "        raw_df = pd.read_csv(data_url, sep=\"\\s+\", skiprows=22, header=None)\n",
      "        data = np.hstack([raw_df.values[::2, :], raw_df.values[1::2, :2]])\n",
      "        target = raw_df.values[1::2, 2]\n",
      "\n",
      "    Alternative datasets include the California housing dataset (i.e.\n",
      "    :func:`~sklearn.datasets.fetch_california_housing`) and the Ames housing\n",
      "    dataset. You can load the datasets as follows::\n",
      "\n",
      "        from sklearn.datasets import fetch_california_housing\n",
      "        housing = fetch_california_housing()\n",
      "\n",
      "    for the California housing dataset and::\n",
      "\n",
      "        from sklearn.datasets import fetch_openml\n",
      "        housing = fetch_openml(name=\"house_prices\", as_frame=True)\n",
      "\n",
      "    for the Ames housing dataset.\n",
      "  warnings.warn(msg, category=FutureWarning)\n"
     ]
    },
    {
     "data": {
      "text/plain": [
       "array([[1.17470e-01, 1.25000e+01, 7.87000e+00, 0.00000e+00, 5.24000e-01,\n",
       "        6.00900e+00, 8.29000e+01, 6.22670e+00, 5.00000e+00, 3.11000e+02,\n",
       "        1.52000e+01, 3.96900e+02, 1.32700e+01],\n",
       "       [1.20482e+01, 0.00000e+00, 1.81000e+01, 0.00000e+00, 6.14000e-01,\n",
       "        5.64800e+00, 8.76000e+01, 1.95120e+00, 2.40000e+01, 6.66000e+02,\n",
       "        2.02000e+01, 2.91550e+02, 1.41000e+01],\n",
       "       [1.28160e-01, 1.25000e+01, 6.07000e+00, 0.00000e+00, 4.09000e-01,\n",
       "        5.88500e+00, 3.30000e+01, 6.49800e+00, 4.00000e+00, 3.45000e+02,\n",
       "        1.89000e+01, 3.96900e+02, 8.79000e+00],\n",
       "       [5.78340e-01, 2.00000e+01, 3.97000e+00, 0.00000e+00, 5.75000e-01,\n",
       "        8.29700e+00, 6.70000e+01, 2.42160e+00, 5.00000e+00, 2.64000e+02,\n",
       "        1.30000e+01, 3.84540e+02, 7.44000e+00],\n",
       "       [8.71675e+00, 0.00000e+00, 1.81000e+01, 0.00000e+00, 6.93000e-01,\n",
       "        6.47100e+00, 9.88000e+01, 1.72570e+00, 2.40000e+01, 6.66000e+02,\n",
       "        2.02000e+01, 3.91980e+02, 1.71200e+01]])"
      ]
     },
     "execution_count": 23,
     "metadata": {},
     "output_type": "execute_result"
    }
   ],
   "source": [
    "np.random.seed(2021)\n",
    "from sklearn.datasets import load_boston\n",
    "X, y = load_boston(return_X_y=True)\n",
    "\n",
    "# X= X[:,5].reshape(-1,1) # 5 corresponds to 'RM' \n",
    "# X= X[:,:5]\n",
    "\n",
    "X_train, X_test, y_train, y_test=  train_test_split(X, y, random_state=2018)\n",
    "print ('X_train.shape= ',X_train.shape)\n",
    "print ('y_train.shape= ',y_train.shape)\n",
    "X_train[:5]"
   ]
  },
  {
   "cell_type": "code",
   "execution_count": 24,
   "metadata": {},
   "outputs": [],
   "source": [
    "from sklearn.preprocessing import StandardScaler\n",
    "scaler = StandardScaler()\n",
    "X_train_scaled= scaler.fit_transform(X_train)\n",
    "X_test_scaled= scaler.transform(X_test)"
   ]
  },
  {
   "cell_type": "code",
   "execution_count": 25,
   "metadata": {
    "scrolled": false
   },
   "outputs": [
    {
     "name": "stdout",
     "output_type": "stream",
     "text": [
      "R2 training Score = -27.581098441717476\n",
      "R2 Score = -30.264422460106367\n",
      "b: 22.199472295514532, w= [[-11.92485601 -11.92485601 -11.92485601 -11.92485601 -11.92485601\n",
      "  -11.92485601 -11.92485601 -11.92485601 -11.92485601 -11.92485601\n",
      "  -11.92485601 -11.92485601 -11.92485601]]\n"
     ]
    },
    {
     "data": {
      "image/png": "[encoded data removed]",
      "text/plain": [
       "<Figure size 640x480 with 1 Axes>"
      ]
     },
     "metadata": {},
     "output_type": "display_data"
    }
   ],
   "source": [
    "lin_reg = Linear_Regression(alpha= 0.1, verbose=0, eps=1e-5, max_iter=100000)\n",
    "lin_reg.fit (X_train_scaled, y_train)\n",
    "lin_reg.draw_cost_changes()\n",
    "print ('R2 training Score =', lin_reg.score(X_train_scaled, y_train))\n",
    "print ('R2 Score =', lin_reg.score(X_test_scaled, y_test))\n",
    "print ('b: {}, w= {}'.format(lin_reg.intercept_, lin_reg.coef_)) "
   ]
  },
  {
   "cell_type": "markdown",
   "metadata": {},
   "source": [
    "<font color = blue>\n",
    "Expected output:\n",
    "</font>\n",
    "\n",
    "```\n",
    "R2 training Score = 0.7283111795119549\n",
    "R2 Score = 0.7714399743645595\n",
    "b: 22.199472295514532, w= [[-6.71888107e-01  1.10023856e+00  4.11947599e-03  8.26282274e-01\n",
    "  -2.22625058e+00  2.43471682e+00  2.54149326e-01 -3.29472715e+00\n",
    "   2.45132782e+00 -1.99309805e+00 -1.95019870e+00  7.67364288e-01\n",
    "  -4.20581658e+00]]\n",
    "```\n"
   ]
  },
  {
   "cell_type": "markdown",
   "metadata": {},
   "source": [
    "<font color = green >\n",
    "\n",
    "### Compare with sklearn\n",
    "</font>"
   ]
  },
  {
   "cell_type": "code",
   "execution_count": 26,
   "metadata": {},
   "outputs": [
    {
     "data": {
      "text/plain": [
       "0.7716066981275933"
      ]
     },
     "execution_count": 26,
     "metadata": {},
     "output_type": "execute_result"
    }
   ],
   "source": [
    "from sklearn.linear_model import LinearRegression\n",
    "lin_reg_sklearn = LinearRegression().fit(X_train_scaled, y_train)\n",
    "lin_reg_sklearn.score(X_test_scaled, y_test)"
   ]
  },
  {
   "cell_type": "code",
   "execution_count": null,
   "metadata": {},
   "outputs": [],
   "source": []
  },
  {
   "cell_type": "code",
   "execution_count": null,
   "metadata": {},
   "outputs": [],
   "source": []
  },
  {
   "cell_type": "code",
   "execution_count": null,
   "metadata": {},
   "outputs": [],
   "source": []
  },
  {
   "cell_type": "code",
   "execution_count": null,
   "metadata": {},
   "outputs": [],
   "source": []
  },
  {
   "cell_type": "code",
   "execution_count": null,
   "metadata": {},
   "outputs": [],
   "source": []
  }
 ],
 "metadata": {
  "kernelspec": {
   "display_name": "Python 3 (ipykernel)",
   "language": "python",
   "name": "python3"
  },
  "language_info": {
   "codemirror_mode": {
    "name": "ipython",
    "version": 3
   },
   "file_extension": ".py",
   "mimetype": "text/x-python",
   "name": "python",
   "nbconvert_exporter": "python",
   "pygments_lexer": "ipython3",
   "version": "3.11.5"
  }
 },
 "nbformat": 4,
 "nbformat_minor": 2
}
