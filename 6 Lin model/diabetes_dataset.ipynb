{
 "cells": [
  {
   "cell_type": "markdown",
   "id": "f78488c0",
   "metadata": {},
   "source": [
    "# Home Task \n",
    "\n",
    "Use diabetes dataset (`sklearn.datasets.load_diabetes`) and apply\n",
    " - Ridge \n",
    " - Lasso\n",
    " - Polynomial"
   ]
  },
  {
   "cell_type": "code",
   "execution_count": 23,
   "id": "9baeca9f",
   "metadata": {},
   "outputs": [],
   "source": [
    "import pandas as pd \n",
    "import numpy as np\n",
    "from sklearn.model_selection import train_test_split\n",
    "from sklearn.datasets import load_diabetes\n",
    "from sklearn.linear_model import Ridge\n",
    "from sklearn.linear_model import Lasso\n",
    "from sklearn.preprocessing import PolynomialFeatures\n",
    "from sklearn.linear_model import LinearRegression"
   ]
  },
  {
   "cell_type": "code",
   "execution_count": 24,
   "id": "c5a7d2e6",
   "metadata": {},
   "outputs": [],
   "source": [
    "data = load_diabetes()\n",
    "dataset = pd.DataFrame(data.data, columns=data.feature_names)\n",
    "dataset[\"Target\"] = data.target\n",
    "X,y = dataset.iloc[:,:-1], dataset[\"Target\"]"
   ]
  },
  {
   "cell_type": "code",
   "execution_count": 25,
   "id": "39dbbc42",
   "metadata": {},
   "outputs": [],
   "source": [
    "X_train, X_test, y_train, y_test = train_test_split(X, y, test_size=0.2,)"
   ]
  },
  {
   "cell_type": "code",
   "execution_count": 26,
   "id": "1fbe612e",
   "metadata": {},
   "outputs": [
    {
     "name": "stdout",
     "output_type": "stream",
     "text": [
      "Ridge\n",
      "R2 train score = 0.41095468898773535\n",
      "R2 test score = 0.4697720657281239\n",
      "b: 150.00104646919365, \n",
      "w= [  47.91435284  -78.02779714  293.78053314  176.08679875   18.52311701\n",
      "  -17.95421898 -116.87749409   94.00275112  225.46518207  102.70088969]\n"
     ]
    }
   ],
   "source": [
    "ridge_reg = Ridge()\n",
    "ridge_reg.fit(X_train,y_train)\n",
    "regressor = ridge_reg\n",
    "print ('Ridge')\n",
    "print ('R2 train score =', regressor.score(X_train, y_train))\n",
    "print ('R2 test score =', regressor.score(X_test, y_test))\n",
    "print ('b: {}, \\nw= {}'.format(regressor.intercept_, regressor.coef_))"
   ]
  },
  {
   "cell_type": "code",
   "execution_count": 27,
   "id": "55ebad80",
   "metadata": {},
   "outputs": [
    {
     "name": "stdout",
     "output_type": "stream",
     "text": [
      "Lasso\n",
      "R2 train score = 0.33932505019698567\n",
      "R2 test score = 0.329639298773022\n",
      "b: 149.77901880655597, \n",
      "w= [  0.          -0.         411.97558906   0.           0.\n",
      "   0.          -0.           0.         224.08522178   0.        ]\n"
     ]
    }
   ],
   "source": [
    "lasso_reg = Lasso()\n",
    "lasso_reg.fit(X_train,y_train)\n",
    "regressor = lasso_reg\n",
    "print ('Lasso')\n",
    "print ('R2 train score =', regressor.score(X_train, y_train))\n",
    "print ('R2 test score =', regressor.score(X_test, y_test))\n",
    "print ('b: {}, \\nw= {}'.format(regressor.intercept_, regressor.coef_)) "
   ]
  },
  {
   "cell_type": "code",
   "execution_count": 28,
   "id": "b8ae4af8",
   "metadata": {},
   "outputs": [
    {
     "name": "stdout",
     "output_type": "stream",
     "text": [
      "Linear\n",
      "R2 train score = 0.49513688194170846\n",
      "R2 test score = 0.5731215309749258\n",
      "b: 149.65715728038376, \n",
      "w= [   3.07950636 -238.85316146  555.91617213  294.6937724  -577.86257913\n",
      "  340.93938683   50.41668753   93.14173292  679.09399606   71.76268747]\n"
     ]
    }
   ],
   "source": [
    "linear_reg = LinearRegression().fit(X_train, y_train)\n",
    "regressor = linear_reg\n",
    "print ('Linear')\n",
    "print ('R2 train score =', linear_reg.score(X_train, y_train))\n",
    "print ('R2 test score =', linear_reg.score(X_test, y_test))\n",
    "print ('b: {}, \\nw= {}'.format(regressor.intercept_, regressor.coef_)) "
   ]
  },
  {
   "cell_type": "code",
   "execution_count": 32,
   "id": "8b7efcf1",
   "metadata": {},
   "outputs": [
    {
     "name": "stdout",
     "output_type": "stream",
     "text": [
      "Polynomial + Linear Regression\n",
      "R2 train score = 0.5978956101834283\n",
      "R2 test score = 0.450142787965536\n",
      "b: 127.00323093925236, \n",
      "w= [ 8.53818260e+01 -2.94885353e+02  4.36504003e+02  2.94687944e+02\n",
      " -2.27740686e+03  1.84594928e+03  7.47046264e+02  1.34965226e+02\n",
      "  1.39763383e+03  9.52407411e+01  2.16074039e+03  1.70672474e+03\n",
      " -6.67658378e+02  1.90890356e+03 -8.10650813e+03  3.65497881e+03\n",
      "  3.96737707e+03  2.55964532e+03  3.52656301e+03  4.21323218e+02\n",
      " -1.78065995e+00  4.15117630e+02  1.56103865e+03  1.53715058e+04\n",
      " -1.47106578e+04 -2.48941921e+03 -2.10147115e+02 -2.90122636e+03\n",
      "  1.62093170e+03  1.12344403e+03  3.77548489e+03 -1.56042738e+04\n",
      "  9.94929630e+03  9.95733931e+03  2.56903007e+03  5.58939837e+03\n",
      "  1.19152023e+03 -1.61699010e+03  1.19855660e+03  6.23412617e+02\n",
      " -9.22657488e+01 -1.98979147e+03  1.34610848e+03 -4.63342296e+03\n",
      "  9.28989466e+04 -1.15550265e+05 -7.76294344e+04 -3.47878316e+04\n",
      " -8.58044013e+04  3.87077616e+03  3.58710484e+04  4.15602491e+04\n",
      "  1.16822441e+04  6.24717871e+04 -3.45359518e+03  1.98320030e+04\n",
      "  2.56912736e+04  3.33938354e+04 -1.11526770e+03  1.45643344e+04\n",
      "  6.11132711e+03 -7.65976353e+02  2.22258181e+04  1.82938474e+03\n",
      "  1.74055318e+03]\n"
     ]
    }
   ],
   "source": [
    "poly= PolynomialFeatures(degree=2,include_bias=False) \n",
    "X_train_poly= poly.fit_transform(X_train)\n",
    "X_test_poly = poly.transform(X_test)\n",
    "poly_lin_reg = LinearRegression().fit (X_train_poly,y_train)\n",
    "regressor = poly_lin_reg\n",
    "print ('Polynomial + Linear Regression')\n",
    "print ('R2 train score =', regressor.score(X_train_poly, y_train))\n",
    "print ('R2 test score =', regressor.score(X_test_poly, y_test))\n",
    "print ('b: {}, \\nw= {}'.format(regressor.intercept_, regressor.coef_)) "
   ]
  },
  {
   "cell_type": "code",
   "execution_count": null,
   "id": "be305aa5",
   "metadata": {},
   "outputs": [],
   "source": []
  },
  {
   "cell_type": "code",
   "execution_count": null,
   "id": "48b404dd",
   "metadata": {},
   "outputs": [],
   "source": []
  }
 ],
 "metadata": {
  "kernelspec": {
   "display_name": "Python 3 (ipykernel)",
   "language": "python",
   "name": "python3"
  },
  "language_info": {
   "codemirror_mode": {
    "name": "ipython",
    "version": 3
   },
   "file_extension": ".py",
   "mimetype": "text/x-python",
   "name": "python",
   "nbconvert_exporter": "python",
   "pygments_lexer": "ipython3",
   "version": "3.11.5"
  }
 },
 "nbformat": 4,
 "nbformat_minor": 5
}
