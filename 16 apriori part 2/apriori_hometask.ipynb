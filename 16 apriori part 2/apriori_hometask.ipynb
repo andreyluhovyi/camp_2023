{
 "cells": [
  {
   "cell_type": "code",
   "execution_count": 153,
   "id": "0a648d85",
   "metadata": {},
   "outputs": [],
   "source": [
    "import numpy as np\n",
    "import pandas as pd\n",
    "import matplotlib.pyplot as plt"
   ]
  },
  {
   "cell_type": "code",
   "execution_count": 154,
   "id": "be9af835",
   "metadata": {},
   "outputs": [
    {
     "data": {
      "text/html": [
       "<div>\n",
       "<style scoped>\n",
       "    .dataframe tbody tr th:only-of-type {\n",
       "        vertical-align: middle;\n",
       "    }\n",
       "\n",
       "    .dataframe tbody tr th {\n",
       "        vertical-align: top;\n",
       "    }\n",
       "\n",
       "    .dataframe thead th {\n",
       "        text-align: right;\n",
       "    }\n",
       "</style>\n",
       "<table border=\"1\" class=\"dataframe\">\n",
       "  <thead>\n",
       "    <tr style=\"text-align: right;\">\n",
       "      <th></th>\n",
       "      <th>Member_number</th>\n",
       "      <th>Date</th>\n",
       "      <th>itemDescription</th>\n",
       "    </tr>\n",
       "  </thead>\n",
       "  <tbody>\n",
       "    <tr>\n",
       "      <th>0</th>\n",
       "      <td>1808</td>\n",
       "      <td>21-07-2015</td>\n",
       "      <td>tropical fruit</td>\n",
       "    </tr>\n",
       "    <tr>\n",
       "      <th>1</th>\n",
       "      <td>2552</td>\n",
       "      <td>05-01-2015</td>\n",
       "      <td>whole milk</td>\n",
       "    </tr>\n",
       "    <tr>\n",
       "      <th>2</th>\n",
       "      <td>2300</td>\n",
       "      <td>19-09-2015</td>\n",
       "      <td>pip fruit</td>\n",
       "    </tr>\n",
       "    <tr>\n",
       "      <th>3</th>\n",
       "      <td>1187</td>\n",
       "      <td>12-12-2015</td>\n",
       "      <td>other vegetables</td>\n",
       "    </tr>\n",
       "    <tr>\n",
       "      <th>4</th>\n",
       "      <td>3037</td>\n",
       "      <td>01-02-2015</td>\n",
       "      <td>whole milk</td>\n",
       "    </tr>\n",
       "  </tbody>\n",
       "</table>\n",
       "</div>"
      ],
      "text/plain": [
       "   Member_number        Date   itemDescription\n",
       "0           1808  21-07-2015    tropical fruit\n",
       "1           2552  05-01-2015        whole milk\n",
       "2           2300  19-09-2015         pip fruit\n",
       "3           1187  12-12-2015  other vegetables\n",
       "4           3037  01-02-2015        whole milk"
      ]
     },
     "execution_count": 154,
     "metadata": {},
     "output_type": "execute_result"
    }
   ],
   "source": [
    "file_path = 'Groceries_dataset.csv'\n",
    "df = pd.read_csv(file_path)\n",
    "df.head()"
   ]
  },
  {
   "cell_type": "code",
   "execution_count": 155,
   "id": "0103218e",
   "metadata": {},
   "outputs": [
    {
     "data": {
      "text/plain": [
       "38765"
      ]
     },
     "execution_count": 155,
     "metadata": {},
     "output_type": "execute_result"
    }
   ],
   "source": [
    "len(df)"
   ]
  },
  {
   "cell_type": "code",
   "execution_count": 156,
   "id": "b3ed3f33",
   "metadata": {},
   "outputs": [
    {
     "data": {
      "text/plain": [
       "(array([1.008e+04, 2.698e+03, 1.390e+03, 3.440e+02, 1.750e+02, 8.000e+01,\n",
       "        1.450e+02, 5.000e+01, 0.000e+00, 1.000e+00]),\n",
       " array([ 2. ,  2.9,  3.8,  4.7,  5.6,  6.5,  7.4,  8.3,  9.2, 10.1, 11. ]),\n",
       " <BarContainer object of 10 artists>)"
      ]
     },
     "execution_count": 156,
     "metadata": {},
     "output_type": "execute_result"
    },
    {
     "data": {
      "image/png": "[encoded data removed]",
      "text/plain": [
       "<Figure size 640x480 with 1 Axes>"
      ]
     },
     "metadata": {},
     "output_type": "display_data"
    }
   ],
   "source": [
    "dist = [len(g) for k, g in df.groupby(['Member_number', 'Date'])]\n",
    "plt.hist(dist)"
   ]
  },
  {
   "cell_type": "code",
   "execution_count": 157,
   "id": "19e7d303",
   "metadata": {},
   "outputs": [
    {
     "name": "stdout",
     "output_type": "stream",
     "text": [
      "<class 'pandas.core.frame.DataFrame'>\n",
      "RangeIndex: 38765 entries, 0 to 38764\n",
      "Data columns (total 3 columns):\n",
      " #   Column           Non-Null Count  Dtype \n",
      "---  ------           --------------  ----- \n",
      " 0   Member_number    38765 non-null  int64 \n",
      " 1   Date             38765 non-null  object\n",
      " 2   itemDescription  38765 non-null  object\n",
      "dtypes: int64(1), object(2)\n",
      "memory usage: 908.7+ KB\n"
     ]
    }
   ],
   "source": [
    "df.info()"
   ]
  },
  {
   "cell_type": "code",
   "execution_count": 158,
   "id": "5bf5ec1d",
   "metadata": {},
   "outputs": [
    {
     "data": {
      "text/plain": [
       "3898"
      ]
     },
     "execution_count": 158,
     "metadata": {},
     "output_type": "execute_result"
    }
   ],
   "source": [
    "df.Member_number.nunique()"
   ]
  },
  {
   "cell_type": "code",
   "execution_count": 159,
   "id": "758a1735",
   "metadata": {},
   "outputs": [
    {
     "data": {
      "text/plain": [
       "167"
      ]
     },
     "execution_count": 159,
     "metadata": {},
     "output_type": "execute_result"
    }
   ],
   "source": [
    "df.itemDescription.nunique()"
   ]
  },
  {
   "cell_type": "code",
   "execution_count": 160,
   "id": "34677b79",
   "metadata": {},
   "outputs": [
    {
     "data": {
      "text/plain": [
       "728"
      ]
     },
     "execution_count": 160,
     "metadata": {},
     "output_type": "execute_result"
    }
   ],
   "source": [
    "df.Date.nunique()"
   ]
  },
  {
   "cell_type": "code",
   "execution_count": 161,
   "id": "68a03d88",
   "metadata": {},
   "outputs": [
    {
     "data": {
      "text/plain": [
       "Member_number      0\n",
       "Date               0\n",
       "itemDescription    0\n",
       "dtype: int64"
      ]
     },
     "execution_count": 161,
     "metadata": {},
     "output_type": "execute_result"
    }
   ],
   "source": [
    "df.isnull().sum()"
   ]
  },
  {
   "cell_type": "code",
   "execution_count": 183,
   "id": "f128493e",
   "metadata": {
    "scrolled": true
   },
   "outputs": [
    {
     "data": {
      "text/plain": [
       "[[1808, '21-07-2015', 'tropical fruit'],\n",
       " [2552, '05-01-2015', 'whole milk'],\n",
       " [2300, '19-09-2015', 'pip fruit'],\n",
       " [1187, '12-12-2015', 'other vegetables'],\n",
       " [3037, '01-02-2015', 'whole milk'],\n",
       " [4941, '14-02-2015', 'rolls/buns'],\n",
       " [4501, '08-05-2015', 'other vegetables'],\n",
       " [3803, '23-12-2015', 'pot plants'],\n",
       " [2762, '20-03-2015', 'whole milk'],\n",
       " [4119, '12-02-2015', 'tropical fruit'],\n",
       " [1340, '24-02-2015', 'citrus fruit'],\n",
       " [2193, '14-04-2015', 'beef'],\n",
       " [1997, '21-07-2015', 'frankfurter'],\n",
       " [4546, '03-09-2015', 'chicken'],\n",
       " [4736, '21-07-2015', 'butter'],\n",
       " [1959, '30-03-2015', 'fruit/vegetable juice'],\n",
       " [1974, '03-05-2015', 'packaged fruit/vegetables'],\n",
       " [2421, '02-09-2015', 'chocolate'],\n",
       " [1513, '03-08-2015', 'specialty bar'],\n",
       " [1905, '07-07-2015', 'other vegetables']]"
      ]
     },
     "execution_count": 183,
     "metadata": {},
     "output_type": "execute_result"
    }
   ],
   "source": [
    "df.values.tolist()[:20]"
   ]
  },
  {
   "cell_type": "code",
   "execution_count": 163,
   "id": "96610a65",
   "metadata": {},
   "outputs": [],
   "source": [
    "transactions = df.groupby(['Member_number', 'Date'])['itemDescription'].apply(list).reset_index(name='itemDescriptions')"
   ]
  },
  {
   "cell_type": "code",
   "execution_count": 164,
   "id": "f036270a",
   "metadata": {},
   "outputs": [
    {
     "data": {
      "text/html": [
       "<div>\n",
       "<style scoped>\n",
       "    .dataframe tbody tr th:only-of-type {\n",
       "        vertical-align: middle;\n",
       "    }\n",
       "\n",
       "    .dataframe tbody tr th {\n",
       "        vertical-align: top;\n",
       "    }\n",
       "\n",
       "    .dataframe thead th {\n",
       "        text-align: right;\n",
       "    }\n",
       "</style>\n",
       "<table border=\"1\" class=\"dataframe\">\n",
       "  <thead>\n",
       "    <tr style=\"text-align: right;\">\n",
       "      <th></th>\n",
       "      <th>Member_number</th>\n",
       "      <th>Date</th>\n",
       "      <th>itemDescriptions</th>\n",
       "    </tr>\n",
       "  </thead>\n",
       "  <tbody>\n",
       "    <tr>\n",
       "      <th>0</th>\n",
       "      <td>1000</td>\n",
       "      <td>15-03-2015</td>\n",
       "      <td>[sausage, whole milk, semi-finished bread, yog...</td>\n",
       "    </tr>\n",
       "    <tr>\n",
       "      <th>1</th>\n",
       "      <td>1000</td>\n",
       "      <td>24-06-2014</td>\n",
       "      <td>[whole milk, pastry, salty snack]</td>\n",
       "    </tr>\n",
       "    <tr>\n",
       "      <th>2</th>\n",
       "      <td>1000</td>\n",
       "      <td>24-07-2015</td>\n",
       "      <td>[canned beer, misc. beverages]</td>\n",
       "    </tr>\n",
       "    <tr>\n",
       "      <th>3</th>\n",
       "      <td>1000</td>\n",
       "      <td>25-11-2015</td>\n",
       "      <td>[sausage, hygiene articles]</td>\n",
       "    </tr>\n",
       "    <tr>\n",
       "      <th>4</th>\n",
       "      <td>1000</td>\n",
       "      <td>27-05-2015</td>\n",
       "      <td>[soda, pickled vegetables]</td>\n",
       "    </tr>\n",
       "  </tbody>\n",
       "</table>\n",
       "</div>"
      ],
      "text/plain": [
       "   Member_number        Date  \\\n",
       "0           1000  15-03-2015   \n",
       "1           1000  24-06-2014   \n",
       "2           1000  24-07-2015   \n",
       "3           1000  25-11-2015   \n",
       "4           1000  27-05-2015   \n",
       "\n",
       "                                    itemDescriptions  \n",
       "0  [sausage, whole milk, semi-finished bread, yog...  \n",
       "1                  [whole milk, pastry, salty snack]  \n",
       "2                     [canned beer, misc. beverages]  \n",
       "3                        [sausage, hygiene articles]  \n",
       "4                         [soda, pickled vegetables]  "
      ]
     },
     "execution_count": 164,
     "metadata": {},
     "output_type": "execute_result"
    }
   ],
   "source": [
    "transactions.head()"
   ]
  },
  {
   "cell_type": "code",
   "execution_count": 184,
   "id": "5089ca2c",
   "metadata": {
    "scrolled": false
   },
   "outputs": [
    {
     "data": {
      "text/plain": [
       "[['sausage', 'whole milk', 'semi-finished bread', 'yogurt'],\n",
       " ['whole milk', 'pastry', 'salty snack'],\n",
       " ['canned beer', 'misc. beverages'],\n",
       " ['sausage', 'hygiene articles'],\n",
       " ['soda', 'pickled vegetables'],\n",
       " ['frankfurter', 'curd'],\n",
       " ['sausage', 'whole milk', 'rolls/buns'],\n",
       " ['whole milk', 'soda'],\n",
       " ['beef', 'white bread'],\n",
       " ['frankfurter', 'soda', 'whipped/sour cream'],\n",
       " ['frozen vegetables', 'other vegetables'],\n",
       " ['butter', 'whole milk'],\n",
       " ['tropical fruit', 'sugar'],\n",
       " ['butter milk', 'specialty chocolate'],\n",
       " ['sausage', 'rolls/buns'],\n",
       " ['root vegetables', 'detergent'],\n",
       " ['frozen meals', 'dental care'],\n",
       " ['rolls/buns', 'rolls/buns'],\n",
       " ['dish cleaner', 'cling film/bags'],\n",
       " ['canned beer', 'frozen fish']]"
      ]
     },
     "execution_count": 184,
     "metadata": {},
     "output_type": "execute_result"
    }
   ],
   "source": [
    "transaction_descriptions = transactions['itemDescriptions'].tolist()\n",
    "transaction_descriptions[:20]"
   ]
  },
  {
   "cell_type": "code",
   "execution_count": 94,
   "id": "c128005f",
   "metadata": {},
   "outputs": [
    {
     "name": "stdout",
     "output_type": "stream",
     "text": [
      "Requirement already satisfied: apyori in c:\\users\\lygov\\anaconda3\\lib\\site-packages (1.1.2)\n"
     ]
    }
   ],
   "source": [
    "!pip install apyori"
   ]
  },
  {
   "cell_type": "code",
   "execution_count": 95,
   "id": "1443d597",
   "metadata": {},
   "outputs": [],
   "source": [
    "from apyori import apriori"
   ]
  },
  {
   "cell_type": "code",
   "execution_count": 185,
   "id": "fcf266ac",
   "metadata": {
    "scrolled": false
   },
   "outputs": [
    {
     "data": {
      "text/plain": [
       "[RelationRecord(items=frozenset({'whole milk', 'artif. sweetener'}), support=0.0005346521419501437, ordered_statistics=[OrderedStatistic(items_base=frozenset({'artif. sweetener'}), items_add=frozenset({'whole milk'}), confidence=0.2758620689655173, lift=1.7468151239657366)]),\n",
       " RelationRecord(items=frozenset({'canned beer', 'baking powder'}), support=0.0006014836596939117, ordered_statistics=[OrderedStatistic(items_base=frozenset({'baking powder'}), items_add=frozenset({'canned beer'}), confidence=0.0743801652892562, lift=1.5853994490358128)]),\n",
       " RelationRecord(items=frozenset({'beef', 'processed cheese'}), support=0.0005346521419501437, ordered_statistics=[OrderedStatistic(items_base=frozenset({'processed cheese'}), items_add=frozenset({'beef'}), confidence=0.05263157894736843, lift=1.5502486531288857)]),\n",
       " RelationRecord(items=frozenset({'beef', 'white wine'}), support=0.0006014836596939117, ordered_statistics=[OrderedStatistic(items_base=frozenset({'white wine'}), items_add=frozenset({'beef'}), confidence=0.051428571428571435, lift=1.5148143982002253)]),\n",
       " RelationRecord(items=frozenset({'beverages', 'sausage'}), support=0.0015371249081066632, ordered_statistics=[OrderedStatistic(items_base=frozenset({'beverages'}), items_add=frozenset({'sausage'}), confidence=0.09274193548387098, lift=1.5367636551995143)]),\n",
       " RelationRecord(items=frozenset({'turkey', 'bottled water'}), support=0.0006014836596939117, ordered_statistics=[OrderedStatistic(items_base=frozenset({'turkey'}), items_add=frozenset({'bottled water'}), confidence=0.1125, lift=1.8538959251101321)]),\n",
       " RelationRecord(items=frozenset({'whole milk', 'brandy'}), support=0.0008688097306689834, ordered_statistics=[OrderedStatistic(items_base=frozenset({'brandy'}), items_add=frozenset({'whole milk'}), confidence=0.34210526315789475, lift=2.1662805978127717)]),\n",
       " RelationRecord(items=frozenset({'dishes', 'brown bread'}), support=0.0005346521419501437, ordered_statistics=[OrderedStatistic(items_base=frozenset({'dishes'}), items_add=frozenset({'brown bread'}), confidence=0.05925925925925927, lift=1.5749490165120719)]),\n",
       " RelationRecord(items=frozenset({'canned beer', 'cake bar'}), support=0.0005346521419501437, ordered_statistics=[OrderedStatistic(items_base=frozenset({'cake bar'}), items_add=frozenset({'canned beer'}), confidence=0.08695652173913045, lift=1.8534621578099841)]),\n",
       " RelationRecord(items=frozenset({'cake bar', 'sausage'}), support=0.0006683151774376796, ordered_statistics=[OrderedStatistic(items_base=frozenset({'cake bar'}), items_add=frozenset({'sausage'}), confidence=0.10869565217391304, lift=1.8011218643170108)]),\n",
       " RelationRecord(items=frozenset({'dishes', 'canned beer'}), support=0.0007351466951814476, ordered_statistics=[OrderedStatistic(items_base=frozenset({'dishes'}), items_add=frozenset({'canned beer'}), confidence=0.08148148148148147, lift=1.7367626886145404)]),\n",
       " RelationRecord(items=frozenset({'cat food', 'fruit/vegetable juice'}), support=0.0007351466951814476, ordered_statistics=[OrderedStatistic(items_base=frozenset({'cat food'}), items_add=frozenset({'fruit/vegetable juice'}), confidence=0.062146892655367235, lift=1.826923290377721)]),\n",
       " RelationRecord(items=frozenset({'chewing gum', 'coffee'}), support=0.0006683151774376796, ordered_statistics=[OrderedStatistic(items_base=frozenset({'chewing gum'}), items_add=frozenset({'coffee'}), confidence=0.05555555555555556, lift=1.7574583039699319)]),\n",
       " RelationRecord(items=frozenset({'newspapers', 'chewing gum'}), support=0.0008019782129252155, ordered_statistics=[OrderedStatistic(items_base=frozenset({'chewing gum'}), items_add=frozenset({'newspapers'}), confidence=0.06666666666666667, lift=1.7139747995418098)]),\n",
       " RelationRecord(items=frozenset({'citrus fruit', 'roll products '}), support=0.0005346521419501437, ordered_statistics=[OrderedStatistic(items_base=frozenset({'roll products '}), items_add=frozenset({'citrus fruit'}), confidence=0.09756097560975611, lift=1.8362325510047557)]),\n",
       " RelationRecord(items=frozenset({'citrus fruit', 'specialty chocolate'}), support=0.001403461872619127, ordered_statistics=[OrderedStatistic(items_base=frozenset({'specialty chocolate'}), items_add=frozenset({'citrus fruit'}), confidence=0.08786610878661087, lift=1.6537617431120233)]),\n",
       " RelationRecord(items=frozenset({'pastry', 'condensed milk'}), support=0.0005346521419501437, ordered_statistics=[OrderedStatistic(items_base=frozenset({'condensed milk'}), items_add=frozenset({'pastry'}), confidence=0.0816326530612245, lift=1.5781258239730003)]),\n",
       " RelationRecord(items=frozenset({'dishes', 'frankfurter'}), support=0.0005346521419501437, ordered_statistics=[OrderedStatistic(items_base=frozenset({'dishes'}), items_add=frozenset({'frankfurter'}), confidence=0.05925925925925927, lift=1.5693739757456575)]),\n",
       " RelationRecord(items=frozenset({'tropical fruit', 'flour'}), support=0.0010693042839002875, ordered_statistics=[OrderedStatistic(items_base=frozenset({'flour'}), items_add=frozenset({'tropical fruit'}), confidence=0.10958904109589042, lift=1.6171408500175626)]),\n",
       " RelationRecord(items=frozenset({'whipped/sour cream', 'flour'}), support=0.0006683151774376796, ordered_statistics=[OrderedStatistic(items_base=frozenset({'flour'}), items_add=frozenset({'whipped/sour cream'}), confidence=0.0684931506849315, lift=1.567068828285367)]),\n",
       " RelationRecord(items=frozenset({'mustard', 'frankfurter'}), support=0.0005346521419501437, ordered_statistics=[OrderedStatistic(items_base=frozenset({'mustard'}), items_add=frozenset({'frankfurter'}), confidence=0.08695652173913045, lift=2.302885725278954)]),\n",
       " RelationRecord(items=frozenset({'packaged fruit/vegetables', 'frankfurter'}), support=0.0005346521419501437, ordered_statistics=[OrderedStatistic(items_base=frozenset({'packaged fruit/vegetables'}), items_add=frozenset({'frankfurter'}), confidence=0.06299212598425198, lift=1.6682321789422345)]),\n",
       " RelationRecord(items=frozenset({'frankfurter', 'red/blush wine'}), support=0.0006014836596939117, ordered_statistics=[OrderedStatistic(items_base=frozenset({'red/blush wine'}), items_add=frozenset({'frankfurter'}), confidence=0.05732484076433121, lift=1.5181444112507751)]),\n",
       " RelationRecord(items=frozenset({'tropical fruit', 'frozen fish'}), support=0.0007351466951814476, ordered_statistics=[OrderedStatistic(items_base=frozenset({'frozen fish'}), items_add=frozenset({'tropical fruit'}), confidence=0.10784313725490197, lift=1.5913775766716944)]),\n",
       " RelationRecord(items=frozenset({'ham', 'pickled vegetables'}), support=0.0005346521419501437, ordered_statistics=[OrderedStatistic(items_base=frozenset({'pickled vegetables'}), items_add=frozenset({'ham'}), confidence=0.05970149253731344, lift=3.4895055970149254)]),\n",
       " RelationRecord(items=frozenset({'hamburger meat', 'soft cheese'}), support=0.0006014836596939117, ordered_statistics=[OrderedStatistic(items_base=frozenset({'soft cheese'}), items_add=frozenset({'hamburger meat'}), confidence=0.060000000000000005, lift=2.745504587155964)]),\n",
       " RelationRecord(items=frozenset({'whole milk', 'house keeping products'}), support=0.0007351466951814476, ordered_statistics=[OrderedStatistic(items_base=frozenset({'house keeping products'}), items_add=frozenset({'whole milk'}), confidence=0.24444444444444446, lift=1.547872290402972)]),\n",
       " RelationRecord(items=frozenset({'liquor (appetizer)', 'soda'}), support=0.0006683151774376796, ordered_statistics=[OrderedStatistic(items_base=frozenset({'liquor (appetizer)'}), items_add=frozenset({'soda'}), confidence=0.1492537313432836, lift=1.5370155416996232)]),\n",
       " RelationRecord(items=frozenset({'tropical fruit', 'mayonnaise'}), support=0.0006014836596939117, ordered_statistics=[OrderedStatistic(items_base=frozenset({'mayonnaise'}), items_add=frozenset({'tropical fruit'}), confidence=0.12000000000000001, lift=1.770769230769231)]),\n",
       " RelationRecord(items=frozenset({'pastry', 'napkins'}), support=0.0017376194613379669, ordered_statistics=[OrderedStatistic(items_base=frozenset({'napkins'}), items_add=frozenset({'pastry'}), confidence=0.07854984894259819, lift=1.5185289272972826)]),\n",
       " RelationRecord(items=frozenset({'pork', 'oil'}), support=0.0008688097306689834, ordered_statistics=[OrderedStatistic(items_base=frozenset({'oil'}), items_add=frozenset({'pork'}), confidence=0.05829596412556053, lift=1.5716802003797519)]),\n",
       " RelationRecord(items=frozenset({'pasta', 'pip fruit'}), support=0.0006683151774376796, ordered_statistics=[OrderedStatistic(items_base=frozenset({'pasta'}), items_add=frozenset({'pip fruit'}), confidence=0.08264462809917356, lift=1.6847569076947329)]),\n",
       " RelationRecord(items=frozenset({'pasta', 'sausage'}), support=0.0007351466951814476, ordered_statistics=[OrderedStatistic(items_base=frozenset({'pasta'}), items_add=frozenset({'sausage'}), confidence=0.09090909090909091, lift=1.5063928319742272)]),\n",
       " RelationRecord(items=frozenset({'sweet spreads', 'pip fruit'}), support=0.0005346521419501437, ordered_statistics=[OrderedStatistic(items_base=frozenset({'sweet spreads'}), items_add=frozenset({'pip fruit'}), confidence=0.11764705882352942, lift=2.398301009777208)]),\n",
       " RelationRecord(items=frozenset({'pip fruit', 'white wine'}), support=0.0008688097306689834, ordered_statistics=[OrderedStatistic(items_base=frozenset({'white wine'}), items_add=frozenset({'pip fruit'}), confidence=0.07428571428571429, lift=1.5143557804593226)]),\n",
       " RelationRecord(items=frozenset({'processed cheese', 'root vegetables'}), support=0.0010693042839002875, ordered_statistics=[OrderedStatistic(items_base=frozenset({'processed cheese'}), items_add=frozenset({'root vegetables'}), confidence=0.10526315789473686, lift=1.5130188583851563)]),\n",
       " RelationRecord(items=frozenset({'turkey', 'root vegetables'}), support=0.0006014836596939117, ordered_statistics=[OrderedStatistic(items_base=frozenset({'turkey'}), items_add=frozenset({'root vegetables'}), confidence=0.1125, lift=1.6170389048991354)]),\n",
       " RelationRecord(items=frozenset({'spices', 'soda'}), support=0.0006014836596939117, ordered_statistics=[OrderedStatistic(items_base=frozenset({'spices'}), items_add=frozenset({'soda'}), confidence=0.225, lift=2.317050929112182)]),\n",
       " RelationRecord(items=frozenset({'softener', 'whole milk'}), support=0.0008019782129252155, ordered_statistics=[OrderedStatistic(items_base=frozenset({'softener'}), items_add=frozenset({'whole milk'}), confidence=0.2926829268292683, lift=1.8533282412807202)]),\n",
       " RelationRecord(items=frozenset({'sweet spreads', 'tropical fruit'}), support=0.0007351466951814476, ordered_statistics=[OrderedStatistic(items_base=frozenset({'sweet spreads'}), items_add=frozenset({'tropical fruit'}), confidence=0.16176470588235295, lift=2.387066365007542)]),\n",
       " RelationRecord(items=frozenset({'other vegetables', 'sausage', 'shopping bags'}), support=0.0005346521419501437, ordered_statistics=[OrderedStatistic(items_base=frozenset({'other vegetables', 'sausage'}), items_add=frozenset({'shopping bags'}), confidence=0.0888888888888889, lift=1.8680399500624223), OrderedStatistic(items_base=frozenset({'other vegetables', 'shopping bags'}), items_add=frozenset({'sausage'}), confidence=0.10810810810810811, lift=1.791386070455838), OrderedStatistic(items_base=frozenset({'sausage', 'shopping bags'}), items_add=frozenset({'other vegetables'}), confidence=0.2758620689655173, lift=2.259290715890003)]),\n",
       " RelationRecord(items=frozenset({'tropical fruit', 'other vegetables', 'sausage'}), support=0.0006014836596939117, ordered_statistics=[OrderedStatistic(items_base=frozenset({'tropical fruit', 'other vegetables'}), items_add=frozenset({'sausage'}), confidence=0.09574468085106383, lift=1.5865201102707287), OrderedStatistic(items_base=frozenset({'tropical fruit', 'sausage'}), items_add=frozenset({'other vegetables'}), confidence=0.1956521739130435, lift=1.602377382737203)]),\n",
       " RelationRecord(items=frozenset({'pastry', 'sausage', 'soda'}), support=0.0005346521419501437, ordered_statistics=[OrderedStatistic(items_base=frozenset({'pastry', 'sausage'}), items_add=frozenset({'soda'}), confidence=0.16666666666666669, lift=1.7163340215645793), OrderedStatistic(items_base=frozenset({'pastry', 'soda'}), items_add=frozenset({'sausage'}), confidence=0.13114754098360656, lift=2.1731568723562624), OrderedStatistic(items_base=frozenset({'sausage', 'soda'}), items_add=frozenset({'pastry'}), confidence=0.08988764044943821, lift=1.737711581453416)]),\n",
       " RelationRecord(items=frozenset({'pastry', 'whole milk', 'sausage'}), support=0.0007351466951814476, ordered_statistics=[OrderedStatistic(items_base=frozenset({'pastry', 'whole milk'}), items_add=frozenset({'sausage'}), confidence=0.1134020618556701, lift=1.8791085842152733), OrderedStatistic(items_base=frozenset({'whole milk', 'sausage'}), items_add=frozenset({'pastry'}), confidence=0.08208955223880597, lift=1.586958617763894)]),\n",
       " RelationRecord(items=frozenset({'pastry', 'whole milk', 'soda'}), support=0.0009356412484127515, ordered_statistics=[OrderedStatistic(items_base=frozenset({'whole milk', 'soda'}), items_add=frozenset({'pastry'}), confidence=0.08045977011494253, lift=1.5554516023641927)]),\n",
       " RelationRecord(items=frozenset({'pork', 'whole milk', 'sausage'}), support=0.0006014836596939117, ordered_statistics=[OrderedStatistic(items_base=frozenset({'pork', 'sausage'}), items_add=frozenset({'whole milk'}), confidence=0.391304347826087, lift=2.4778192791035716), OrderedStatistic(items_base=frozenset({'pork', 'whole milk'}), items_add=frozenset({'sausage'}), confidence=0.12000000000000001, lift=1.9884385382059802), OrderedStatistic(items_base=frozenset({'whole milk', 'sausage'}), items_add=frozenset({'pork'}), confidence=0.06716417910447761, lift=1.810770471964502)]),\n",
       " RelationRecord(items=frozenset({'root vegetables', 'tropical fruit', 'rolls/buns'}), support=0.0006014836596939117, ordered_statistics=[OrderedStatistic(items_base=frozenset({'root vegetables', 'rolls/buns'}), items_add=frozenset({'tropical fruit'}), confidence=0.10465116279069768, lift=1.5442754919499109)]),\n",
       " RelationRecord(items=frozenset({'tropical fruit', 'rolls/buns', 'sausage'}), support=0.0006014836596939117, ordered_statistics=[OrderedStatistic(items_base=frozenset({'rolls/buns', 'sausage'}), items_add=frozenset({'tropical fruit'}), confidence=0.1125, lift=1.660096153846154), OrderedStatistic(items_base=frozenset({'tropical fruit', 'rolls/buns'}), items_add=frozenset({'sausage'}), confidence=0.0989010989010989, lift=1.6388229710488846), OrderedStatistic(items_base=frozenset({'tropical fruit', 'sausage'}), items_add=frozenset({'rolls/buns'}), confidence=0.1956521739130435, lift=1.7785804849701519)]),\n",
       " RelationRecord(items=frozenset({'soda', 'rolls/buns', 'shopping bags'}), support=0.0006683151774376796, ordered_statistics=[OrderedStatistic(items_base=frozenset({'rolls/buns', 'soda'}), items_add=frozenset({'shopping bags'}), confidence=0.08264462809917356, lift=1.7368140031572106)]),\n",
       " RelationRecord(items=frozenset({'yogurt', 'whipped/sour cream', 'rolls/buns'}), support=0.0006014836596939117, ordered_statistics=[OrderedStatistic(items_base=frozenset({'whipped/sour cream', 'rolls/buns'}), items_add=frozenset({'yogurt'}), confidence=0.20454545454545456, lift=2.3818004952246197), OrderedStatistic(items_base=frozenset({'yogurt', 'rolls/buns'}), items_add=frozenset({'whipped/sour cream'}), confidence=0.07692307692307693, lift=1.7599388379204894), OrderedStatistic(items_base=frozenset({'yogurt', 'whipped/sour cream'}), items_add=frozenset({'rolls/buns'}), confidence=0.20454545454545456, lift=1.859425052468795)]),\n",
       " RelationRecord(items=frozenset({'whole milk', 'rolls/buns', 'white bread'}), support=0.0006014836596939117, ordered_statistics=[OrderedStatistic(items_base=frozenset({'rolls/buns', 'white bread'}), items_add=frozenset({'whole milk'}), confidence=0.28125, lift=1.780932606855692), OrderedStatistic(items_base=frozenset({'whole milk', 'white bread'}), items_add=frozenset({'rolls/buns'}), confidence=0.19148936170212766, lift=1.7407383469920634)]),\n",
       " RelationRecord(items=frozenset({'root vegetables', 'sausage', 'soda'}), support=0.0006014836596939117, ordered_statistics=[OrderedStatistic(items_base=frozenset({'root vegetables', 'sausage'}), items_add=frozenset({'soda'}), confidence=0.18, lift=1.8536407432897455), OrderedStatistic(items_base=frozenset({'root vegetables', 'soda'}), items_add=frozenset({'sausage'}), confidence=0.11392405063291139, lift=1.8877581058917532)]),\n",
       " RelationRecord(items=frozenset({'whole milk', 'sausage', 'soda'}), support=0.0010693042839002875, ordered_statistics=[OrderedStatistic(items_base=frozenset({'whole milk', 'soda'}), items_add=frozenset({'sausage'}), confidence=0.09195402298850576, lift=1.5237076921118622)]),\n",
       " RelationRecord(items=frozenset({'yogurt', 'sausage', 'soda'}), support=0.0006683151774376796, ordered_statistics=[OrderedStatistic(items_base=frozenset({'yogurt', 'soda'}), items_add=frozenset({'sausage'}), confidence=0.11494252873563218, lift=1.9046346151398277)]),\n",
       " RelationRecord(items=frozenset({'yogurt', 'whole milk', 'sausage'}), support=0.0014702933903628951, ordered_statistics=[OrderedStatistic(items_base=frozenset({'whole milk', 'sausage'}), items_add=frozenset({'yogurt'}), confidence=0.16417910447761194, lift=1.9117602648237413), OrderedStatistic(items_base=frozenset({'yogurt', 'sausage'}), items_add=frozenset({'whole milk'}), confidence=0.2558139534883721, lift=1.6198663504217148), OrderedStatistic(items_base=frozenset({'yogurt', 'whole milk'}), items_add=frozenset({'sausage'}), confidence=0.1317365269461078, lift=2.1829165589087607)])]"
      ]
     },
     "execution_count": 185,
     "metadata": {},
     "output_type": "execute_result"
    }
   ],
   "source": [
    "rules = apriori(transaction_descriptions, min_support=0.0005,min_confidence = 0.05,min_lift = 1.5,min_length = 1.5)\n",
    "results = list(rules)\n",
    "results"
   ]
  },
  {
   "cell_type": "markdown",
   "id": "4e321766",
   "metadata": {},
   "source": [
    "--------------------------------------------------"
   ]
  },
  {
   "cell_type": "code",
   "execution_count": 186,
   "id": "5607cfb2",
   "metadata": {},
   "outputs": [],
   "source": [
    "def inspect(results):\n",
    "    rows = []\n",
    "    for result in results:\n",
    "        row = (\n",
    "            tuple(result.ordered_statistics[0].items_base),\n",
    "            tuple(result.ordered_statistics[0].items_add),\n",
    "            result.support,\n",
    "            result.ordered_statistics[0].confidence,\n",
    "            result.ordered_statistics[0].lift\n",
    "        )\n",
    "        rows.append(row)\n",
    "    return rows\n"
   ]
  },
  {
   "cell_type": "code",
   "execution_count": 187,
   "id": "084bc6a9",
   "metadata": {},
   "outputs": [],
   "source": [
    "results_df = pd.DataFrame(inspect(results), columns=['Left Hand Side', 'Right Hand Side', 'Support', 'Confidence', 'Lift'])"
   ]
  },
  {
   "cell_type": "code",
   "execution_count": 188,
   "id": "97da494b",
   "metadata": {
    "scrolled": true
   },
   "outputs": [
    {
     "data": {
      "text/html": [
       "<div>\n",
       "<style scoped>\n",
       "    .dataframe tbody tr th:only-of-type {\n",
       "        vertical-align: middle;\n",
       "    }\n",
       "\n",
       "    .dataframe tbody tr th {\n",
       "        vertical-align: top;\n",
       "    }\n",
       "\n",
       "    .dataframe thead th {\n",
       "        text-align: right;\n",
       "    }\n",
       "</style>\n",
       "<table border=\"1\" class=\"dataframe\">\n",
       "  <thead>\n",
       "    <tr style=\"text-align: right;\">\n",
       "      <th></th>\n",
       "      <th>Left Hand Side</th>\n",
       "      <th>Right Hand Side</th>\n",
       "      <th>Support</th>\n",
       "      <th>Confidence</th>\n",
       "      <th>Lift</th>\n",
       "    </tr>\n",
       "  </thead>\n",
       "  <tbody>\n",
       "    <tr>\n",
       "      <th>0</th>\n",
       "      <td>(artif. sweetener,)</td>\n",
       "      <td>(whole milk,)</td>\n",
       "      <td>0.000535</td>\n",
       "      <td>0.275862</td>\n",
       "      <td>1.746815</td>\n",
       "    </tr>\n",
       "    <tr>\n",
       "      <th>1</th>\n",
       "      <td>(baking powder,)</td>\n",
       "      <td>(canned beer,)</td>\n",
       "      <td>0.000601</td>\n",
       "      <td>0.074380</td>\n",
       "      <td>1.585399</td>\n",
       "    </tr>\n",
       "    <tr>\n",
       "      <th>2</th>\n",
       "      <td>(processed cheese,)</td>\n",
       "      <td>(beef,)</td>\n",
       "      <td>0.000535</td>\n",
       "      <td>0.052632</td>\n",
       "      <td>1.550249</td>\n",
       "    </tr>\n",
       "    <tr>\n",
       "      <th>3</th>\n",
       "      <td>(white wine,)</td>\n",
       "      <td>(beef,)</td>\n",
       "      <td>0.000601</td>\n",
       "      <td>0.051429</td>\n",
       "      <td>1.514814</td>\n",
       "    </tr>\n",
       "    <tr>\n",
       "      <th>4</th>\n",
       "      <td>(beverages,)</td>\n",
       "      <td>(sausage,)</td>\n",
       "      <td>0.001537</td>\n",
       "      <td>0.092742</td>\n",
       "      <td>1.536764</td>\n",
       "    </tr>\n",
       "  </tbody>\n",
       "</table>\n",
       "</div>"
      ],
      "text/plain": [
       "        Left Hand Side Right Hand Side   Support  Confidence      Lift\n",
       "0  (artif. sweetener,)   (whole milk,)  0.000535    0.275862  1.746815\n",
       "1     (baking powder,)  (canned beer,)  0.000601    0.074380  1.585399\n",
       "2  (processed cheese,)         (beef,)  0.000535    0.052632  1.550249\n",
       "3        (white wine,)         (beef,)  0.000601    0.051429  1.514814\n",
       "4         (beverages,)      (sausage,)  0.001537    0.092742  1.536764"
      ]
     },
     "execution_count": 188,
     "metadata": {},
     "output_type": "execute_result"
    }
   ],
   "source": [
    "results_df.head()"
   ]
  },
  {
   "cell_type": "code",
   "execution_count": 189,
   "id": "e3c0dc82",
   "metadata": {},
   "outputs": [
    {
     "data": {
      "text/html": [
       "<div>\n",
       "<style scoped>\n",
       "    .dataframe tbody tr th:only-of-type {\n",
       "        vertical-align: middle;\n",
       "    }\n",
       "\n",
       "    .dataframe tbody tr th {\n",
       "        vertical-align: top;\n",
       "    }\n",
       "\n",
       "    .dataframe thead th {\n",
       "        text-align: right;\n",
       "    }\n",
       "</style>\n",
       "<table border=\"1\" class=\"dataframe\">\n",
       "  <thead>\n",
       "    <tr style=\"text-align: right;\">\n",
       "      <th></th>\n",
       "      <th>Left Hand Side</th>\n",
       "      <th>Right Hand Side</th>\n",
       "      <th>Support</th>\n",
       "      <th>Confidence</th>\n",
       "      <th>Lift</th>\n",
       "    </tr>\n",
       "  </thead>\n",
       "  <tbody>\n",
       "    <tr>\n",
       "      <th>24</th>\n",
       "      <td>(pickled vegetables,)</td>\n",
       "      <td>(ham,)</td>\n",
       "      <td>0.000535</td>\n",
       "      <td>0.059701</td>\n",
       "      <td>3.489506</td>\n",
       "    </tr>\n",
       "    <tr>\n",
       "      <th>25</th>\n",
       "      <td>(soft cheese,)</td>\n",
       "      <td>(hamburger meat,)</td>\n",
       "      <td>0.000601</td>\n",
       "      <td>0.060000</td>\n",
       "      <td>2.745505</td>\n",
       "    </tr>\n",
       "    <tr>\n",
       "      <th>45</th>\n",
       "      <td>(pork, sausage)</td>\n",
       "      <td>(whole milk,)</td>\n",
       "      <td>0.000601</td>\n",
       "      <td>0.391304</td>\n",
       "      <td>2.477819</td>\n",
       "    </tr>\n",
       "    <tr>\n",
       "      <th>33</th>\n",
       "      <td>(sweet spreads,)</td>\n",
       "      <td>(pip fruit,)</td>\n",
       "      <td>0.000535</td>\n",
       "      <td>0.117647</td>\n",
       "      <td>2.398301</td>\n",
       "    </tr>\n",
       "    <tr>\n",
       "      <th>39</th>\n",
       "      <td>(sweet spreads,)</td>\n",
       "      <td>(tropical fruit,)</td>\n",
       "      <td>0.000735</td>\n",
       "      <td>0.161765</td>\n",
       "      <td>2.387066</td>\n",
       "    </tr>\n",
       "    <tr>\n",
       "      <th>49</th>\n",
       "      <td>(whipped/sour cream, rolls/buns)</td>\n",
       "      <td>(yogurt,)</td>\n",
       "      <td>0.000601</td>\n",
       "      <td>0.204545</td>\n",
       "      <td>2.381800</td>\n",
       "    </tr>\n",
       "    <tr>\n",
       "      <th>37</th>\n",
       "      <td>(spices,)</td>\n",
       "      <td>(soda,)</td>\n",
       "      <td>0.000601</td>\n",
       "      <td>0.225000</td>\n",
       "      <td>2.317051</td>\n",
       "    </tr>\n",
       "    <tr>\n",
       "      <th>20</th>\n",
       "      <td>(mustard,)</td>\n",
       "      <td>(frankfurter,)</td>\n",
       "      <td>0.000535</td>\n",
       "      <td>0.086957</td>\n",
       "      <td>2.302886</td>\n",
       "    </tr>\n",
       "    <tr>\n",
       "      <th>6</th>\n",
       "      <td>(brandy,)</td>\n",
       "      <td>(whole milk,)</td>\n",
       "      <td>0.000869</td>\n",
       "      <td>0.342105</td>\n",
       "      <td>2.166281</td>\n",
       "    </tr>\n",
       "    <tr>\n",
       "      <th>54</th>\n",
       "      <td>(whole milk, sausage)</td>\n",
       "      <td>(yogurt,)</td>\n",
       "      <td>0.001470</td>\n",
       "      <td>0.164179</td>\n",
       "      <td>1.911760</td>\n",
       "    </tr>\n",
       "  </tbody>\n",
       "</table>\n",
       "</div>"
      ],
      "text/plain": [
       "                      Left Hand Side    Right Hand Side   Support  Confidence  \\\n",
       "24             (pickled vegetables,)             (ham,)  0.000535    0.059701   \n",
       "25                    (soft cheese,)  (hamburger meat,)  0.000601    0.060000   \n",
       "45                   (pork, sausage)      (whole milk,)  0.000601    0.391304   \n",
       "33                  (sweet spreads,)       (pip fruit,)  0.000535    0.117647   \n",
       "39                  (sweet spreads,)  (tropical fruit,)  0.000735    0.161765   \n",
       "49  (whipped/sour cream, rolls/buns)          (yogurt,)  0.000601    0.204545   \n",
       "37                         (spices,)            (soda,)  0.000601    0.225000   \n",
       "20                        (mustard,)     (frankfurter,)  0.000535    0.086957   \n",
       "6                          (brandy,)      (whole milk,)  0.000869    0.342105   \n",
       "54             (whole milk, sausage)          (yogurt,)  0.001470    0.164179   \n",
       "\n",
       "        Lift  \n",
       "24  3.489506  \n",
       "25  2.745505  \n",
       "45  2.477819  \n",
       "33  2.398301  \n",
       "39  2.387066  \n",
       "49  2.381800  \n",
       "37  2.317051  \n",
       "20  2.302886  \n",
       "6   2.166281  \n",
       "54  1.911760  "
      ]
     },
     "execution_count": 189,
     "metadata": {},
     "output_type": "execute_result"
    }
   ],
   "source": [
    "top_rules = results_df.loc[results_df['Lift'].nlargest(10).index]\n",
    "top_rules"
   ]
  },
  {
   "cell_type": "code",
   "execution_count": null,
   "id": "48debde7",
   "metadata": {},
   "outputs": [],
   "source": []
  }
 ],
 "metadata": {
  "kernelspec": {
   "display_name": "Python 3 (ipykernel)",
   "language": "python",
   "name": "python3"
  },
  "language_info": {
   "codemirror_mode": {
    "name": "ipython",
    "version": 3
   },
   "file_extension": ".py",
   "mimetype": "text/x-python",
   "name": "python",
   "nbconvert_exporter": "python",
   "pygments_lexer": "ipython3",
   "version": "3.11.5"
  }
 },
 "nbformat": 4,
 "nbformat_minor": 5
}
