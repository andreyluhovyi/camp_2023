{
 "cells": [
  {
   "cell_type": "code",
   "execution_count": 1,
   "id": "252a48ac",
   "metadata": {},
   "outputs": [],
   "source": [
    "def max_attempts_optimized(num_glasses, num_floors):\n",
    "    def calculate_attempts(glasses, floors, memo):\n",
    "        if not floors:\n",
    "            return 0\n",
    "\n",
    "        if (glasses, floors) in memo:\n",
    "            return memo[(glasses, floors)]\n",
    "\n",
    "        attempts = 1\n",
    "        if glasses > 1:\n",
    "            attempts += calculate_attempts(glasses - 1, floors - 1, memo)\n",
    "        attempts += calculate_attempts(glasses, floors - 1, memo)\n",
    "\n",
    "        memo[(glasses, floors)] = attempts\n",
    "        return attempts\n",
    "\n",
    "    memo = {}\n",
    "    left, right = 1, num_floors\n",
    "\n",
    "    while left < right:\n",
    "        mid = (left + right) // 2\n",
    "        current_attempts = calculate_attempts(num_glasses, mid, memo)\n",
    "\n",
    "        if current_attempts < num_floors:\n",
    "            left = mid + 1\n",
    "        else:\n",
    "            right = mid\n",
    "\n",
    "    return left"
   ]
  },
  {
   "cell_type": "code",
   "execution_count": 2,
   "id": "6a21144e",
   "metadata": {},
   "outputs": [
    {
     "name": "stdout",
     "output_type": "stream",
     "text": [
      "Для 2 склянок і 100 поверхів максимальна кількість спроб складає 14.\n"
     ]
    }
   ],
   "source": [
    "num_glasses = 2\n",
    "num_floors = 100\n",
    "max_attempts_val = max_attempts_optimized(num_glasses, num_floors)\n",
    "print(f\"Для {num_glasses} склянок і {num_floors} поверхів максимальна кількість спроб складає {max_attempts_val}.\")"
   ]
  },
  {
   "cell_type": "code",
   "execution_count": 3,
   "id": "8462ff95",
   "metadata": {},
   "outputs": [
    {
     "name": "stdout",
     "output_type": "stream",
     "text": [
      "Для 3 склянок і 1000 поверхів максимальна кількість спроб складає 19.\n"
     ]
    }
   ],
   "source": [
    "num_glasses = 3\n",
    "num_floors = 1000\n",
    "max_attempts_val = max_attempts_optimized(num_glasses, num_floors)\n",
    "print(f\"Для {num_glasses} склянок і {num_floors} поверхів максимальна кількість спроб складає {max_attempts_val}.\")"
   ]
  },
  {
   "cell_type": "code",
   "execution_count": 4,
   "id": "3a36ca0e",
   "metadata": {},
   "outputs": [
    {
     "name": "stdout",
     "output_type": "stream",
     "text": [
      "Для 5 склянок і 1000 поверхів максимальна кількість спроб складає 11.\n"
     ]
    }
   ],
   "source": [
    "num_glasses = 5\n",
    "num_floors = 1000\n",
    "max_attempts_val = max_attempts_optimized(num_glasses, num_floors)\n",
    "print(f\"Для {num_glasses} склянок і {num_floors} поверхів максимальна кількість спроб складає {max_attempts_val}.\")"
   ]
  },
  {
   "cell_type": "code",
   "execution_count": null,
   "id": "8fe3ffc9",
   "metadata": {},
   "outputs": [],
   "source": []
  },
  {
   "cell_type": "code",
   "execution_count": null,
   "id": "78cb5601",
   "metadata": {},
   "outputs": [],
   "source": []
  }
 ],
 "metadata": {
  "kernelspec": {
   "display_name": "Python 3 (ipykernel)",
   "language": "python",
   "name": "python3"
  },
  "language_info": {
   "codemirror_mode": {
    "name": "ipython",
    "version": 3
   },
   "file_extension": ".py",
   "mimetype": "text/x-python",
   "name": "python",
   "nbconvert_exporter": "python",
   "pygments_lexer": "ipython3",
   "version": "3.11.5"
  }
 },
 "nbformat": 4,
 "nbformat_minor": 5
}
